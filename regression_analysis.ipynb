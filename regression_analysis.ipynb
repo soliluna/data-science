{
 "cells": [
  {
   "cell_type": "code",
   "execution_count": 212,
   "metadata": {
    "id": "UWmQFGNkTwdV"
   },
   "outputs": [],
   "source": [
    "# для обработки данных\n",
    "import numpy as np\n",
    "import pandas as pd\n",
    "from scipy import stats\n",
    "\n",
    "# для визуализации\n",
    "import matplotlib.pyplot as plt\n",
    "import seaborn as sns\n",
    "import plotly.graph_objects as go\n",
    "\n",
    "# для построения моделей\n",
    "from sklearn.model_selection import train_test_split\n",
    "from sklearn.linear_model import LinearRegression\n",
    "from sklearn.linear_model import Ridge\n",
    "from sklearn.linear_model import Lasso\n",
    "from sklearn.model_selection import GridSearchCV\n",
    "from sklearn.feature_selection import f_regression\n",
    "from sklearn.preprocessing import PolynomialFeatures\n",
    "\n",
    "# метрики\n",
    "from sklearn.metrics import mean_squared_error, mean_absolute_error\n",
    "from sklearn.metrics import mean_absolute_percentage_error\n",
    "from sklearn.metrics import r2_score"
   ]
  },
  {
   "cell_type": "markdown",
   "metadata": {
    "id": "xMzS4lUzjAby"
   },
   "source": [
    "# **1. Предварительная обработка данных**\n",
    "\n",
    "\n",
    "---\n",
    "\n",
    "\n",
    "Раздел включает в себя:\n",
    "* обзор данных;\n",
    "* определение типов признаков (зависимой переменной и независимых переменных);\n",
    "* удаление заведомо незначимых переменных;\n",
    "* обработку пропусков и категориальных переменных.\n"
   ]
  },
  {
   "cell_type": "markdown",
   "metadata": {
    "id": "KOyQhilP5QH3"
   },
   "source": [
    "## Обзор данных"
   ]
  },
  {
   "cell_type": "code",
   "execution_count": 2,
   "metadata": {
    "colab": {
     "base_uri": "https://localhost:8080/",
     "height": 299
    },
    "id": "onNAUfetf-x_",
    "outputId": "7ff2228b-a9a1-46f5-d507-064c894d5bfd"
   },
   "outputs": [
    {
     "data": {
      "text/html": [
       "\n",
       "  <div id=\"df-13850450-a219-470b-9193-66184325921e\">\n",
       "    <div class=\"colab-df-container\">\n",
       "      <div>\n",
       "<style scoped>\n",
       "    .dataframe tbody tr th:only-of-type {\n",
       "        vertical-align: middle;\n",
       "    }\n",
       "\n",
       "    .dataframe tbody tr th {\n",
       "        vertical-align: top;\n",
       "    }\n",
       "\n",
       "    .dataframe thead th {\n",
       "        text-align: right;\n",
       "    }\n",
       "</style>\n",
       "<table border=\"1\" class=\"dataframe\">\n",
       "  <thead>\n",
       "    <tr style=\"text-align: right;\">\n",
       "      <th></th>\n",
       "      <th>full_sq</th>\n",
       "      <th>life_sq</th>\n",
       "      <th>floor</th>\n",
       "      <th>max_floor</th>\n",
       "      <th>material</th>\n",
       "      <th>build_year</th>\n",
       "      <th>num_room</th>\n",
       "      <th>kitch_sq</th>\n",
       "      <th>sub_area</th>\n",
       "      <th>area_m</th>\n",
       "      <th>...</th>\n",
       "      <th>metro_min_walk</th>\n",
       "      <th>metro_km_walk</th>\n",
       "      <th>mkad_km</th>\n",
       "      <th>kremlin_km</th>\n",
       "      <th>green_part_1000</th>\n",
       "      <th>prom_part_1000</th>\n",
       "      <th>office_count_1000</th>\n",
       "      <th>trc_count_1000</th>\n",
       "      <th>leisure_count_1000</th>\n",
       "      <th>price_doc</th>\n",
       "    </tr>\n",
       "  </thead>\n",
       "  <tbody>\n",
       "    <tr>\n",
       "      <th>0</th>\n",
       "      <td>38</td>\n",
       "      <td>18.0</td>\n",
       "      <td>1.0</td>\n",
       "      <td>14.0</td>\n",
       "      <td>panel</td>\n",
       "      <td>1971.0</td>\n",
       "      <td>1.0</td>\n",
       "      <td>9.0</td>\n",
       "      <td>Dmitrovskoe</td>\n",
       "      <td>7.126815e+06</td>\n",
       "      <td>...</td>\n",
       "      <td>27.084184</td>\n",
       "      <td>2.257015</td>\n",
       "      <td>2.442781</td>\n",
       "      <td>14.856442</td>\n",
       "      <td>17.16</td>\n",
       "      <td>10.33</td>\n",
       "      <td>2</td>\n",
       "      <td>4</td>\n",
       "      <td>0</td>\n",
       "      <td>5150000</td>\n",
       "    </tr>\n",
       "    <tr>\n",
       "      <th>1</th>\n",
       "      <td>41</td>\n",
       "      <td>17.0</td>\n",
       "      <td>14.0</td>\n",
       "      <td>16.0</td>\n",
       "      <td>panel</td>\n",
       "      <td>1978.0</td>\n",
       "      <td>1.0</td>\n",
       "      <td>10.0</td>\n",
       "      <td>Savelovskoe</td>\n",
       "      <td>2.641243e+06</td>\n",
       "      <td>...</td>\n",
       "      <td>13.719174</td>\n",
       "      <td>1.143264</td>\n",
       "      <td>11.528984</td>\n",
       "      <td>5.323699</td>\n",
       "      <td>0.90</td>\n",
       "      <td>39.48</td>\n",
       "      <td>17</td>\n",
       "      <td>3</td>\n",
       "      <td>0</td>\n",
       "      <td>5980000</td>\n",
       "    </tr>\n",
       "    <tr>\n",
       "      <th>2</th>\n",
       "      <td>41</td>\n",
       "      <td>20.0</td>\n",
       "      <td>11.0</td>\n",
       "      <td>14.0</td>\n",
       "      <td>panel</td>\n",
       "      <td>1989.0</td>\n",
       "      <td>1.0</td>\n",
       "      <td>8.0</td>\n",
       "      <td>Krjukovo</td>\n",
       "      <td>1.084231e+07</td>\n",
       "      <td>...</td>\n",
       "      <td>276.453594</td>\n",
       "      <td>23.037800</td>\n",
       "      <td>20.828299</td>\n",
       "      <td>38.988909</td>\n",
       "      <td>7.54</td>\n",
       "      <td>6.64</td>\n",
       "      <td>0</td>\n",
       "      <td>2</td>\n",
       "      <td>0</td>\n",
       "      <td>4600000</td>\n",
       "    </tr>\n",
       "    <tr>\n",
       "      <th>3</th>\n",
       "      <td>38</td>\n",
       "      <td>19.0</td>\n",
       "      <td>6.0</td>\n",
       "      <td>17.0</td>\n",
       "      <td>panel</td>\n",
       "      <td>1986.0</td>\n",
       "      <td>1.0</td>\n",
       "      <td>8.0</td>\n",
       "      <td>Brateevo</td>\n",
       "      <td>7.587523e+06</td>\n",
       "      <td>...</td>\n",
       "      <td>14.085660</td>\n",
       "      <td>1.173805</td>\n",
       "      <td>2.885041</td>\n",
       "      <td>14.921056</td>\n",
       "      <td>24.97</td>\n",
       "      <td>0.00</td>\n",
       "      <td>0</td>\n",
       "      <td>5</td>\n",
       "      <td>0</td>\n",
       "      <td>5650000</td>\n",
       "    </tr>\n",
       "    <tr>\n",
       "      <th>4</th>\n",
       "      <td>58</td>\n",
       "      <td>37.0</td>\n",
       "      <td>3.0</td>\n",
       "      <td>9.0</td>\n",
       "      <td>panel</td>\n",
       "      <td>1968.0</td>\n",
       "      <td>3.0</td>\n",
       "      <td>6.0</td>\n",
       "      <td>Novogireevo</td>\n",
       "      <td>4.395333e+06</td>\n",
       "      <td>...</td>\n",
       "      <td>5.455795</td>\n",
       "      <td>0.454650</td>\n",
       "      <td>1.920884</td>\n",
       "      <td>11.812614</td>\n",
       "      <td>3.46</td>\n",
       "      <td>5.41</td>\n",
       "      <td>0</td>\n",
       "      <td>4</td>\n",
       "      <td>4</td>\n",
       "      <td>9300000</td>\n",
       "    </tr>\n",
       "  </tbody>\n",
       "</table>\n",
       "<p>5 rows × 36 columns</p>\n",
       "</div>\n",
       "      <button class=\"colab-df-convert\" onclick=\"convertToInteractive('df-13850450-a219-470b-9193-66184325921e')\"\n",
       "              title=\"Convert this dataframe to an interactive table.\"\n",
       "              style=\"display:none;\">\n",
       "        \n",
       "  <svg xmlns=\"http://www.w3.org/2000/svg\" height=\"24px\"viewBox=\"0 0 24 24\"\n",
       "       width=\"24px\">\n",
       "    <path d=\"M0 0h24v24H0V0z\" fill=\"none\"/>\n",
       "    <path d=\"M18.56 5.44l.94 2.06.94-2.06 2.06-.94-2.06-.94-.94-2.06-.94 2.06-2.06.94zm-11 1L8.5 8.5l.94-2.06 2.06-.94-2.06-.94L8.5 2.5l-.94 2.06-2.06.94zm10 10l.94 2.06.94-2.06 2.06-.94-2.06-.94-.94-2.06-.94 2.06-2.06.94z\"/><path d=\"M17.41 7.96l-1.37-1.37c-.4-.4-.92-.59-1.43-.59-.52 0-1.04.2-1.43.59L10.3 9.45l-7.72 7.72c-.78.78-.78 2.05 0 2.83L4 21.41c.39.39.9.59 1.41.59.51 0 1.02-.2 1.41-.59l7.78-7.78 2.81-2.81c.8-.78.8-2.07 0-2.86zM5.41 20L4 18.59l7.72-7.72 1.47 1.35L5.41 20z\"/>\n",
       "  </svg>\n",
       "      </button>\n",
       "      \n",
       "  <style>\n",
       "    .colab-df-container {\n",
       "      display:flex;\n",
       "      flex-wrap:wrap;\n",
       "      gap: 12px;\n",
       "    }\n",
       "\n",
       "    .colab-df-convert {\n",
       "      background-color: #E8F0FE;\n",
       "      border: none;\n",
       "      border-radius: 50%;\n",
       "      cursor: pointer;\n",
       "      display: none;\n",
       "      fill: #1967D2;\n",
       "      height: 32px;\n",
       "      padding: 0 0 0 0;\n",
       "      width: 32px;\n",
       "    }\n",
       "\n",
       "    .colab-df-convert:hover {\n",
       "      background-color: #E2EBFA;\n",
       "      box-shadow: 0px 1px 2px rgba(60, 64, 67, 0.3), 0px 1px 3px 1px rgba(60, 64, 67, 0.15);\n",
       "      fill: #174EA6;\n",
       "    }\n",
       "\n",
       "    [theme=dark] .colab-df-convert {\n",
       "      background-color: #3B4455;\n",
       "      fill: #D2E3FC;\n",
       "    }\n",
       "\n",
       "    [theme=dark] .colab-df-convert:hover {\n",
       "      background-color: #434B5C;\n",
       "      box-shadow: 0px 1px 3px 1px rgba(0, 0, 0, 0.15);\n",
       "      filter: drop-shadow(0px 1px 2px rgba(0, 0, 0, 0.3));\n",
       "      fill: #FFFFFF;\n",
       "    }\n",
       "  </style>\n",
       "\n",
       "      <script>\n",
       "        const buttonEl =\n",
       "          document.querySelector('#df-13850450-a219-470b-9193-66184325921e button.colab-df-convert');\n",
       "        buttonEl.style.display =\n",
       "          google.colab.kernel.accessAllowed ? 'block' : 'none';\n",
       "\n",
       "        async function convertToInteractive(key) {\n",
       "          const element = document.querySelector('#df-13850450-a219-470b-9193-66184325921e');\n",
       "          const dataTable =\n",
       "            await google.colab.kernel.invokeFunction('convertToInteractive',\n",
       "                                                     [key], {});\n",
       "          if (!dataTable) return;\n",
       "\n",
       "          const docLinkHtml = 'Like what you see? Visit the ' +\n",
       "            '<a target=\"_blank\" href=https://colab.research.google.com/notebooks/data_table.ipynb>data table notebook</a>'\n",
       "            + ' to learn more about interactive tables.';\n",
       "          element.innerHTML = '';\n",
       "          dataTable['output_type'] = 'display_data';\n",
       "          await google.colab.output.renderOutput(dataTable, element);\n",
       "          const docLink = document.createElement('div');\n",
       "          docLink.innerHTML = docLinkHtml;\n",
       "          element.appendChild(docLink);\n",
       "        }\n",
       "      </script>\n",
       "    </div>\n",
       "  </div>\n",
       "  "
      ],
      "text/plain": [
       "   full_sq  life_sq  floor  max_floor material  build_year  num_room  \\\n",
       "0       38     18.0    1.0       14.0    panel      1971.0       1.0   \n",
       "1       41     17.0   14.0       16.0    panel      1978.0       1.0   \n",
       "2       41     20.0   11.0       14.0    panel      1989.0       1.0   \n",
       "3       38     19.0    6.0       17.0    panel      1986.0       1.0   \n",
       "4       58     37.0    3.0        9.0    panel      1968.0       3.0   \n",
       "\n",
       "   kitch_sq     sub_area        area_m  ...  metro_min_walk  metro_km_walk  \\\n",
       "0       9.0  Dmitrovskoe  7.126815e+06  ...       27.084184       2.257015   \n",
       "1      10.0  Savelovskoe  2.641243e+06  ...       13.719174       1.143264   \n",
       "2       8.0     Krjukovo  1.084231e+07  ...      276.453594      23.037800   \n",
       "3       8.0     Brateevo  7.587523e+06  ...       14.085660       1.173805   \n",
       "4       6.0  Novogireevo  4.395333e+06  ...        5.455795       0.454650   \n",
       "\n",
       "     mkad_km  kremlin_km  green_part_1000  prom_part_1000  office_count_1000  \\\n",
       "0   2.442781   14.856442            17.16           10.33                  2   \n",
       "1  11.528984    5.323699             0.90           39.48                 17   \n",
       "2  20.828299   38.988909             7.54            6.64                  0   \n",
       "3   2.885041   14.921056            24.97            0.00                  0   \n",
       "4   1.920884   11.812614             3.46            5.41                  0   \n",
       "\n",
       "  trc_count_1000 leisure_count_1000  price_doc  \n",
       "0              4                  0    5150000  \n",
       "1              3                  0    5980000  \n",
       "2              2                  0    4600000  \n",
       "3              5                  0    5650000  \n",
       "4              4                  4    9300000  \n",
       "\n",
       "[5 rows x 36 columns]"
      ]
     },
     "execution_count": 2,
     "metadata": {},
     "output_type": "execute_result"
    }
   ],
   "source": [
    "housing = pd.read_csv('housing.csv')\n",
    "housing.head(5)"
   ]
  },
  {
   "cell_type": "code",
   "execution_count": 3,
   "metadata": {
    "colab": {
     "base_uri": "https://localhost:8080/"
    },
    "id": "02NJQJ_elU2Q",
    "outputId": "0541cf39-3438-4db8-b981-abf2934b7884"
   },
   "outputs": [
    {
     "data": {
      "text/plain": [
       "(8894, 36)"
      ]
     },
     "execution_count": 3,
     "metadata": {},
     "output_type": "execute_result"
    }
   ],
   "source": [
    "# размерность данных\n",
    "housing.shape"
   ]
  },
  {
   "cell_type": "code",
   "execution_count": 4,
   "metadata": {
    "colab": {
     "base_uri": "https://localhost:8080/"
    },
    "id": "_W3OiWEilUuT",
    "outputId": "9016253b-a52c-4af6-eb43-1a01200b0688"
   },
   "outputs": [
    {
     "name": "stdout",
     "output_type": "stream",
     "text": [
      "<class 'pandas.core.frame.DataFrame'>\n",
      "RangeIndex: 8894 entries, 0 to 8893\n",
      "Data columns (total 36 columns):\n",
      " #   Column              Non-Null Count  Dtype  \n",
      "---  ------              --------------  -----  \n",
      " 0   full_sq             8894 non-null   int64  \n",
      " 1   life_sq             8894 non-null   float64\n",
      " 2   floor               8894 non-null   float64\n",
      " 3   max_floor           8894 non-null   float64\n",
      " 4   material            8894 non-null   object \n",
      " 5   build_year          8859 non-null   float64\n",
      " 6   num_room            8894 non-null   float64\n",
      " 7   kitch_sq            8894 non-null   float64\n",
      " 8   sub_area            8894 non-null   object \n",
      " 9   area_m              8894 non-null   float64\n",
      " 10  green_zone_part     8894 non-null   float64\n",
      " 11  indust_part         8894 non-null   float64\n",
      " 12  preschool           8894 non-null   int64  \n",
      " 13  school              8894 non-null   int64  \n",
      " 14  healthcare          8894 non-null   int64  \n",
      " 15  shopping            8894 non-null   int64  \n",
      " 16  office              8894 non-null   int64  \n",
      " 17  radiation           8894 non-null   object \n",
      " 18  detention           8894 non-null   object \n",
      " 19  young               8894 non-null   int64  \n",
      " 20  work                8894 non-null   int64  \n",
      " 21  elder               8894 non-null   int64  \n",
      " 22  0_6_age             8894 non-null   int64  \n",
      " 23  7_14_age            8894 non-null   int64  \n",
      " 24  metro_min_avto      8894 non-null   float64\n",
      " 25  metro_km_avto       8894 non-null   float64\n",
      " 26  metro_min_walk      8883 non-null   float64\n",
      " 27  metro_km_walk       8883 non-null   float64\n",
      " 28  mkad_km             8894 non-null   float64\n",
      " 29  kremlin_km          8894 non-null   float64\n",
      " 30  green_part_1000     8894 non-null   float64\n",
      " 31  prom_part_1000      8894 non-null   float64\n",
      " 32  office_count_1000   8894 non-null   int64  \n",
      " 33  trc_count_1000      8894 non-null   int64  \n",
      " 34  leisure_count_1000  8894 non-null   int64  \n",
      " 35  price_doc           8894 non-null   int64  \n",
      "dtypes: float64(17), int64(15), object(4)\n",
      "memory usage: 2.4+ MB\n"
     ]
    }
   ],
   "source": [
    "housing.info()"
   ]
  },
  {
   "cell_type": "markdown",
   "metadata": {
    "id": "ro2mqR_v1YMH"
   },
   "source": [
    "**Вывод по краткому обзору данных:** \n",
    "1. Наш датафрейм имеет $8\\ 894$ строк и $36$ колонок (переменных). \n",
    "2. Названия переменных соответствуют их смыслу, поэтому нет необходимости в их переименовывании.\n",
    "3. Большинство переменных — числовые. Кроме того, можно увидеть, что некоторые переменные имеют отсутствующие значения, а именно: `build_year`, `metro_min_walk`, `metro_km_walk`.\n",
    "4. Обнаружены $4$ категориальные переменные: `material`, `sub_area`, `radiation` и `detention`."
   ]
  },
  {
   "cell_type": "markdown",
   "metadata": {
    "id": "XYEuuYK65Uso"
   },
   "source": [
    "## Анализ переменных"
   ]
  },
  {
   "cell_type": "code",
   "execution_count": 5,
   "metadata": {
    "colab": {
     "base_uri": "https://localhost:8080/",
     "height": 394
    },
    "id": "Ig1-YKL-pRL6",
    "outputId": "d0950bb7-69ce-4449-b098-f3796860d67b"
   },
   "outputs": [
    {
     "data": {
      "text/html": [
       "\n",
       "  <div id=\"df-e488841a-3de9-456a-9ac0-f2d73df7dd01\">\n",
       "    <div class=\"colab-df-container\">\n",
       "      <div>\n",
       "<style scoped>\n",
       "    .dataframe tbody tr th:only-of-type {\n",
       "        vertical-align: middle;\n",
       "    }\n",
       "\n",
       "    .dataframe tbody tr th {\n",
       "        vertical-align: top;\n",
       "    }\n",
       "\n",
       "    .dataframe thead th {\n",
       "        text-align: right;\n",
       "    }\n",
       "</style>\n",
       "<table border=\"1\" class=\"dataframe\">\n",
       "  <thead>\n",
       "    <tr style=\"text-align: right;\">\n",
       "      <th></th>\n",
       "      <th>full_sq</th>\n",
       "      <th>life_sq</th>\n",
       "      <th>floor</th>\n",
       "      <th>max_floor</th>\n",
       "      <th>build_year</th>\n",
       "      <th>num_room</th>\n",
       "      <th>kitch_sq</th>\n",
       "      <th>area_m</th>\n",
       "      <th>green_zone_part</th>\n",
       "      <th>indust_part</th>\n",
       "      <th>...</th>\n",
       "      <th>metro_min_walk</th>\n",
       "      <th>metro_km_walk</th>\n",
       "      <th>mkad_km</th>\n",
       "      <th>kremlin_km</th>\n",
       "      <th>green_part_1000</th>\n",
       "      <th>prom_part_1000</th>\n",
       "      <th>office_count_1000</th>\n",
       "      <th>trc_count_1000</th>\n",
       "      <th>leisure_count_1000</th>\n",
       "      <th>price_doc</th>\n",
       "    </tr>\n",
       "  </thead>\n",
       "  <tbody>\n",
       "    <tr>\n",
       "      <th>count</th>\n",
       "      <td>8894.000000</td>\n",
       "      <td>8894.000000</td>\n",
       "      <td>8894.000000</td>\n",
       "      <td>8894.000000</td>\n",
       "      <td>8859.000000</td>\n",
       "      <td>8894.000000</td>\n",
       "      <td>8894.000000</td>\n",
       "      <td>8.894000e+03</td>\n",
       "      <td>8894.000000</td>\n",
       "      <td>8894.000000</td>\n",
       "      <td>...</td>\n",
       "      <td>8883.000000</td>\n",
       "      <td>8883.000000</td>\n",
       "      <td>8894.000000</td>\n",
       "      <td>8894.000000</td>\n",
       "      <td>8894.000000</td>\n",
       "      <td>8894.000000</td>\n",
       "      <td>8894.000000</td>\n",
       "      <td>8894.000000</td>\n",
       "      <td>8894.000000</td>\n",
       "      <td>8.894000e+03</td>\n",
       "    </tr>\n",
       "    <tr>\n",
       "      <th>mean</th>\n",
       "      <td>51.724196</td>\n",
       "      <td>30.417248</td>\n",
       "      <td>6.733303</td>\n",
       "      <td>12.186755</td>\n",
       "      <td>1974.139745</td>\n",
       "      <td>1.952665</td>\n",
       "      <td>7.716101</td>\n",
       "      <td>1.108296e+07</td>\n",
       "      <td>0.189023</td>\n",
       "      <td>0.127519</td>\n",
       "      <td>...</td>\n",
       "      <td>31.475028</td>\n",
       "      <td>2.622919</td>\n",
       "      <td>5.531550</td>\n",
       "      <td>13.630503</td>\n",
       "      <td>14.796778</td>\n",
       "      <td>8.982299</td>\n",
       "      <td>2.933101</td>\n",
       "      <td>2.072296</td>\n",
       "      <td>0.360243</td>\n",
       "      <td>7.807093e+06</td>\n",
       "    </tr>\n",
       "    <tr>\n",
       "      <th>std</th>\n",
       "      <td>20.039067</td>\n",
       "      <td>13.506626</td>\n",
       "      <td>4.800781</td>\n",
       "      <td>5.639183</td>\n",
       "      <td>115.094557</td>\n",
       "      <td>0.862990</td>\n",
       "      <td>2.818154</td>\n",
       "      <td>1.051812e+07</td>\n",
       "      <td>0.161092</td>\n",
       "      <td>0.122523</td>\n",
       "      <td>...</td>\n",
       "      <td>54.975459</td>\n",
       "      <td>4.581288</td>\n",
       "      <td>4.445240</td>\n",
       "      <td>7.044961</td>\n",
       "      <td>12.579365</td>\n",
       "      <td>12.022843</td>\n",
       "      <td>7.307584</td>\n",
       "      <td>2.235402</td>\n",
       "      <td>1.239451</td>\n",
       "      <td>5.024875e+06</td>\n",
       "    </tr>\n",
       "    <tr>\n",
       "      <th>min</th>\n",
       "      <td>12.000000</td>\n",
       "      <td>0.000000</td>\n",
       "      <td>0.000000</td>\n",
       "      <td>1.000000</td>\n",
       "      <td>0.000000</td>\n",
       "      <td>0.000000</td>\n",
       "      <td>0.000000</td>\n",
       "      <td>2.081628e+06</td>\n",
       "      <td>0.001879</td>\n",
       "      <td>0.000000</td>\n",
       "      <td>...</td>\n",
       "      <td>0.000000</td>\n",
       "      <td>0.000000</td>\n",
       "      <td>0.093326</td>\n",
       "      <td>0.072897</td>\n",
       "      <td>0.000000</td>\n",
       "      <td>0.000000</td>\n",
       "      <td>0.000000</td>\n",
       "      <td>0.000000</td>\n",
       "      <td>0.000000</td>\n",
       "      <td>1.000000e+05</td>\n",
       "    </tr>\n",
       "    <tr>\n",
       "      <th>25%</th>\n",
       "      <td>38.000000</td>\n",
       "      <td>19.000000</td>\n",
       "      <td>3.000000</td>\n",
       "      <td>9.000000</td>\n",
       "      <td>1966.000000</td>\n",
       "      <td>1.000000</td>\n",
       "      <td>6.000000</td>\n",
       "      <td>5.686537e+06</td>\n",
       "      <td>0.063755</td>\n",
       "      <td>0.033494</td>\n",
       "      <td>...</td>\n",
       "      <td>9.904819</td>\n",
       "      <td>0.825402</td>\n",
       "      <td>2.315584</td>\n",
       "      <td>9.296152</td>\n",
       "      <td>5.440000</td>\n",
       "      <td>0.000000</td>\n",
       "      <td>0.000000</td>\n",
       "      <td>0.000000</td>\n",
       "      <td>0.000000</td>\n",
       "      <td>5.450861e+06</td>\n",
       "    </tr>\n",
       "    <tr>\n",
       "      <th>50%</th>\n",
       "      <td>45.000000</td>\n",
       "      <td>29.000000</td>\n",
       "      <td>5.000000</td>\n",
       "      <td>12.000000</td>\n",
       "      <td>1976.000000</td>\n",
       "      <td>2.000000</td>\n",
       "      <td>8.000000</td>\n",
       "      <td>8.464344e+06</td>\n",
       "      <td>0.133373</td>\n",
       "      <td>0.090799</td>\n",
       "      <td>...</td>\n",
       "      <td>16.265692</td>\n",
       "      <td>1.355474</td>\n",
       "      <td>4.402202</td>\n",
       "      <td>12.890028</td>\n",
       "      <td>10.630000</td>\n",
       "      <td>4.010000</td>\n",
       "      <td>1.000000</td>\n",
       "      <td>2.000000</td>\n",
       "      <td>0.000000</td>\n",
       "      <td>6.950000e+06</td>\n",
       "    </tr>\n",
       "    <tr>\n",
       "      <th>75%</th>\n",
       "      <td>60.000000</td>\n",
       "      <td>38.000000</td>\n",
       "      <td>9.000000</td>\n",
       "      <td>16.000000</td>\n",
       "      <td>1995.000000</td>\n",
       "      <td>3.000000</td>\n",
       "      <td>9.000000</td>\n",
       "      <td>1.249544e+07</td>\n",
       "      <td>0.300284</td>\n",
       "      <td>0.194489</td>\n",
       "      <td>...</td>\n",
       "      <td>25.876968</td>\n",
       "      <td>2.156414</td>\n",
       "      <td>7.598405</td>\n",
       "      <td>15.808401</td>\n",
       "      <td>21.547500</td>\n",
       "      <td>13.400000</td>\n",
       "      <td>3.000000</td>\n",
       "      <td>3.000000</td>\n",
       "      <td>0.000000</td>\n",
       "      <td>9.200000e+06</td>\n",
       "    </tr>\n",
       "    <tr>\n",
       "      <th>max</th>\n",
       "      <td>275.000000</td>\n",
       "      <td>232.000000</td>\n",
       "      <td>77.000000</td>\n",
       "      <td>57.000000</td>\n",
       "      <td>4965.000000</td>\n",
       "      <td>17.000000</td>\n",
       "      <td>57.000000</td>\n",
       "      <td>2.060718e+08</td>\n",
       "      <td>0.852923</td>\n",
       "      <td>0.521867</td>\n",
       "      <td>...</td>\n",
       "      <td>711.215806</td>\n",
       "      <td>59.267984</td>\n",
       "      <td>53.277832</td>\n",
       "      <td>70.738769</td>\n",
       "      <td>100.000000</td>\n",
       "      <td>72.200000</td>\n",
       "      <td>84.000000</td>\n",
       "      <td>20.000000</td>\n",
       "      <td>30.000000</td>\n",
       "      <td>8.077744e+07</td>\n",
       "    </tr>\n",
       "  </tbody>\n",
       "</table>\n",
       "<p>8 rows × 32 columns</p>\n",
       "</div>\n",
       "      <button class=\"colab-df-convert\" onclick=\"convertToInteractive('df-e488841a-3de9-456a-9ac0-f2d73df7dd01')\"\n",
       "              title=\"Convert this dataframe to an interactive table.\"\n",
       "              style=\"display:none;\">\n",
       "        \n",
       "  <svg xmlns=\"http://www.w3.org/2000/svg\" height=\"24px\"viewBox=\"0 0 24 24\"\n",
       "       width=\"24px\">\n",
       "    <path d=\"M0 0h24v24H0V0z\" fill=\"none\"/>\n",
       "    <path d=\"M18.56 5.44l.94 2.06.94-2.06 2.06-.94-2.06-.94-.94-2.06-.94 2.06-2.06.94zm-11 1L8.5 8.5l.94-2.06 2.06-.94-2.06-.94L8.5 2.5l-.94 2.06-2.06.94zm10 10l.94 2.06.94-2.06 2.06-.94-2.06-.94-.94-2.06-.94 2.06-2.06.94z\"/><path d=\"M17.41 7.96l-1.37-1.37c-.4-.4-.92-.59-1.43-.59-.52 0-1.04.2-1.43.59L10.3 9.45l-7.72 7.72c-.78.78-.78 2.05 0 2.83L4 21.41c.39.39.9.59 1.41.59.51 0 1.02-.2 1.41-.59l7.78-7.78 2.81-2.81c.8-.78.8-2.07 0-2.86zM5.41 20L4 18.59l7.72-7.72 1.47 1.35L5.41 20z\"/>\n",
       "  </svg>\n",
       "      </button>\n",
       "      \n",
       "  <style>\n",
       "    .colab-df-container {\n",
       "      display:flex;\n",
       "      flex-wrap:wrap;\n",
       "      gap: 12px;\n",
       "    }\n",
       "\n",
       "    .colab-df-convert {\n",
       "      background-color: #E8F0FE;\n",
       "      border: none;\n",
       "      border-radius: 50%;\n",
       "      cursor: pointer;\n",
       "      display: none;\n",
       "      fill: #1967D2;\n",
       "      height: 32px;\n",
       "      padding: 0 0 0 0;\n",
       "      width: 32px;\n",
       "    }\n",
       "\n",
       "    .colab-df-convert:hover {\n",
       "      background-color: #E2EBFA;\n",
       "      box-shadow: 0px 1px 2px rgba(60, 64, 67, 0.3), 0px 1px 3px 1px rgba(60, 64, 67, 0.15);\n",
       "      fill: #174EA6;\n",
       "    }\n",
       "\n",
       "    [theme=dark] .colab-df-convert {\n",
       "      background-color: #3B4455;\n",
       "      fill: #D2E3FC;\n",
       "    }\n",
       "\n",
       "    [theme=dark] .colab-df-convert:hover {\n",
       "      background-color: #434B5C;\n",
       "      box-shadow: 0px 1px 3px 1px rgba(0, 0, 0, 0.15);\n",
       "      filter: drop-shadow(0px 1px 2px rgba(0, 0, 0, 0.3));\n",
       "      fill: #FFFFFF;\n",
       "    }\n",
       "  </style>\n",
       "\n",
       "      <script>\n",
       "        const buttonEl =\n",
       "          document.querySelector('#df-e488841a-3de9-456a-9ac0-f2d73df7dd01 button.colab-df-convert');\n",
       "        buttonEl.style.display =\n",
       "          google.colab.kernel.accessAllowed ? 'block' : 'none';\n",
       "\n",
       "        async function convertToInteractive(key) {\n",
       "          const element = document.querySelector('#df-e488841a-3de9-456a-9ac0-f2d73df7dd01');\n",
       "          const dataTable =\n",
       "            await google.colab.kernel.invokeFunction('convertToInteractive',\n",
       "                                                     [key], {});\n",
       "          if (!dataTable) return;\n",
       "\n",
       "          const docLinkHtml = 'Like what you see? Visit the ' +\n",
       "            '<a target=\"_blank\" href=https://colab.research.google.com/notebooks/data_table.ipynb>data table notebook</a>'\n",
       "            + ' to learn more about interactive tables.';\n",
       "          element.innerHTML = '';\n",
       "          dataTable['output_type'] = 'display_data';\n",
       "          await google.colab.output.renderOutput(dataTable, element);\n",
       "          const docLink = document.createElement('div');\n",
       "          docLink.innerHTML = docLinkHtml;\n",
       "          element.appendChild(docLink);\n",
       "        }\n",
       "      </script>\n",
       "    </div>\n",
       "  </div>\n",
       "  "
      ],
      "text/plain": [
       "           full_sq      life_sq        floor    max_floor   build_year  \\\n",
       "count  8894.000000  8894.000000  8894.000000  8894.000000  8859.000000   \n",
       "mean     51.724196    30.417248     6.733303    12.186755  1974.139745   \n",
       "std      20.039067    13.506626     4.800781     5.639183   115.094557   \n",
       "min      12.000000     0.000000     0.000000     1.000000     0.000000   \n",
       "25%      38.000000    19.000000     3.000000     9.000000  1966.000000   \n",
       "50%      45.000000    29.000000     5.000000    12.000000  1976.000000   \n",
       "75%      60.000000    38.000000     9.000000    16.000000  1995.000000   \n",
       "max     275.000000   232.000000    77.000000    57.000000  4965.000000   \n",
       "\n",
       "          num_room     kitch_sq        area_m  green_zone_part  indust_part  \\\n",
       "count  8894.000000  8894.000000  8.894000e+03      8894.000000  8894.000000   \n",
       "mean      1.952665     7.716101  1.108296e+07         0.189023     0.127519   \n",
       "std       0.862990     2.818154  1.051812e+07         0.161092     0.122523   \n",
       "min       0.000000     0.000000  2.081628e+06         0.001879     0.000000   \n",
       "25%       1.000000     6.000000  5.686537e+06         0.063755     0.033494   \n",
       "50%       2.000000     8.000000  8.464344e+06         0.133373     0.090799   \n",
       "75%       3.000000     9.000000  1.249544e+07         0.300284     0.194489   \n",
       "max      17.000000    57.000000  2.060718e+08         0.852923     0.521867   \n",
       "\n",
       "       ...  metro_min_walk  metro_km_walk      mkad_km   kremlin_km  \\\n",
       "count  ...     8883.000000    8883.000000  8894.000000  8894.000000   \n",
       "mean   ...       31.475028       2.622919     5.531550    13.630503   \n",
       "std    ...       54.975459       4.581288     4.445240     7.044961   \n",
       "min    ...        0.000000       0.000000     0.093326     0.072897   \n",
       "25%    ...        9.904819       0.825402     2.315584     9.296152   \n",
       "50%    ...       16.265692       1.355474     4.402202    12.890028   \n",
       "75%    ...       25.876968       2.156414     7.598405    15.808401   \n",
       "max    ...      711.215806      59.267984    53.277832    70.738769   \n",
       "\n",
       "       green_part_1000  prom_part_1000  office_count_1000  trc_count_1000  \\\n",
       "count      8894.000000     8894.000000        8894.000000     8894.000000   \n",
       "mean         14.796778        8.982299           2.933101        2.072296   \n",
       "std          12.579365       12.022843           7.307584        2.235402   \n",
       "min           0.000000        0.000000           0.000000        0.000000   \n",
       "25%           5.440000        0.000000           0.000000        0.000000   \n",
       "50%          10.630000        4.010000           1.000000        2.000000   \n",
       "75%          21.547500       13.400000           3.000000        3.000000   \n",
       "max         100.000000       72.200000          84.000000       20.000000   \n",
       "\n",
       "       leisure_count_1000     price_doc  \n",
       "count         8894.000000  8.894000e+03  \n",
       "mean             0.360243  7.807093e+06  \n",
       "std              1.239451  5.024875e+06  \n",
       "min              0.000000  1.000000e+05  \n",
       "25%              0.000000  5.450861e+06  \n",
       "50%              0.000000  6.950000e+06  \n",
       "75%              0.000000  9.200000e+06  \n",
       "max             30.000000  8.077744e+07  \n",
       "\n",
       "[8 rows x 32 columns]"
      ]
     },
     "execution_count": 5,
     "metadata": {},
     "output_type": "execute_result"
    }
   ],
   "source": [
    "housing.describe()"
   ]
  },
  {
   "cell_type": "code",
   "execution_count": 6,
   "metadata": {
    "colab": {
     "base_uri": "https://localhost:8080/"
    },
    "id": "8WckJCe3lUnf",
    "outputId": "658151e9-68e2-4762-f254-22de73165731"
   },
   "outputs": [
    {
     "data": {
      "text/plain": [
       "32"
      ]
     },
     "execution_count": 6,
     "metadata": {},
     "output_type": "execute_result"
    }
   ],
   "source": [
    "# число количественных переменных, включая целевую\n",
    "housing.describe().shape[1]"
   ]
  },
  {
   "cell_type": "code",
   "execution_count": 7,
   "metadata": {
    "colab": {
     "base_uri": "https://localhost:8080/"
    },
    "id": "HEDEgxlS3drP",
    "outputId": "dfb22a61-e00b-4da4-abef-e5e4c392d558"
   },
   "outputs": [
    {
     "data": {
      "text/plain": [
       "Index(['full_sq', 'life_sq', 'floor', 'max_floor', 'build_year', 'num_room',\n",
       "       'kitch_sq', 'area_m', 'green_zone_part', 'indust_part', 'preschool',\n",
       "       'school', 'healthcare', 'shopping', 'office', 'young', 'work', 'elder',\n",
       "       '0_6_age', '7_14_age', 'metro_min_avto', 'metro_km_avto',\n",
       "       'metro_min_walk', 'metro_km_walk', 'mkad_km', 'kremlin_km',\n",
       "       'green_part_1000', 'prom_part_1000', 'office_count_1000',\n",
       "       'trc_count_1000', 'leisure_count_1000', 'price_doc'],\n",
       "      dtype='object')"
      ]
     },
     "execution_count": 7,
     "metadata": {},
     "output_type": "execute_result"
    }
   ],
   "source": [
    "# названия количественных переменных, включая целевую\n",
    "housing.describe().columns"
   ]
  },
  {
   "cell_type": "markdown",
   "metadata": {
    "id": "NQBfn1a0qDbh"
   },
   "source": [
    "Рассмотрим все количественные переменные и целевую переменную отдельно:"
   ]
  },
  {
   "cell_type": "code",
   "execution_count": 8,
   "metadata": {
    "colab": {
     "base_uri": "https://localhost:8080/",
     "height": 175
    },
    "id": "byZdfab2lUgf",
    "outputId": "effc3918-71e1-4393-c0ab-f83d99e6cb47"
   },
   "outputs": [
    {
     "data": {
      "text/html": [
       "\n",
       "  <div id=\"df-2de6eaac-9b63-404b-91d2-18e8a19bf44b\">\n",
       "    <div class=\"colab-df-container\">\n",
       "      <div>\n",
       "<style scoped>\n",
       "    .dataframe tbody tr th:only-of-type {\n",
       "        vertical-align: middle;\n",
       "    }\n",
       "\n",
       "    .dataframe tbody tr th {\n",
       "        vertical-align: top;\n",
       "    }\n",
       "\n",
       "    .dataframe thead th {\n",
       "        text-align: right;\n",
       "    }\n",
       "</style>\n",
       "<table border=\"1\" class=\"dataframe\">\n",
       "  <thead>\n",
       "    <tr style=\"text-align: right;\">\n",
       "      <th></th>\n",
       "      <th>full_sq</th>\n",
       "      <th>life_sq</th>\n",
       "      <th>floor</th>\n",
       "      <th>max_floor</th>\n",
       "      <th>build_year</th>\n",
       "      <th>num_room</th>\n",
       "      <th>kitch_sq</th>\n",
       "      <th>area_m</th>\n",
       "      <th>green_zone_part</th>\n",
       "      <th>indust_part</th>\n",
       "      <th>preschool</th>\n",
       "      <th>school</th>\n",
       "    </tr>\n",
       "  </thead>\n",
       "  <tbody>\n",
       "    <tr>\n",
       "      <th>count</th>\n",
       "      <td>8894.00</td>\n",
       "      <td>8894.00</td>\n",
       "      <td>8894.00</td>\n",
       "      <td>8894.00</td>\n",
       "      <td>8859.00</td>\n",
       "      <td>8894.00</td>\n",
       "      <td>8894.00</td>\n",
       "      <td>8.894000e+03</td>\n",
       "      <td>8894.00</td>\n",
       "      <td>8894.00</td>\n",
       "      <td>8894.0</td>\n",
       "      <td>8894.00</td>\n",
       "    </tr>\n",
       "    <tr>\n",
       "      <th>mean</th>\n",
       "      <td>51.72</td>\n",
       "      <td>30.42</td>\n",
       "      <td>6.73</td>\n",
       "      <td>12.19</td>\n",
       "      <td>1974.14</td>\n",
       "      <td>1.95</td>\n",
       "      <td>7.72</td>\n",
       "      <td>1.108296e+07</td>\n",
       "      <td>0.19</td>\n",
       "      <td>0.13</td>\n",
       "      <td>5.1</td>\n",
       "      <td>5.95</td>\n",
       "    </tr>\n",
       "    <tr>\n",
       "      <th>min</th>\n",
       "      <td>12.00</td>\n",
       "      <td>0.00</td>\n",
       "      <td>0.00</td>\n",
       "      <td>1.00</td>\n",
       "      <td>0.00</td>\n",
       "      <td>0.00</td>\n",
       "      <td>0.00</td>\n",
       "      <td>2.081628e+06</td>\n",
       "      <td>0.00</td>\n",
       "      <td>0.00</td>\n",
       "      <td>0.0</td>\n",
       "      <td>0.00</td>\n",
       "    </tr>\n",
       "    <tr>\n",
       "      <th>max</th>\n",
       "      <td>275.00</td>\n",
       "      <td>232.00</td>\n",
       "      <td>77.00</td>\n",
       "      <td>57.00</td>\n",
       "      <td>4965.00</td>\n",
       "      <td>17.00</td>\n",
       "      <td>57.00</td>\n",
       "      <td>2.060718e+08</td>\n",
       "      <td>0.85</td>\n",
       "      <td>0.52</td>\n",
       "      <td>13.0</td>\n",
       "      <td>14.00</td>\n",
       "    </tr>\n",
       "  </tbody>\n",
       "</table>\n",
       "</div>\n",
       "      <button class=\"colab-df-convert\" onclick=\"convertToInteractive('df-2de6eaac-9b63-404b-91d2-18e8a19bf44b')\"\n",
       "              title=\"Convert this dataframe to an interactive table.\"\n",
       "              style=\"display:none;\">\n",
       "        \n",
       "  <svg xmlns=\"http://www.w3.org/2000/svg\" height=\"24px\"viewBox=\"0 0 24 24\"\n",
       "       width=\"24px\">\n",
       "    <path d=\"M0 0h24v24H0V0z\" fill=\"none\"/>\n",
       "    <path d=\"M18.56 5.44l.94 2.06.94-2.06 2.06-.94-2.06-.94-.94-2.06-.94 2.06-2.06.94zm-11 1L8.5 8.5l.94-2.06 2.06-.94-2.06-.94L8.5 2.5l-.94 2.06-2.06.94zm10 10l.94 2.06.94-2.06 2.06-.94-2.06-.94-.94-2.06-.94 2.06-2.06.94z\"/><path d=\"M17.41 7.96l-1.37-1.37c-.4-.4-.92-.59-1.43-.59-.52 0-1.04.2-1.43.59L10.3 9.45l-7.72 7.72c-.78.78-.78 2.05 0 2.83L4 21.41c.39.39.9.59 1.41.59.51 0 1.02-.2 1.41-.59l7.78-7.78 2.81-2.81c.8-.78.8-2.07 0-2.86zM5.41 20L4 18.59l7.72-7.72 1.47 1.35L5.41 20z\"/>\n",
       "  </svg>\n",
       "      </button>\n",
       "      \n",
       "  <style>\n",
       "    .colab-df-container {\n",
       "      display:flex;\n",
       "      flex-wrap:wrap;\n",
       "      gap: 12px;\n",
       "    }\n",
       "\n",
       "    .colab-df-convert {\n",
       "      background-color: #E8F0FE;\n",
       "      border: none;\n",
       "      border-radius: 50%;\n",
       "      cursor: pointer;\n",
       "      display: none;\n",
       "      fill: #1967D2;\n",
       "      height: 32px;\n",
       "      padding: 0 0 0 0;\n",
       "      width: 32px;\n",
       "    }\n",
       "\n",
       "    .colab-df-convert:hover {\n",
       "      background-color: #E2EBFA;\n",
       "      box-shadow: 0px 1px 2px rgba(60, 64, 67, 0.3), 0px 1px 3px 1px rgba(60, 64, 67, 0.15);\n",
       "      fill: #174EA6;\n",
       "    }\n",
       "\n",
       "    [theme=dark] .colab-df-convert {\n",
       "      background-color: #3B4455;\n",
       "      fill: #D2E3FC;\n",
       "    }\n",
       "\n",
       "    [theme=dark] .colab-df-convert:hover {\n",
       "      background-color: #434B5C;\n",
       "      box-shadow: 0px 1px 3px 1px rgba(0, 0, 0, 0.15);\n",
       "      filter: drop-shadow(0px 1px 2px rgba(0, 0, 0, 0.3));\n",
       "      fill: #FFFFFF;\n",
       "    }\n",
       "  </style>\n",
       "\n",
       "      <script>\n",
       "        const buttonEl =\n",
       "          document.querySelector('#df-2de6eaac-9b63-404b-91d2-18e8a19bf44b button.colab-df-convert');\n",
       "        buttonEl.style.display =\n",
       "          google.colab.kernel.accessAllowed ? 'block' : 'none';\n",
       "\n",
       "        async function convertToInteractive(key) {\n",
       "          const element = document.querySelector('#df-2de6eaac-9b63-404b-91d2-18e8a19bf44b');\n",
       "          const dataTable =\n",
       "            await google.colab.kernel.invokeFunction('convertToInteractive',\n",
       "                                                     [key], {});\n",
       "          if (!dataTable) return;\n",
       "\n",
       "          const docLinkHtml = 'Like what you see? Visit the ' +\n",
       "            '<a target=\"_blank\" href=https://colab.research.google.com/notebooks/data_table.ipynb>data table notebook</a>'\n",
       "            + ' to learn more about interactive tables.';\n",
       "          element.innerHTML = '';\n",
       "          dataTable['output_type'] = 'display_data';\n",
       "          await google.colab.output.renderOutput(dataTable, element);\n",
       "          const docLink = document.createElement('div');\n",
       "          docLink.innerHTML = docLinkHtml;\n",
       "          element.appendChild(docLink);\n",
       "        }\n",
       "      </script>\n",
       "    </div>\n",
       "  </div>\n",
       "  "
      ],
      "text/plain": [
       "       full_sq  life_sq    floor  max_floor  build_year  num_room  kitch_sq  \\\n",
       "count  8894.00  8894.00  8894.00    8894.00     8859.00   8894.00   8894.00   \n",
       "mean     51.72    30.42     6.73      12.19     1974.14      1.95      7.72   \n",
       "min      12.00     0.00     0.00       1.00        0.00      0.00      0.00   \n",
       "max     275.00   232.00    77.00      57.00     4965.00     17.00     57.00   \n",
       "\n",
       "             area_m  green_zone_part  indust_part  preschool   school  \n",
       "count  8.894000e+03          8894.00      8894.00     8894.0  8894.00  \n",
       "mean   1.108296e+07             0.19         0.13        5.1     5.95  \n",
       "min    2.081628e+06             0.00         0.00        0.0     0.00  \n",
       "max    2.060718e+08             0.85         0.52       13.0    14.00  "
      ]
     },
     "execution_count": 8,
     "metadata": {},
     "output_type": "execute_result"
    }
   ],
   "source": [
    "housing.describe() \\\n",
    "  .iloc[[0, 1, 3, 7], [i for i in range(12)]].round(2)"
   ]
  },
  {
   "cell_type": "code",
   "execution_count": 9,
   "metadata": {
    "colab": {
     "base_uri": "https://localhost:8080/",
     "height": 175
    },
    "id": "UHCW7CAilUXQ",
    "outputId": "8e1293f4-4a27-480f-875a-ef0c69074af8"
   },
   "outputs": [
    {
     "data": {
      "text/html": [
       "\n",
       "  <div id=\"df-205a7da8-2c34-4a18-96cf-4faf117a6948\">\n",
       "    <div class=\"colab-df-container\">\n",
       "      <div>\n",
       "<style scoped>\n",
       "    .dataframe tbody tr th:only-of-type {\n",
       "        vertical-align: middle;\n",
       "    }\n",
       "\n",
       "    .dataframe tbody tr th {\n",
       "        vertical-align: top;\n",
       "    }\n",
       "\n",
       "    .dataframe thead th {\n",
       "        text-align: right;\n",
       "    }\n",
       "</style>\n",
       "<table border=\"1\" class=\"dataframe\">\n",
       "  <thead>\n",
       "    <tr style=\"text-align: right;\">\n",
       "      <th></th>\n",
       "      <th>healthcare</th>\n",
       "      <th>shopping</th>\n",
       "      <th>office</th>\n",
       "      <th>young</th>\n",
       "      <th>work</th>\n",
       "      <th>elder</th>\n",
       "      <th>0_6_age</th>\n",
       "      <th>7_14_age</th>\n",
       "      <th>metro_min_avto</th>\n",
       "      <th>metro_km_avto</th>\n",
       "    </tr>\n",
       "  </thead>\n",
       "  <tbody>\n",
       "    <tr>\n",
       "      <th>count</th>\n",
       "      <td>8894.00</td>\n",
       "      <td>8894.00</td>\n",
       "      <td>8894.00</td>\n",
       "      <td>8894.00</td>\n",
       "      <td>8894.00</td>\n",
       "      <td>8894.00</td>\n",
       "      <td>8894.00</td>\n",
       "      <td>8894.00</td>\n",
       "      <td>8894.00</td>\n",
       "      <td>8894.00</td>\n",
       "    </tr>\n",
       "    <tr>\n",
       "      <th>mean</th>\n",
       "      <td>1.74</td>\n",
       "      <td>4.86</td>\n",
       "      <td>7.38</td>\n",
       "      <td>14133.98</td>\n",
       "      <td>69035.97</td>\n",
       "      <td>24949.56</td>\n",
       "      <td>6506.23</td>\n",
       "      <td>6760.51</td>\n",
       "      <td>3.88</td>\n",
       "      <td>2.78</td>\n",
       "    </tr>\n",
       "    <tr>\n",
       "      <th>min</th>\n",
       "      <td>0.00</td>\n",
       "      <td>0.00</td>\n",
       "      <td>0.00</td>\n",
       "      <td>365.00</td>\n",
       "      <td>1633.00</td>\n",
       "      <td>548.00</td>\n",
       "      <td>175.00</td>\n",
       "      <td>168.00</td>\n",
       "      <td>0.00</td>\n",
       "      <td>0.00</td>\n",
       "    </tr>\n",
       "    <tr>\n",
       "      <th>max</th>\n",
       "      <td>6.00</td>\n",
       "      <td>23.00</td>\n",
       "      <td>141.00</td>\n",
       "      <td>40692.00</td>\n",
       "      <td>161290.00</td>\n",
       "      <td>57086.00</td>\n",
       "      <td>19223.00</td>\n",
       "      <td>19083.00</td>\n",
       "      <td>60.94</td>\n",
       "      <td>74.58</td>\n",
       "    </tr>\n",
       "  </tbody>\n",
       "</table>\n",
       "</div>\n",
       "      <button class=\"colab-df-convert\" onclick=\"convertToInteractive('df-205a7da8-2c34-4a18-96cf-4faf117a6948')\"\n",
       "              title=\"Convert this dataframe to an interactive table.\"\n",
       "              style=\"display:none;\">\n",
       "        \n",
       "  <svg xmlns=\"http://www.w3.org/2000/svg\" height=\"24px\"viewBox=\"0 0 24 24\"\n",
       "       width=\"24px\">\n",
       "    <path d=\"M0 0h24v24H0V0z\" fill=\"none\"/>\n",
       "    <path d=\"M18.56 5.44l.94 2.06.94-2.06 2.06-.94-2.06-.94-.94-2.06-.94 2.06-2.06.94zm-11 1L8.5 8.5l.94-2.06 2.06-.94-2.06-.94L8.5 2.5l-.94 2.06-2.06.94zm10 10l.94 2.06.94-2.06 2.06-.94-2.06-.94-.94-2.06-.94 2.06-2.06.94z\"/><path d=\"M17.41 7.96l-1.37-1.37c-.4-.4-.92-.59-1.43-.59-.52 0-1.04.2-1.43.59L10.3 9.45l-7.72 7.72c-.78.78-.78 2.05 0 2.83L4 21.41c.39.39.9.59 1.41.59.51 0 1.02-.2 1.41-.59l7.78-7.78 2.81-2.81c.8-.78.8-2.07 0-2.86zM5.41 20L4 18.59l7.72-7.72 1.47 1.35L5.41 20z\"/>\n",
       "  </svg>\n",
       "      </button>\n",
       "      \n",
       "  <style>\n",
       "    .colab-df-container {\n",
       "      display:flex;\n",
       "      flex-wrap:wrap;\n",
       "      gap: 12px;\n",
       "    }\n",
       "\n",
       "    .colab-df-convert {\n",
       "      background-color: #E8F0FE;\n",
       "      border: none;\n",
       "      border-radius: 50%;\n",
       "      cursor: pointer;\n",
       "      display: none;\n",
       "      fill: #1967D2;\n",
       "      height: 32px;\n",
       "      padding: 0 0 0 0;\n",
       "      width: 32px;\n",
       "    }\n",
       "\n",
       "    .colab-df-convert:hover {\n",
       "      background-color: #E2EBFA;\n",
       "      box-shadow: 0px 1px 2px rgba(60, 64, 67, 0.3), 0px 1px 3px 1px rgba(60, 64, 67, 0.15);\n",
       "      fill: #174EA6;\n",
       "    }\n",
       "\n",
       "    [theme=dark] .colab-df-convert {\n",
       "      background-color: #3B4455;\n",
       "      fill: #D2E3FC;\n",
       "    }\n",
       "\n",
       "    [theme=dark] .colab-df-convert:hover {\n",
       "      background-color: #434B5C;\n",
       "      box-shadow: 0px 1px 3px 1px rgba(0, 0, 0, 0.15);\n",
       "      filter: drop-shadow(0px 1px 2px rgba(0, 0, 0, 0.3));\n",
       "      fill: #FFFFFF;\n",
       "    }\n",
       "  </style>\n",
       "\n",
       "      <script>\n",
       "        const buttonEl =\n",
       "          document.querySelector('#df-205a7da8-2c34-4a18-96cf-4faf117a6948 button.colab-df-convert');\n",
       "        buttonEl.style.display =\n",
       "          google.colab.kernel.accessAllowed ? 'block' : 'none';\n",
       "\n",
       "        async function convertToInteractive(key) {\n",
       "          const element = document.querySelector('#df-205a7da8-2c34-4a18-96cf-4faf117a6948');\n",
       "          const dataTable =\n",
       "            await google.colab.kernel.invokeFunction('convertToInteractive',\n",
       "                                                     [key], {});\n",
       "          if (!dataTable) return;\n",
       "\n",
       "          const docLinkHtml = 'Like what you see? Visit the ' +\n",
       "            '<a target=\"_blank\" href=https://colab.research.google.com/notebooks/data_table.ipynb>data table notebook</a>'\n",
       "            + ' to learn more about interactive tables.';\n",
       "          element.innerHTML = '';\n",
       "          dataTable['output_type'] = 'display_data';\n",
       "          await google.colab.output.renderOutput(dataTable, element);\n",
       "          const docLink = document.createElement('div');\n",
       "          docLink.innerHTML = docLinkHtml;\n",
       "          element.appendChild(docLink);\n",
       "        }\n",
       "      </script>\n",
       "    </div>\n",
       "  </div>\n",
       "  "
      ],
      "text/plain": [
       "       healthcare  shopping   office     young       work     elder   0_6_age  \\\n",
       "count     8894.00   8894.00  8894.00   8894.00    8894.00   8894.00   8894.00   \n",
       "mean         1.74      4.86     7.38  14133.98   69035.97  24949.56   6506.23   \n",
       "min          0.00      0.00     0.00    365.00    1633.00    548.00    175.00   \n",
       "max          6.00     23.00   141.00  40692.00  161290.00  57086.00  19223.00   \n",
       "\n",
       "       7_14_age  metro_min_avto  metro_km_avto  \n",
       "count   8894.00         8894.00        8894.00  \n",
       "mean    6760.51            3.88           2.78  \n",
       "min      168.00            0.00           0.00  \n",
       "max    19083.00           60.94          74.58  "
      ]
     },
     "execution_count": 9,
     "metadata": {},
     "output_type": "execute_result"
    }
   ],
   "source": [
    "housing.describe() \\\n",
    "  .iloc[[0, 1, 3, 7], [i for i in range(12, 22)]].round(2)"
   ]
  },
  {
   "cell_type": "code",
   "execution_count": 10,
   "metadata": {
    "colab": {
     "base_uri": "https://localhost:8080/",
     "height": 239
    },
    "id": "bdl5mZwKqR5C",
    "outputId": "5319cc1f-fd21-4943-fe3e-1037139b583a"
   },
   "outputs": [
    {
     "data": {
      "text/html": [
       "\n",
       "  <div id=\"df-34f126cb-4e6f-4043-9fee-c78183efb94a\">\n",
       "    <div class=\"colab-df-container\">\n",
       "      <div>\n",
       "<style scoped>\n",
       "    .dataframe tbody tr th:only-of-type {\n",
       "        vertical-align: middle;\n",
       "    }\n",
       "\n",
       "    .dataframe tbody tr th {\n",
       "        vertical-align: top;\n",
       "    }\n",
       "\n",
       "    .dataframe thead th {\n",
       "        text-align: right;\n",
       "    }\n",
       "</style>\n",
       "<table border=\"1\" class=\"dataframe\">\n",
       "  <thead>\n",
       "    <tr style=\"text-align: right;\">\n",
       "      <th></th>\n",
       "      <th>metro_min_walk</th>\n",
       "      <th>metro_km_walk</th>\n",
       "      <th>mkad_km</th>\n",
       "      <th>kremlin_km</th>\n",
       "      <th>green_part_1000</th>\n",
       "      <th>prom_part_1000</th>\n",
       "      <th>office_count_1000</th>\n",
       "      <th>trc_count_1000</th>\n",
       "      <th>leisure_count_1000</th>\n",
       "    </tr>\n",
       "  </thead>\n",
       "  <tbody>\n",
       "    <tr>\n",
       "      <th>count</th>\n",
       "      <td>8883.00</td>\n",
       "      <td>8883.00</td>\n",
       "      <td>8894.00</td>\n",
       "      <td>8894.00</td>\n",
       "      <td>8894.0</td>\n",
       "      <td>8894.00</td>\n",
       "      <td>8894.00</td>\n",
       "      <td>8894.00</td>\n",
       "      <td>8894.00</td>\n",
       "    </tr>\n",
       "    <tr>\n",
       "      <th>mean</th>\n",
       "      <td>31.48</td>\n",
       "      <td>2.62</td>\n",
       "      <td>5.53</td>\n",
       "      <td>13.63</td>\n",
       "      <td>14.8</td>\n",
       "      <td>8.98</td>\n",
       "      <td>2.93</td>\n",
       "      <td>2.07</td>\n",
       "      <td>0.36</td>\n",
       "    </tr>\n",
       "    <tr>\n",
       "      <th>min</th>\n",
       "      <td>0.00</td>\n",
       "      <td>0.00</td>\n",
       "      <td>0.09</td>\n",
       "      <td>0.07</td>\n",
       "      <td>0.0</td>\n",
       "      <td>0.00</td>\n",
       "      <td>0.00</td>\n",
       "      <td>0.00</td>\n",
       "      <td>0.00</td>\n",
       "    </tr>\n",
       "    <tr>\n",
       "      <th>max</th>\n",
       "      <td>711.22</td>\n",
       "      <td>59.27</td>\n",
       "      <td>53.28</td>\n",
       "      <td>70.74</td>\n",
       "      <td>100.0</td>\n",
       "      <td>72.20</td>\n",
       "      <td>84.00</td>\n",
       "      <td>20.00</td>\n",
       "      <td>30.00</td>\n",
       "    </tr>\n",
       "  </tbody>\n",
       "</table>\n",
       "</div>\n",
       "      <button class=\"colab-df-convert\" onclick=\"convertToInteractive('df-34f126cb-4e6f-4043-9fee-c78183efb94a')\"\n",
       "              title=\"Convert this dataframe to an interactive table.\"\n",
       "              style=\"display:none;\">\n",
       "        \n",
       "  <svg xmlns=\"http://www.w3.org/2000/svg\" height=\"24px\"viewBox=\"0 0 24 24\"\n",
       "       width=\"24px\">\n",
       "    <path d=\"M0 0h24v24H0V0z\" fill=\"none\"/>\n",
       "    <path d=\"M18.56 5.44l.94 2.06.94-2.06 2.06-.94-2.06-.94-.94-2.06-.94 2.06-2.06.94zm-11 1L8.5 8.5l.94-2.06 2.06-.94-2.06-.94L8.5 2.5l-.94 2.06-2.06.94zm10 10l.94 2.06.94-2.06 2.06-.94-2.06-.94-.94-2.06-.94 2.06-2.06.94z\"/><path d=\"M17.41 7.96l-1.37-1.37c-.4-.4-.92-.59-1.43-.59-.52 0-1.04.2-1.43.59L10.3 9.45l-7.72 7.72c-.78.78-.78 2.05 0 2.83L4 21.41c.39.39.9.59 1.41.59.51 0 1.02-.2 1.41-.59l7.78-7.78 2.81-2.81c.8-.78.8-2.07 0-2.86zM5.41 20L4 18.59l7.72-7.72 1.47 1.35L5.41 20z\"/>\n",
       "  </svg>\n",
       "      </button>\n",
       "      \n",
       "  <style>\n",
       "    .colab-df-container {\n",
       "      display:flex;\n",
       "      flex-wrap:wrap;\n",
       "      gap: 12px;\n",
       "    }\n",
       "\n",
       "    .colab-df-convert {\n",
       "      background-color: #E8F0FE;\n",
       "      border: none;\n",
       "      border-radius: 50%;\n",
       "      cursor: pointer;\n",
       "      display: none;\n",
       "      fill: #1967D2;\n",
       "      height: 32px;\n",
       "      padding: 0 0 0 0;\n",
       "      width: 32px;\n",
       "    }\n",
       "\n",
       "    .colab-df-convert:hover {\n",
       "      background-color: #E2EBFA;\n",
       "      box-shadow: 0px 1px 2px rgba(60, 64, 67, 0.3), 0px 1px 3px 1px rgba(60, 64, 67, 0.15);\n",
       "      fill: #174EA6;\n",
       "    }\n",
       "\n",
       "    [theme=dark] .colab-df-convert {\n",
       "      background-color: #3B4455;\n",
       "      fill: #D2E3FC;\n",
       "    }\n",
       "\n",
       "    [theme=dark] .colab-df-convert:hover {\n",
       "      background-color: #434B5C;\n",
       "      box-shadow: 0px 1px 3px 1px rgba(0, 0, 0, 0.15);\n",
       "      filter: drop-shadow(0px 1px 2px rgba(0, 0, 0, 0.3));\n",
       "      fill: #FFFFFF;\n",
       "    }\n",
       "  </style>\n",
       "\n",
       "      <script>\n",
       "        const buttonEl =\n",
       "          document.querySelector('#df-34f126cb-4e6f-4043-9fee-c78183efb94a button.colab-df-convert');\n",
       "        buttonEl.style.display =\n",
       "          google.colab.kernel.accessAllowed ? 'block' : 'none';\n",
       "\n",
       "        async function convertToInteractive(key) {\n",
       "          const element = document.querySelector('#df-34f126cb-4e6f-4043-9fee-c78183efb94a');\n",
       "          const dataTable =\n",
       "            await google.colab.kernel.invokeFunction('convertToInteractive',\n",
       "                                                     [key], {});\n",
       "          if (!dataTable) return;\n",
       "\n",
       "          const docLinkHtml = 'Like what you see? Visit the ' +\n",
       "            '<a target=\"_blank\" href=https://colab.research.google.com/notebooks/data_table.ipynb>data table notebook</a>'\n",
       "            + ' to learn more about interactive tables.';\n",
       "          element.innerHTML = '';\n",
       "          dataTable['output_type'] = 'display_data';\n",
       "          await google.colab.output.renderOutput(dataTable, element);\n",
       "          const docLink = document.createElement('div');\n",
       "          docLink.innerHTML = docLinkHtml;\n",
       "          element.appendChild(docLink);\n",
       "        }\n",
       "      </script>\n",
       "    </div>\n",
       "  </div>\n",
       "  "
      ],
      "text/plain": [
       "       metro_min_walk  metro_km_walk  mkad_km  kremlin_km  green_part_1000  \\\n",
       "count         8883.00        8883.00  8894.00     8894.00           8894.0   \n",
       "mean            31.48           2.62     5.53       13.63             14.8   \n",
       "min              0.00           0.00     0.09        0.07              0.0   \n",
       "max            711.22          59.27    53.28       70.74            100.0   \n",
       "\n",
       "       prom_part_1000  office_count_1000  trc_count_1000  leisure_count_1000  \n",
       "count         8894.00            8894.00         8894.00             8894.00  \n",
       "mean             8.98               2.93            2.07                0.36  \n",
       "min              0.00               0.00            0.00                0.00  \n",
       "max             72.20              84.00           20.00               30.00  "
      ]
     },
     "execution_count": 10,
     "metadata": {},
     "output_type": "execute_result"
    }
   ],
   "source": [
    "housing.describe() \\\n",
    "  .iloc[[0, 1, 3, 7], [i for i in range(22, 31)]].round(2)"
   ]
  },
  {
   "cell_type": "code",
   "execution_count": 11,
   "metadata": {
    "colab": {
     "base_uri": "https://localhost:8080/",
     "height": 175
    },
    "id": "ZqqIlPa4qtKW",
    "outputId": "d67db4f5-46e1-4edb-caa5-cbbd30fef103"
   },
   "outputs": [
    {
     "data": {
      "text/html": [
       "\n",
       "  <div id=\"df-eadcd50c-ce72-4319-8162-cb8aa9d32d06\">\n",
       "    <div class=\"colab-df-container\">\n",
       "      <div>\n",
       "<style scoped>\n",
       "    .dataframe tbody tr th:only-of-type {\n",
       "        vertical-align: middle;\n",
       "    }\n",
       "\n",
       "    .dataframe tbody tr th {\n",
       "        vertical-align: top;\n",
       "    }\n",
       "\n",
       "    .dataframe thead th {\n",
       "        text-align: right;\n",
       "    }\n",
       "</style>\n",
       "<table border=\"1\" class=\"dataframe\">\n",
       "  <thead>\n",
       "    <tr style=\"text-align: right;\">\n",
       "      <th></th>\n",
       "      <th>price_doc</th>\n",
       "    </tr>\n",
       "  </thead>\n",
       "  <tbody>\n",
       "    <tr>\n",
       "      <th>count</th>\n",
       "      <td>8894.00</td>\n",
       "    </tr>\n",
       "    <tr>\n",
       "      <th>mean</th>\n",
       "      <td>7807093.24</td>\n",
       "    </tr>\n",
       "    <tr>\n",
       "      <th>min</th>\n",
       "      <td>100000.00</td>\n",
       "    </tr>\n",
       "    <tr>\n",
       "      <th>max</th>\n",
       "      <td>80777440.00</td>\n",
       "    </tr>\n",
       "  </tbody>\n",
       "</table>\n",
       "</div>\n",
       "      <button class=\"colab-df-convert\" onclick=\"convertToInteractive('df-eadcd50c-ce72-4319-8162-cb8aa9d32d06')\"\n",
       "              title=\"Convert this dataframe to an interactive table.\"\n",
       "              style=\"display:none;\">\n",
       "        \n",
       "  <svg xmlns=\"http://www.w3.org/2000/svg\" height=\"24px\"viewBox=\"0 0 24 24\"\n",
       "       width=\"24px\">\n",
       "    <path d=\"M0 0h24v24H0V0z\" fill=\"none\"/>\n",
       "    <path d=\"M18.56 5.44l.94 2.06.94-2.06 2.06-.94-2.06-.94-.94-2.06-.94 2.06-2.06.94zm-11 1L8.5 8.5l.94-2.06 2.06-.94-2.06-.94L8.5 2.5l-.94 2.06-2.06.94zm10 10l.94 2.06.94-2.06 2.06-.94-2.06-.94-.94-2.06-.94 2.06-2.06.94z\"/><path d=\"M17.41 7.96l-1.37-1.37c-.4-.4-.92-.59-1.43-.59-.52 0-1.04.2-1.43.59L10.3 9.45l-7.72 7.72c-.78.78-.78 2.05 0 2.83L4 21.41c.39.39.9.59 1.41.59.51 0 1.02-.2 1.41-.59l7.78-7.78 2.81-2.81c.8-.78.8-2.07 0-2.86zM5.41 20L4 18.59l7.72-7.72 1.47 1.35L5.41 20z\"/>\n",
       "  </svg>\n",
       "      </button>\n",
       "      \n",
       "  <style>\n",
       "    .colab-df-container {\n",
       "      display:flex;\n",
       "      flex-wrap:wrap;\n",
       "      gap: 12px;\n",
       "    }\n",
       "\n",
       "    .colab-df-convert {\n",
       "      background-color: #E8F0FE;\n",
       "      border: none;\n",
       "      border-radius: 50%;\n",
       "      cursor: pointer;\n",
       "      display: none;\n",
       "      fill: #1967D2;\n",
       "      height: 32px;\n",
       "      padding: 0 0 0 0;\n",
       "      width: 32px;\n",
       "    }\n",
       "\n",
       "    .colab-df-convert:hover {\n",
       "      background-color: #E2EBFA;\n",
       "      box-shadow: 0px 1px 2px rgba(60, 64, 67, 0.3), 0px 1px 3px 1px rgba(60, 64, 67, 0.15);\n",
       "      fill: #174EA6;\n",
       "    }\n",
       "\n",
       "    [theme=dark] .colab-df-convert {\n",
       "      background-color: #3B4455;\n",
       "      fill: #D2E3FC;\n",
       "    }\n",
       "\n",
       "    [theme=dark] .colab-df-convert:hover {\n",
       "      background-color: #434B5C;\n",
       "      box-shadow: 0px 1px 3px 1px rgba(0, 0, 0, 0.15);\n",
       "      filter: drop-shadow(0px 1px 2px rgba(0, 0, 0, 0.3));\n",
       "      fill: #FFFFFF;\n",
       "    }\n",
       "  </style>\n",
       "\n",
       "      <script>\n",
       "        const buttonEl =\n",
       "          document.querySelector('#df-eadcd50c-ce72-4319-8162-cb8aa9d32d06 button.colab-df-convert');\n",
       "        buttonEl.style.display =\n",
       "          google.colab.kernel.accessAllowed ? 'block' : 'none';\n",
       "\n",
       "        async function convertToInteractive(key) {\n",
       "          const element = document.querySelector('#df-eadcd50c-ce72-4319-8162-cb8aa9d32d06');\n",
       "          const dataTable =\n",
       "            await google.colab.kernel.invokeFunction('convertToInteractive',\n",
       "                                                     [key], {});\n",
       "          if (!dataTable) return;\n",
       "\n",
       "          const docLinkHtml = 'Like what you see? Visit the ' +\n",
       "            '<a target=\"_blank\" href=https://colab.research.google.com/notebooks/data_table.ipynb>data table notebook</a>'\n",
       "            + ' to learn more about interactive tables.';\n",
       "          element.innerHTML = '';\n",
       "          dataTable['output_type'] = 'display_data';\n",
       "          await google.colab.output.renderOutput(dataTable, element);\n",
       "          const docLink = document.createElement('div');\n",
       "          docLink.innerHTML = docLinkHtml;\n",
       "          element.appendChild(docLink);\n",
       "        }\n",
       "      </script>\n",
       "    </div>\n",
       "  </div>\n",
       "  "
      ],
      "text/plain": [
       "         price_doc\n",
       "count      8894.00\n",
       "mean    7807093.24\n",
       "min      100000.00\n",
       "max    80777440.00"
      ]
     },
     "execution_count": 11,
     "metadata": {},
     "output_type": "execute_result"
    }
   ],
   "source": [
    "# целевая переменная\n",
    "housing.describe().iloc[[0, 1, 3, 7], [31]].round(2)"
   ]
  },
  {
   "cell_type": "markdown",
   "metadata": {
    "id": "GMiStcIAu8Zr"
   },
   "source": [
    "Рассмотрим число уникальных значений признаков и выведем уникальные значения категориальных переменных:"
   ]
  },
  {
   "cell_type": "code",
   "execution_count": 12,
   "metadata": {
    "colab": {
     "base_uri": "https://localhost:8080/",
     "height": 36
    },
    "id": "dzmkKuJmvtCJ",
    "outputId": "b4098218-a6e0-49ec-df43-6de36c3d6faf"
   },
   "outputs": [
    {
     "data": {
      "application/vnd.google.colaboratory.intrinsic+json": {
       "type": "string"
      },
      "text/plain": [
       "'leisure_count_1000'"
      ]
     },
     "execution_count": 12,
     "metadata": {},
     "output_type": "execute_result"
    }
   ],
   "source": [
    "# все переменные\n",
    "housing_vars = housing.columns[:-1]\n",
    "housing_vars[34]"
   ]
  },
  {
   "cell_type": "code",
   "execution_count": 13,
   "metadata": {
    "colab": {
     "base_uri": "https://localhost:8080/"
    },
    "id": "ccLReLR_skGk",
    "outputId": "53bfba09-07ca-4c16-e6ca-4a872d671a29"
   },
   "outputs": [
    {
     "name": "stdout",
     "output_type": "stream",
     "text": [
      "Число уникальных значений в признаке full_sq              -   160\n",
      "Число уникальных значений в признаке life_sq              -   114\n",
      "Число уникальных значений в признаке floor                -    36\n",
      "Число уникальных значений в признаке max_floor            -    43\n",
      "Число уникальных значений в признаке material             -     5\n",
      "Число уникальных значений в признаке build_year           -   105\n",
      "Число уникальных значений в признаке num_room             -    11\n",
      "Число уникальных значений в признаке kitch_sq             -    40\n",
      "Число уникальных значений в признаке sub_area             -   144\n",
      "Число уникальных значений в признаке area_m               -   144\n",
      "Число уникальных значений в признаке green_zone_part      -   144\n",
      "Число уникальных значений в признаке indust_part          -   130\n",
      "Число уникальных значений в признаке preschool            -    13\n",
      "Число уникальных значений в признаке school               -    14\n",
      "Число уникальных значений в признаке healthcare           -     7\n",
      "Число уникальных значений в признаке shopping             -    16\n",
      "Число уникальных значений в признаке office               -    30\n",
      "Число уникальных значений в признаке radiation            -     2\n",
      "Число уникальных значений в признаке detention            -     2\n",
      "Число уникальных значений в признаке young                -   144\n",
      "Число уникальных значений в признаке work                 -   143\n",
      "Число уникальных значений в признаке elder                -   144\n",
      "Число уникальных значений в признаке 0_6_age              -   144\n",
      "Число уникальных значений в признаке 7_14_age             -   144\n",
      "Число уникальных значений в признаке metro_min_avto       -  6474\n",
      "Число уникальных значений в признаке metro_km_avto        -  6474\n",
      "Число уникальных значений в признаке metro_min_walk       -  6469\n",
      "Число уникальных значений в признаке metro_km_walk        -  6469\n",
      "Число уникальных значений в признаке mkad_km              -  6476\n",
      "Число уникальных значений в признаке kremlin_km           -  6476\n",
      "Число уникальных значений в признаке green_part_1000      -  2949\n",
      "Число уникальных значений в признаке prom_part_1000       -  2353\n",
      "Число уникальных значений в признаке office_count_1000    -    75\n",
      "Число уникальных значений в признаке trc_count_1000       -    18\n",
      "Число уникальных значений в признаке leisure_count_1000   -    23\n"
     ]
    }
   ],
   "source": [
    "for i in range(len(housing_vars)):\n",
    "  print(f\"Число уникальных значений в признаке {str(housing_vars[i]).ljust(20)} - \"\n",
    "    f\"{str(housing[housing_vars[i]].nunique()).rjust(5)}\")"
   ]
  },
  {
   "cell_type": "code",
   "execution_count": 14,
   "metadata": {
    "colab": {
     "base_uri": "https://localhost:8080/"
    },
    "id": "6I56fmfWvklj",
    "outputId": "8d542100-4261-47e2-b07d-962b6119764b"
   },
   "outputs": [
    {
     "data": {
      "text/plain": [
       "array(['panel', 'breezeblock', 'brick', 'mass concrete plus brick',\n",
       "       'mass concrete'], dtype=object)"
      ]
     },
     "execution_count": 14,
     "metadata": {},
     "output_type": "execute_result"
    }
   ],
   "source": [
    "housing['material'].unique()"
   ]
  },
  {
   "cell_type": "code",
   "execution_count": 15,
   "metadata": {
    "colab": {
     "base_uri": "https://localhost:8080/"
    },
    "id": "mJqon7ZUyRtl",
    "outputId": "f4504411-5053-4e15-d599-204a8c1c1c33"
   },
   "outputs": [
    {
     "data": {
      "text/plain": [
       "array(['Dmitrovskoe', 'Savelovskoe', 'Krjukovo', 'Brateevo',\n",
       "       'Novogireevo'], dtype=object)"
      ]
     },
     "execution_count": 15,
     "metadata": {},
     "output_type": "execute_result"
    }
   ],
   "source": [
    "housing['sub_area'].unique()[:5]"
   ]
  },
  {
   "cell_type": "code",
   "execution_count": 16,
   "metadata": {
    "colab": {
     "base_uri": "https://localhost:8080/"
    },
    "id": "pvQ6EtIRyAW9",
    "outputId": "7a952b19-f264-40cb-fcdd-e9f2fa066388"
   },
   "outputs": [
    {
     "data": {
      "text/plain": [
       "array(['no', 'yes'], dtype=object)"
      ]
     },
     "execution_count": 16,
     "metadata": {},
     "output_type": "execute_result"
    }
   ],
   "source": [
    "housing['radiation'].unique()"
   ]
  },
  {
   "cell_type": "code",
   "execution_count": 17,
   "metadata": {
    "colab": {
     "base_uri": "https://localhost:8080/"
    },
    "id": "lHEi6eD4yIud",
    "outputId": "5d096543-0ef1-4028-d96b-bcbed22993bd"
   },
   "outputs": [
    {
     "data": {
      "text/plain": [
       "array(['no', 'yes'], dtype=object)"
      ]
     },
     "execution_count": 17,
     "metadata": {},
     "output_type": "execute_result"
    }
   ],
   "source": [
    "housing['detention'].unique()"
   ]
  },
  {
   "cell_type": "markdown",
   "metadata": {
    "id": "KxkBBu5LsicW"
   },
   "source": [
    "**Вывод по анализу переменных:** \n",
    "1. Следует отметить категориальные переменные, которые необходимо будет факторизовать: `sub_area`, `material`, `radiation` и `detention`. \n",
    "2. Также переменная `build_year` содержит не соответствующее реальности значение — $4965$ год. Эту переменную стоит отдельно проверить на достоверность в следующем разделе при обработке выбросов. \n",
    "3. Были обнаружены переменные, не заявленные в задаче: `kitch_sq`, `shopping` и `office`. Они подлежат удалению."
   ]
  },
  {
   "cell_type": "markdown",
   "metadata": {
    "id": "ELqHExaT5aug"
   },
   "source": [
    "## Удаление заведомо ненужных переменных"
   ]
  },
  {
   "cell_type": "code",
   "execution_count": 18,
   "metadata": {
    "colab": {
     "base_uri": "https://localhost:8080/",
     "height": 299
    },
    "id": "vgHU5dRI0_2v",
    "outputId": "7174afe7-48b0-4f22-94dd-09bd1b2b3ebb"
   },
   "outputs": [
    {
     "data": {
      "text/html": [
       "\n",
       "  <div id=\"df-ced5681a-5b7e-4531-8da6-5413c7a6f4ec\">\n",
       "    <div class=\"colab-df-container\">\n",
       "      <div>\n",
       "<style scoped>\n",
       "    .dataframe tbody tr th:only-of-type {\n",
       "        vertical-align: middle;\n",
       "    }\n",
       "\n",
       "    .dataframe tbody tr th {\n",
       "        vertical-align: top;\n",
       "    }\n",
       "\n",
       "    .dataframe thead th {\n",
       "        text-align: right;\n",
       "    }\n",
       "</style>\n",
       "<table border=\"1\" class=\"dataframe\">\n",
       "  <thead>\n",
       "    <tr style=\"text-align: right;\">\n",
       "      <th></th>\n",
       "      <th>full_sq</th>\n",
       "      <th>life_sq</th>\n",
       "      <th>floor</th>\n",
       "      <th>max_floor</th>\n",
       "      <th>material</th>\n",
       "      <th>build_year</th>\n",
       "      <th>num_room</th>\n",
       "      <th>sub_area</th>\n",
       "      <th>area_m</th>\n",
       "      <th>green_zone_part</th>\n",
       "      <th>...</th>\n",
       "      <th>metro_min_walk</th>\n",
       "      <th>metro_km_walk</th>\n",
       "      <th>mkad_km</th>\n",
       "      <th>kremlin_km</th>\n",
       "      <th>green_part_1000</th>\n",
       "      <th>prom_part_1000</th>\n",
       "      <th>office_count_1000</th>\n",
       "      <th>trc_count_1000</th>\n",
       "      <th>leisure_count_1000</th>\n",
       "      <th>price_doc</th>\n",
       "    </tr>\n",
       "  </thead>\n",
       "  <tbody>\n",
       "    <tr>\n",
       "      <th>0</th>\n",
       "      <td>38</td>\n",
       "      <td>18.0</td>\n",
       "      <td>1.0</td>\n",
       "      <td>14.0</td>\n",
       "      <td>panel</td>\n",
       "      <td>1971.0</td>\n",
       "      <td>1.0</td>\n",
       "      <td>Dmitrovskoe</td>\n",
       "      <td>7.126815e+06</td>\n",
       "      <td>0.125882</td>\n",
       "      <td>...</td>\n",
       "      <td>27.084184</td>\n",
       "      <td>2.257015</td>\n",
       "      <td>2.442781</td>\n",
       "      <td>14.856442</td>\n",
       "      <td>17.16</td>\n",
       "      <td>10.33</td>\n",
       "      <td>2</td>\n",
       "      <td>4</td>\n",
       "      <td>0</td>\n",
       "      <td>5150000</td>\n",
       "    </tr>\n",
       "    <tr>\n",
       "      <th>1</th>\n",
       "      <td>41</td>\n",
       "      <td>17.0</td>\n",
       "      <td>14.0</td>\n",
       "      <td>16.0</td>\n",
       "      <td>panel</td>\n",
       "      <td>1978.0</td>\n",
       "      <td>1.0</td>\n",
       "      <td>Savelovskoe</td>\n",
       "      <td>2.641243e+06</td>\n",
       "      <td>0.015900</td>\n",
       "      <td>...</td>\n",
       "      <td>13.719174</td>\n",
       "      <td>1.143264</td>\n",
       "      <td>11.528984</td>\n",
       "      <td>5.323699</td>\n",
       "      <td>0.90</td>\n",
       "      <td>39.48</td>\n",
       "      <td>17</td>\n",
       "      <td>3</td>\n",
       "      <td>0</td>\n",
       "      <td>5980000</td>\n",
       "    </tr>\n",
       "    <tr>\n",
       "      <th>2</th>\n",
       "      <td>41</td>\n",
       "      <td>20.0</td>\n",
       "      <td>11.0</td>\n",
       "      <td>14.0</td>\n",
       "      <td>panel</td>\n",
       "      <td>1989.0</td>\n",
       "      <td>1.0</td>\n",
       "      <td>Krjukovo</td>\n",
       "      <td>1.084231e+07</td>\n",
       "      <td>0.062172</td>\n",
       "      <td>...</td>\n",
       "      <td>276.453594</td>\n",
       "      <td>23.037800</td>\n",
       "      <td>20.828299</td>\n",
       "      <td>38.988909</td>\n",
       "      <td>7.54</td>\n",
       "      <td>6.64</td>\n",
       "      <td>0</td>\n",
       "      <td>2</td>\n",
       "      <td>0</td>\n",
       "      <td>4600000</td>\n",
       "    </tr>\n",
       "    <tr>\n",
       "      <th>3</th>\n",
       "      <td>38</td>\n",
       "      <td>19.0</td>\n",
       "      <td>6.0</td>\n",
       "      <td>17.0</td>\n",
       "      <td>panel</td>\n",
       "      <td>1986.0</td>\n",
       "      <td>1.0</td>\n",
       "      <td>Brateevo</td>\n",
       "      <td>7.587523e+06</td>\n",
       "      <td>0.398794</td>\n",
       "      <td>...</td>\n",
       "      <td>14.085660</td>\n",
       "      <td>1.173805</td>\n",
       "      <td>2.885041</td>\n",
       "      <td>14.921056</td>\n",
       "      <td>24.97</td>\n",
       "      <td>0.00</td>\n",
       "      <td>0</td>\n",
       "      <td>5</td>\n",
       "      <td>0</td>\n",
       "      <td>5650000</td>\n",
       "    </tr>\n",
       "    <tr>\n",
       "      <th>4</th>\n",
       "      <td>58</td>\n",
       "      <td>37.0</td>\n",
       "      <td>3.0</td>\n",
       "      <td>9.0</td>\n",
       "      <td>panel</td>\n",
       "      <td>1968.0</td>\n",
       "      <td>3.0</td>\n",
       "      <td>Novogireevo</td>\n",
       "      <td>4.395333e+06</td>\n",
       "      <td>0.063755</td>\n",
       "      <td>...</td>\n",
       "      <td>5.455795</td>\n",
       "      <td>0.454650</td>\n",
       "      <td>1.920884</td>\n",
       "      <td>11.812614</td>\n",
       "      <td>3.46</td>\n",
       "      <td>5.41</td>\n",
       "      <td>0</td>\n",
       "      <td>4</td>\n",
       "      <td>4</td>\n",
       "      <td>9300000</td>\n",
       "    </tr>\n",
       "  </tbody>\n",
       "</table>\n",
       "<p>5 rows × 33 columns</p>\n",
       "</div>\n",
       "      <button class=\"colab-df-convert\" onclick=\"convertToInteractive('df-ced5681a-5b7e-4531-8da6-5413c7a6f4ec')\"\n",
       "              title=\"Convert this dataframe to an interactive table.\"\n",
       "              style=\"display:none;\">\n",
       "        \n",
       "  <svg xmlns=\"http://www.w3.org/2000/svg\" height=\"24px\"viewBox=\"0 0 24 24\"\n",
       "       width=\"24px\">\n",
       "    <path d=\"M0 0h24v24H0V0z\" fill=\"none\"/>\n",
       "    <path d=\"M18.56 5.44l.94 2.06.94-2.06 2.06-.94-2.06-.94-.94-2.06-.94 2.06-2.06.94zm-11 1L8.5 8.5l.94-2.06 2.06-.94-2.06-.94L8.5 2.5l-.94 2.06-2.06.94zm10 10l.94 2.06.94-2.06 2.06-.94-2.06-.94-.94-2.06-.94 2.06-2.06.94z\"/><path d=\"M17.41 7.96l-1.37-1.37c-.4-.4-.92-.59-1.43-.59-.52 0-1.04.2-1.43.59L10.3 9.45l-7.72 7.72c-.78.78-.78 2.05 0 2.83L4 21.41c.39.39.9.59 1.41.59.51 0 1.02-.2 1.41-.59l7.78-7.78 2.81-2.81c.8-.78.8-2.07 0-2.86zM5.41 20L4 18.59l7.72-7.72 1.47 1.35L5.41 20z\"/>\n",
       "  </svg>\n",
       "      </button>\n",
       "      \n",
       "  <style>\n",
       "    .colab-df-container {\n",
       "      display:flex;\n",
       "      flex-wrap:wrap;\n",
       "      gap: 12px;\n",
       "    }\n",
       "\n",
       "    .colab-df-convert {\n",
       "      background-color: #E8F0FE;\n",
       "      border: none;\n",
       "      border-radius: 50%;\n",
       "      cursor: pointer;\n",
       "      display: none;\n",
       "      fill: #1967D2;\n",
       "      height: 32px;\n",
       "      padding: 0 0 0 0;\n",
       "      width: 32px;\n",
       "    }\n",
       "\n",
       "    .colab-df-convert:hover {\n",
       "      background-color: #E2EBFA;\n",
       "      box-shadow: 0px 1px 2px rgba(60, 64, 67, 0.3), 0px 1px 3px 1px rgba(60, 64, 67, 0.15);\n",
       "      fill: #174EA6;\n",
       "    }\n",
       "\n",
       "    [theme=dark] .colab-df-convert {\n",
       "      background-color: #3B4455;\n",
       "      fill: #D2E3FC;\n",
       "    }\n",
       "\n",
       "    [theme=dark] .colab-df-convert:hover {\n",
       "      background-color: #434B5C;\n",
       "      box-shadow: 0px 1px 3px 1px rgba(0, 0, 0, 0.15);\n",
       "      filter: drop-shadow(0px 1px 2px rgba(0, 0, 0, 0.3));\n",
       "      fill: #FFFFFF;\n",
       "    }\n",
       "  </style>\n",
       "\n",
       "      <script>\n",
       "        const buttonEl =\n",
       "          document.querySelector('#df-ced5681a-5b7e-4531-8da6-5413c7a6f4ec button.colab-df-convert');\n",
       "        buttonEl.style.display =\n",
       "          google.colab.kernel.accessAllowed ? 'block' : 'none';\n",
       "\n",
       "        async function convertToInteractive(key) {\n",
       "          const element = document.querySelector('#df-ced5681a-5b7e-4531-8da6-5413c7a6f4ec');\n",
       "          const dataTable =\n",
       "            await google.colab.kernel.invokeFunction('convertToInteractive',\n",
       "                                                     [key], {});\n",
       "          if (!dataTable) return;\n",
       "\n",
       "          const docLinkHtml = 'Like what you see? Visit the ' +\n",
       "            '<a target=\"_blank\" href=https://colab.research.google.com/notebooks/data_table.ipynb>data table notebook</a>'\n",
       "            + ' to learn more about interactive tables.';\n",
       "          element.innerHTML = '';\n",
       "          dataTable['output_type'] = 'display_data';\n",
       "          await google.colab.output.renderOutput(dataTable, element);\n",
       "          const docLink = document.createElement('div');\n",
       "          docLink.innerHTML = docLinkHtml;\n",
       "          element.appendChild(docLink);\n",
       "        }\n",
       "      </script>\n",
       "    </div>\n",
       "  </div>\n",
       "  "
      ],
      "text/plain": [
       "   full_sq  life_sq  floor  max_floor material  build_year  num_room  \\\n",
       "0       38     18.0    1.0       14.0    panel      1971.0       1.0   \n",
       "1       41     17.0   14.0       16.0    panel      1978.0       1.0   \n",
       "2       41     20.0   11.0       14.0    panel      1989.0       1.0   \n",
       "3       38     19.0    6.0       17.0    panel      1986.0       1.0   \n",
       "4       58     37.0    3.0        9.0    panel      1968.0       3.0   \n",
       "\n",
       "      sub_area        area_m  green_zone_part  ...  metro_min_walk  \\\n",
       "0  Dmitrovskoe  7.126815e+06         0.125882  ...       27.084184   \n",
       "1  Savelovskoe  2.641243e+06         0.015900  ...       13.719174   \n",
       "2     Krjukovo  1.084231e+07         0.062172  ...      276.453594   \n",
       "3     Brateevo  7.587523e+06         0.398794  ...       14.085660   \n",
       "4  Novogireevo  4.395333e+06         0.063755  ...        5.455795   \n",
       "\n",
       "   metro_km_walk    mkad_km  kremlin_km green_part_1000 prom_part_1000  \\\n",
       "0       2.257015   2.442781   14.856442           17.16          10.33   \n",
       "1       1.143264  11.528984    5.323699            0.90          39.48   \n",
       "2      23.037800  20.828299   38.988909            7.54           6.64   \n",
       "3       1.173805   2.885041   14.921056           24.97           0.00   \n",
       "4       0.454650   1.920884   11.812614            3.46           5.41   \n",
       "\n",
       "   office_count_1000  trc_count_1000  leisure_count_1000  price_doc  \n",
       "0                  2               4                   0    5150000  \n",
       "1                 17               3                   0    5980000  \n",
       "2                  0               2                   0    4600000  \n",
       "3                  0               5                   0    5650000  \n",
       "4                  0               4                   4    9300000  \n",
       "\n",
       "[5 rows x 33 columns]"
      ]
     },
     "execution_count": 18,
     "metadata": {},
     "output_type": "execute_result"
    }
   ],
   "source": [
    "# удаление переменных, не заявленных в задаче\n",
    "housing = housing.drop(['kitch_sq', 'shopping', 'office'], axis=1)\n",
    "housing_vars = housing.columns\n",
    "housing.head(5)"
   ]
  },
  {
   "cell_type": "code",
   "execution_count": 19,
   "metadata": {
    "colab": {
     "base_uri": "https://localhost:8080/"
    },
    "id": "tr21_dwl3Jsz",
    "outputId": "8fe15672-b25c-4a57-d025-6f87063ac402"
   },
   "outputs": [
    {
     "data": {
      "text/plain": [
       "(8894, 33)"
      ]
     },
     "execution_count": 19,
     "metadata": {},
     "output_type": "execute_result"
    }
   ],
   "source": [
    "# контролируем размерность данных, чтобы не потерять их случайно\n",
    "housing.shape"
   ]
  },
  {
   "cell_type": "markdown",
   "metadata": {
    "id": "0d4yS61c4qi0"
   },
   "source": [
    "**Вывод по удалению переменных:**\n",
    "1. Переменные, не заявленные в задаче, удалены.\n",
    "2. Были обнаружены переменные одинаковые по своей смысловой нагрузке: `green_part_1000` и `green_zone_part`, `prom_part_1000` и `indust_part`. Вопрос о том, какой из них удалить из пары, будет разобран в следующем разделе."
   ]
  },
  {
   "cell_type": "markdown",
   "metadata": {
    "id": "D97JP5Uo5hwS"
   },
   "source": [
    "## Обработка пропусков и категориальных переменных"
   ]
  },
  {
   "cell_type": "code",
   "execution_count": 20,
   "metadata": {
    "colab": {
     "base_uri": "https://localhost:8080/"
    },
    "id": "ufmJEFc936lH",
    "outputId": "fdd1c132-78c0-4da1-8129-00f6d38afb0f"
   },
   "outputs": [
    {
     "data": {
      "text/plain": [
       "full_sq                0\n",
       "life_sq                0\n",
       "floor                  0\n",
       "max_floor              0\n",
       "material               0\n",
       "build_year            35\n",
       "num_room               0\n",
       "sub_area               0\n",
       "area_m                 0\n",
       "green_zone_part        0\n",
       "indust_part            0\n",
       "preschool              0\n",
       "school                 0\n",
       "healthcare             0\n",
       "radiation              0\n",
       "detention              0\n",
       "young                  0\n",
       "work                   0\n",
       "elder                  0\n",
       "0_6_age                0\n",
       "7_14_age               0\n",
       "metro_min_avto         0\n",
       "metro_km_avto          0\n",
       "metro_min_walk        11\n",
       "metro_km_walk         11\n",
       "mkad_km                0\n",
       "kremlin_km             0\n",
       "green_part_1000        0\n",
       "prom_part_1000         0\n",
       "office_count_1000      0\n",
       "trc_count_1000         0\n",
       "leisure_count_1000     0\n",
       "price_doc              0\n",
       "dtype: int64"
      ]
     },
     "execution_count": 20,
     "metadata": {},
     "output_type": "execute_result"
    }
   ],
   "source": [
    "# проверим датасет на наличие пропусков\n",
    "housing.isnull().sum()"
   ]
  },
  {
   "cell_type": "markdown",
   "metadata": {
    "id": "qZbVNFJz5z9U"
   },
   "source": [
    "Заменим пропущенные значения на среднее значение по признаку, так как это самый оптимальный способ импутации данных:"
   ]
  },
  {
   "cell_type": "code",
   "execution_count": 26,
   "metadata": {
    "colab": {
     "base_uri": "https://localhost:8080/"
    },
    "id": "CO2kXxnW5zcN",
    "outputId": "f0676440-8c9f-4543-80b3-9f75e960c2fe"
   },
   "outputs": [
    {
     "data": {
      "text/plain": [
       "full_sq               0\n",
       "life_sq               0\n",
       "floor                 0\n",
       "max_floor             0\n",
       "material              0\n",
       "build_year            0\n",
       "num_room              0\n",
       "sub_area              0\n",
       "area_m                0\n",
       "green_zone_part       0\n",
       "indust_part           0\n",
       "preschool             0\n",
       "school                0\n",
       "healthcare            0\n",
       "radiation             0\n",
       "detention             0\n",
       "young                 0\n",
       "work                  0\n",
       "elder                 0\n",
       "0_6_age               0\n",
       "7_14_age              0\n",
       "metro_min_avto        0\n",
       "metro_km_avto         0\n",
       "metro_min_walk        0\n",
       "metro_km_walk         0\n",
       "mkad_km               0\n",
       "kremlin_km            0\n",
       "green_part_1000       0\n",
       "prom_part_1000        0\n",
       "office_count_1000     0\n",
       "trc_count_1000        0\n",
       "leisure_count_1000    0\n",
       "price_doc             0\n",
       "dtype: int64"
      ]
     },
     "execution_count": 26,
     "metadata": {},
     "output_type": "execute_result"
    }
   ],
   "source": [
    "housing = housing.fillna({'build_year': housing.build_year.median(), \n",
    "                          'metro_min_walk': housing.metro_min_walk.mean(), \n",
    "                          'metro_km_walk': housing.metro_km_walk.mean()})\n",
    "\n",
    "# проверим подстановку\n",
    "housing.isnull().sum()"
   ]
  },
  {
   "cell_type": "markdown",
   "metadata": {
    "id": "Gch0Ikkr79KF"
   },
   "source": [
    "Теперь стоит факторизовать категориальные переменные:"
   ]
  },
  {
   "cell_type": "code",
   "execution_count": 27,
   "metadata": {
    "colab": {
     "base_uri": "https://localhost:8080/"
    },
    "id": "_0s34fRX8BAi",
    "outputId": "a69c806e-ad5c-433c-a850-2d8dfbb64138"
   },
   "outputs": [
    {
     "name": "stdout",
     "output_type": "stream",
     "text": [
      "<class 'pandas.core.frame.DataFrame'>\n",
      "RangeIndex: 8894 entries, 0 to 8893\n",
      "Data columns (total 33 columns):\n",
      " #   Column              Non-Null Count  Dtype  \n",
      "---  ------              --------------  -----  \n",
      " 0   full_sq             8894 non-null   int64  \n",
      " 1   life_sq             8894 non-null   float64\n",
      " 2   floor               8894 non-null   float64\n",
      " 3   max_floor           8894 non-null   float64\n",
      " 4   material            8894 non-null   int64  \n",
      " 5   build_year          8894 non-null   float64\n",
      " 6   num_room            8894 non-null   float64\n",
      " 7   sub_area            8894 non-null   int64  \n",
      " 8   area_m              8894 non-null   float64\n",
      " 9   green_zone_part     8894 non-null   float64\n",
      " 10  indust_part         8894 non-null   float64\n",
      " 11  preschool           8894 non-null   int64  \n",
      " 12  school              8894 non-null   int64  \n",
      " 13  healthcare          8894 non-null   int64  \n",
      " 14  radiation           8894 non-null   int64  \n",
      " 15  detention           8894 non-null   int64  \n",
      " 16  young               8894 non-null   int64  \n",
      " 17  work                8894 non-null   int64  \n",
      " 18  elder               8894 non-null   int64  \n",
      " 19  0_6_age             8894 non-null   int64  \n",
      " 20  7_14_age            8894 non-null   int64  \n",
      " 21  metro_min_avto      8894 non-null   float64\n",
      " 22  metro_km_avto       8894 non-null   float64\n",
      " 23  metro_min_walk      8894 non-null   float64\n",
      " 24  metro_km_walk       8894 non-null   float64\n",
      " 25  mkad_km             8894 non-null   float64\n",
      " 26  kremlin_km          8894 non-null   float64\n",
      " 27  green_part_1000     8894 non-null   float64\n",
      " 28  prom_part_1000      8894 non-null   float64\n",
      " 29  office_count_1000   8894 non-null   int64  \n",
      " 30  trc_count_1000      8894 non-null   int64  \n",
      " 31  leisure_count_1000  8894 non-null   int64  \n",
      " 32  price_doc           8894 non-null   int64  \n",
      "dtypes: float64(16), int64(17)\n",
      "memory usage: 2.2 MB\n"
     ]
    }
   ],
   "source": [
    "housing['sub_area'] = pd.factorize(housing['sub_area'])[0]\n",
    "housing['material'] = pd.factorize(housing['material'])[0]\n",
    "housing['radiation'] = pd.factorize(housing['radiation'])[0]\n",
    "housing['detention'] = pd.factorize(housing['detention'])[0]\n",
    "\n",
    "# проверим результат факторизации\n",
    "housing.info()"
   ]
  },
  {
   "cell_type": "code",
   "execution_count": 28,
   "metadata": {
    "colab": {
     "base_uri": "https://localhost:8080/"
    },
    "id": "75uZ_pd_9B2W",
    "outputId": "fb68bd0b-e3eb-4f8c-d274-b92c3cd36109"
   },
   "outputs": [
    {
     "name": "stdout",
     "output_type": "stream",
     "text": [
      "[  0   1   2   3   4   5   6   7   8   9  10  11  12  13  14  15  16  17\n",
      "  18  19  20  21  22  23  24  25  26  27  28  29  30  31  32  33  34  35\n",
      "  36  37  38  39  40  41  42  43  44  45  46  47  48  49  50  51  52  53\n",
      "  54  55  56  57  58  59  60  61  62  63  64  65  66  67  68  69  70  71\n",
      "  72  73  74  75  76  77  78  79  80  81  82  83  84  85  86  87  88  89\n",
      "  90  91  92  93  94  95  96  97  98  99 100 101 102 103 104 105 106 107\n",
      " 108 109 110 111 112 113 114 115 116 117 118 119 120 121 122 123 124 125\n",
      " 126 127 128 129 130 131 132 133 134 135 136 137 138 139 140 141 142 143]\n",
      "[0 1 2 3 4]\n",
      "[0 1]\n",
      "[0 1]\n"
     ]
    }
   ],
   "source": [
    "print(housing.sub_area.unique())\n",
    "print(housing.material.unique())\n",
    "print(housing.radiation.unique())\n",
    "print(housing.detention.unique())"
   ]
  },
  {
   "cell_type": "code",
   "execution_count": 29,
   "metadata": {
    "colab": {
     "base_uri": "https://localhost:8080/",
     "height": 299
    },
    "id": "VmBWi4lc918t",
    "outputId": "9b22dc5b-e7ff-4d6a-90c8-97b617c208b3"
   },
   "outputs": [
    {
     "data": {
      "text/html": [
       "\n",
       "  <div id=\"df-89a31772-b505-440c-963d-771856d2d59a\">\n",
       "    <div class=\"colab-df-container\">\n",
       "      <div>\n",
       "<style scoped>\n",
       "    .dataframe tbody tr th:only-of-type {\n",
       "        vertical-align: middle;\n",
       "    }\n",
       "\n",
       "    .dataframe tbody tr th {\n",
       "        vertical-align: top;\n",
       "    }\n",
       "\n",
       "    .dataframe thead th {\n",
       "        text-align: right;\n",
       "    }\n",
       "</style>\n",
       "<table border=\"1\" class=\"dataframe\">\n",
       "  <thead>\n",
       "    <tr style=\"text-align: right;\">\n",
       "      <th></th>\n",
       "      <th>full_sq</th>\n",
       "      <th>life_sq</th>\n",
       "      <th>floor</th>\n",
       "      <th>max_floor</th>\n",
       "      <th>material</th>\n",
       "      <th>build_year</th>\n",
       "      <th>num_room</th>\n",
       "      <th>sub_area</th>\n",
       "      <th>area_m</th>\n",
       "      <th>green_zone_part</th>\n",
       "      <th>...</th>\n",
       "      <th>metro_min_walk</th>\n",
       "      <th>metro_km_walk</th>\n",
       "      <th>mkad_km</th>\n",
       "      <th>kremlin_km</th>\n",
       "      <th>green_part_1000</th>\n",
       "      <th>prom_part_1000</th>\n",
       "      <th>office_count_1000</th>\n",
       "      <th>trc_count_1000</th>\n",
       "      <th>leisure_count_1000</th>\n",
       "      <th>price_doc</th>\n",
       "    </tr>\n",
       "  </thead>\n",
       "  <tbody>\n",
       "    <tr>\n",
       "      <th>0</th>\n",
       "      <td>38</td>\n",
       "      <td>18.0</td>\n",
       "      <td>1.0</td>\n",
       "      <td>14.0</td>\n",
       "      <td>0</td>\n",
       "      <td>1971.0</td>\n",
       "      <td>1.0</td>\n",
       "      <td>0</td>\n",
       "      <td>7.126815e+06</td>\n",
       "      <td>0.125882</td>\n",
       "      <td>...</td>\n",
       "      <td>27.084184</td>\n",
       "      <td>2.257015</td>\n",
       "      <td>2.442781</td>\n",
       "      <td>14.856442</td>\n",
       "      <td>17.16</td>\n",
       "      <td>10.33</td>\n",
       "      <td>2</td>\n",
       "      <td>4</td>\n",
       "      <td>0</td>\n",
       "      <td>5150000</td>\n",
       "    </tr>\n",
       "    <tr>\n",
       "      <th>1</th>\n",
       "      <td>41</td>\n",
       "      <td>17.0</td>\n",
       "      <td>14.0</td>\n",
       "      <td>16.0</td>\n",
       "      <td>0</td>\n",
       "      <td>1978.0</td>\n",
       "      <td>1.0</td>\n",
       "      <td>1</td>\n",
       "      <td>2.641243e+06</td>\n",
       "      <td>0.015900</td>\n",
       "      <td>...</td>\n",
       "      <td>13.719174</td>\n",
       "      <td>1.143264</td>\n",
       "      <td>11.528984</td>\n",
       "      <td>5.323699</td>\n",
       "      <td>0.90</td>\n",
       "      <td>39.48</td>\n",
       "      <td>17</td>\n",
       "      <td>3</td>\n",
       "      <td>0</td>\n",
       "      <td>5980000</td>\n",
       "    </tr>\n",
       "    <tr>\n",
       "      <th>2</th>\n",
       "      <td>41</td>\n",
       "      <td>20.0</td>\n",
       "      <td>11.0</td>\n",
       "      <td>14.0</td>\n",
       "      <td>0</td>\n",
       "      <td>1989.0</td>\n",
       "      <td>1.0</td>\n",
       "      <td>2</td>\n",
       "      <td>1.084231e+07</td>\n",
       "      <td>0.062172</td>\n",
       "      <td>...</td>\n",
       "      <td>276.453594</td>\n",
       "      <td>23.037800</td>\n",
       "      <td>20.828299</td>\n",
       "      <td>38.988909</td>\n",
       "      <td>7.54</td>\n",
       "      <td>6.64</td>\n",
       "      <td>0</td>\n",
       "      <td>2</td>\n",
       "      <td>0</td>\n",
       "      <td>4600000</td>\n",
       "    </tr>\n",
       "    <tr>\n",
       "      <th>3</th>\n",
       "      <td>38</td>\n",
       "      <td>19.0</td>\n",
       "      <td>6.0</td>\n",
       "      <td>17.0</td>\n",
       "      <td>0</td>\n",
       "      <td>1986.0</td>\n",
       "      <td>1.0</td>\n",
       "      <td>3</td>\n",
       "      <td>7.587523e+06</td>\n",
       "      <td>0.398794</td>\n",
       "      <td>...</td>\n",
       "      <td>14.085660</td>\n",
       "      <td>1.173805</td>\n",
       "      <td>2.885041</td>\n",
       "      <td>14.921056</td>\n",
       "      <td>24.97</td>\n",
       "      <td>0.00</td>\n",
       "      <td>0</td>\n",
       "      <td>5</td>\n",
       "      <td>0</td>\n",
       "      <td>5650000</td>\n",
       "    </tr>\n",
       "    <tr>\n",
       "      <th>4</th>\n",
       "      <td>58</td>\n",
       "      <td>37.0</td>\n",
       "      <td>3.0</td>\n",
       "      <td>9.0</td>\n",
       "      <td>0</td>\n",
       "      <td>1968.0</td>\n",
       "      <td>3.0</td>\n",
       "      <td>4</td>\n",
       "      <td>4.395333e+06</td>\n",
       "      <td>0.063755</td>\n",
       "      <td>...</td>\n",
       "      <td>5.455795</td>\n",
       "      <td>0.454650</td>\n",
       "      <td>1.920884</td>\n",
       "      <td>11.812614</td>\n",
       "      <td>3.46</td>\n",
       "      <td>5.41</td>\n",
       "      <td>0</td>\n",
       "      <td>4</td>\n",
       "      <td>4</td>\n",
       "      <td>9300000</td>\n",
       "    </tr>\n",
       "  </tbody>\n",
       "</table>\n",
       "<p>5 rows × 33 columns</p>\n",
       "</div>\n",
       "      <button class=\"colab-df-convert\" onclick=\"convertToInteractive('df-89a31772-b505-440c-963d-771856d2d59a')\"\n",
       "              title=\"Convert this dataframe to an interactive table.\"\n",
       "              style=\"display:none;\">\n",
       "        \n",
       "  <svg xmlns=\"http://www.w3.org/2000/svg\" height=\"24px\"viewBox=\"0 0 24 24\"\n",
       "       width=\"24px\">\n",
       "    <path d=\"M0 0h24v24H0V0z\" fill=\"none\"/>\n",
       "    <path d=\"M18.56 5.44l.94 2.06.94-2.06 2.06-.94-2.06-.94-.94-2.06-.94 2.06-2.06.94zm-11 1L8.5 8.5l.94-2.06 2.06-.94-2.06-.94L8.5 2.5l-.94 2.06-2.06.94zm10 10l.94 2.06.94-2.06 2.06-.94-2.06-.94-.94-2.06-.94 2.06-2.06.94z\"/><path d=\"M17.41 7.96l-1.37-1.37c-.4-.4-.92-.59-1.43-.59-.52 0-1.04.2-1.43.59L10.3 9.45l-7.72 7.72c-.78.78-.78 2.05 0 2.83L4 21.41c.39.39.9.59 1.41.59.51 0 1.02-.2 1.41-.59l7.78-7.78 2.81-2.81c.8-.78.8-2.07 0-2.86zM5.41 20L4 18.59l7.72-7.72 1.47 1.35L5.41 20z\"/>\n",
       "  </svg>\n",
       "      </button>\n",
       "      \n",
       "  <style>\n",
       "    .colab-df-container {\n",
       "      display:flex;\n",
       "      flex-wrap:wrap;\n",
       "      gap: 12px;\n",
       "    }\n",
       "\n",
       "    .colab-df-convert {\n",
       "      background-color: #E8F0FE;\n",
       "      border: none;\n",
       "      border-radius: 50%;\n",
       "      cursor: pointer;\n",
       "      display: none;\n",
       "      fill: #1967D2;\n",
       "      height: 32px;\n",
       "      padding: 0 0 0 0;\n",
       "      width: 32px;\n",
       "    }\n",
       "\n",
       "    .colab-df-convert:hover {\n",
       "      background-color: #E2EBFA;\n",
       "      box-shadow: 0px 1px 2px rgba(60, 64, 67, 0.3), 0px 1px 3px 1px rgba(60, 64, 67, 0.15);\n",
       "      fill: #174EA6;\n",
       "    }\n",
       "\n",
       "    [theme=dark] .colab-df-convert {\n",
       "      background-color: #3B4455;\n",
       "      fill: #D2E3FC;\n",
       "    }\n",
       "\n",
       "    [theme=dark] .colab-df-convert:hover {\n",
       "      background-color: #434B5C;\n",
       "      box-shadow: 0px 1px 3px 1px rgba(0, 0, 0, 0.15);\n",
       "      filter: drop-shadow(0px 1px 2px rgba(0, 0, 0, 0.3));\n",
       "      fill: #FFFFFF;\n",
       "    }\n",
       "  </style>\n",
       "\n",
       "      <script>\n",
       "        const buttonEl =\n",
       "          document.querySelector('#df-89a31772-b505-440c-963d-771856d2d59a button.colab-df-convert');\n",
       "        buttonEl.style.display =\n",
       "          google.colab.kernel.accessAllowed ? 'block' : 'none';\n",
       "\n",
       "        async function convertToInteractive(key) {\n",
       "          const element = document.querySelector('#df-89a31772-b505-440c-963d-771856d2d59a');\n",
       "          const dataTable =\n",
       "            await google.colab.kernel.invokeFunction('convertToInteractive',\n",
       "                                                     [key], {});\n",
       "          if (!dataTable) return;\n",
       "\n",
       "          const docLinkHtml = 'Like what you see? Visit the ' +\n",
       "            '<a target=\"_blank\" href=https://colab.research.google.com/notebooks/data_table.ipynb>data table notebook</a>'\n",
       "            + ' to learn more about interactive tables.';\n",
       "          element.innerHTML = '';\n",
       "          dataTable['output_type'] = 'display_data';\n",
       "          await google.colab.output.renderOutput(dataTable, element);\n",
       "          const docLink = document.createElement('div');\n",
       "          docLink.innerHTML = docLinkHtml;\n",
       "          element.appendChild(docLink);\n",
       "        }\n",
       "      </script>\n",
       "    </div>\n",
       "  </div>\n",
       "  "
      ],
      "text/plain": [
       "   full_sq  life_sq  floor  max_floor  material  build_year  num_room  \\\n",
       "0       38     18.0    1.0       14.0         0      1971.0       1.0   \n",
       "1       41     17.0   14.0       16.0         0      1978.0       1.0   \n",
       "2       41     20.0   11.0       14.0         0      1989.0       1.0   \n",
       "3       38     19.0    6.0       17.0         0      1986.0       1.0   \n",
       "4       58     37.0    3.0        9.0         0      1968.0       3.0   \n",
       "\n",
       "   sub_area        area_m  green_zone_part  ...  metro_min_walk  \\\n",
       "0         0  7.126815e+06         0.125882  ...       27.084184   \n",
       "1         1  2.641243e+06         0.015900  ...       13.719174   \n",
       "2         2  1.084231e+07         0.062172  ...      276.453594   \n",
       "3         3  7.587523e+06         0.398794  ...       14.085660   \n",
       "4         4  4.395333e+06         0.063755  ...        5.455795   \n",
       "\n",
       "   metro_km_walk    mkad_km  kremlin_km  green_part_1000  prom_part_1000  \\\n",
       "0       2.257015   2.442781   14.856442            17.16           10.33   \n",
       "1       1.143264  11.528984    5.323699             0.90           39.48   \n",
       "2      23.037800  20.828299   38.988909             7.54            6.64   \n",
       "3       1.173805   2.885041   14.921056            24.97            0.00   \n",
       "4       0.454650   1.920884   11.812614             3.46            5.41   \n",
       "\n",
       "   office_count_1000  trc_count_1000  leisure_count_1000  price_doc  \n",
       "0                  2               4                   0    5150000  \n",
       "1                 17               3                   0    5980000  \n",
       "2                  0               2                   0    4600000  \n",
       "3                  0               5                   0    5650000  \n",
       "4                  0               4                   4    9300000  \n",
       "\n",
       "[5 rows x 33 columns]"
      ]
     },
     "execution_count": 29,
     "metadata": {},
     "output_type": "execute_result"
    }
   ],
   "source": [
    "housing.head()"
   ]
  },
  {
   "cell_type": "markdown",
   "metadata": {
    "id": "dFHV7Qh9-AaX"
   },
   "source": [
    "**Вывод по обработке пропусков и категориальных переменных:**\n",
    "1. Все пропуски были заменены на среднее значение по признаку.\n",
    "2. Все переменные готовы для дальнейшей обработке: создание новых переменных, удаление незначимых, также обработка на выбросы."
   ]
  },
  {
   "cell_type": "markdown",
   "metadata": {
    "id": "DGDFZF5VlGcO"
   },
   "source": [
    "# **2. Разведочный анализ данных**\n",
    "\n",
    "\n",
    "---\n",
    "\n",
    "Раздел включает в себя:\n",
    "* определение выбросов и их обработка;\n",
    "* создание новых переменных и удаление незначимых;\n",
    "* одномерный анализ;\n",
    "* многомерный анализ."
   ]
  },
  {
   "cell_type": "markdown",
   "metadata": {
    "id": "0mMRp-gOGMgM"
   },
   "source": [
    "## Определение выбросов и их обработка"
   ]
  },
  {
   "cell_type": "code",
   "execution_count": 30,
   "metadata": {
    "colab": {
     "base_uri": "https://localhost:8080/"
    },
    "id": "IgDvDjgTI2GG",
    "outputId": "d2d4f37c-14a6-45ea-81de-4a5c8be3145d"
   },
   "outputs": [
    {
     "data": {
      "text/plain": [
       "Index(['full_sq', 'life_sq', 'floor', 'max_floor', 'material', 'build_year',\n",
       "       'num_room', 'sub_area', 'area_m', 'green_zone_part', 'indust_part',\n",
       "       'preschool', 'school', 'healthcare', 'radiation', 'detention', 'young',\n",
       "       'work', 'elder', '0_6_age', '7_14_age', 'metro_min_avto',\n",
       "       'metro_km_avto', 'metro_min_walk', 'metro_km_walk', 'mkad_km',\n",
       "       'kremlin_km', 'green_part_1000', 'prom_part_1000', 'office_count_1000',\n",
       "       'trc_count_1000', 'leisure_count_1000', 'price_doc'],\n",
       "      dtype='object')"
      ]
     },
     "execution_count": 30,
     "metadata": {},
     "output_type": "execute_result"
    }
   ],
   "source": [
    "# переменные, которые мы проверим на выбросы\n",
    "housing_vars"
   ]
  },
  {
   "cell_type": "code",
   "execution_count": 31,
   "metadata": {
    "colab": {
     "base_uri": "https://localhost:8080/",
     "height": 776
    },
    "id": "viGz366SgN25",
    "outputId": "e2da03e2-560c-4d64-99c8-b8e767b66a47"
   },
   "outputs": [
    {
     "name": "stderr",
     "output_type": "stream",
     "text": [
      "/usr/local/lib/python3.7/dist-packages/seaborn/_decorators.py:43: FutureWarning: Pass the following variable as a keyword arg: x. From version 0.12, the only valid positional argument will be `data`, and passing other arguments without an explicit keyword will result in an error or misinterpretation.\n",
      "  FutureWarning\n",
      "/usr/local/lib/python3.7/dist-packages/seaborn/_decorators.py:43: FutureWarning: Pass the following variable as a keyword arg: x. From version 0.12, the only valid positional argument will be `data`, and passing other arguments without an explicit keyword will result in an error or misinterpretation.\n",
      "  FutureWarning\n",
      "/usr/local/lib/python3.7/dist-packages/seaborn/_decorators.py:43: FutureWarning: Pass the following variable as a keyword arg: x. From version 0.12, the only valid positional argument will be `data`, and passing other arguments without an explicit keyword will result in an error or misinterpretation.\n",
      "  FutureWarning\n",
      "/usr/local/lib/python3.7/dist-packages/seaborn/_decorators.py:43: FutureWarning: Pass the following variable as a keyword arg: x. From version 0.12, the only valid positional argument will be `data`, and passing other arguments without an explicit keyword will result in an error or misinterpretation.\n",
      "  FutureWarning\n",
      "/usr/local/lib/python3.7/dist-packages/seaborn/_decorators.py:43: FutureWarning: Pass the following variable as a keyword arg: x. From version 0.12, the only valid positional argument will be `data`, and passing other arguments without an explicit keyword will result in an error or misinterpretation.\n",
      "  FutureWarning\n",
      "/usr/local/lib/python3.7/dist-packages/seaborn/_decorators.py:43: FutureWarning: Pass the following variable as a keyword arg: x. From version 0.12, the only valid positional argument will be `data`, and passing other arguments without an explicit keyword will result in an error or misinterpretation.\n",
      "  FutureWarning\n",
      "/usr/local/lib/python3.7/dist-packages/seaborn/_decorators.py:43: FutureWarning: Pass the following variable as a keyword arg: x. From version 0.12, the only valid positional argument will be `data`, and passing other arguments without an explicit keyword will result in an error or misinterpretation.\n",
      "  FutureWarning\n"
     ]
    },
    {
     "data": {
      "image/png": "[encoded data removed]",
      "text/plain": [
       "<Figure size 1080x504 with 9 Axes>"
      ]
     },
     "metadata": {
      "needs_background": "light"
     },
     "output_type": "display_data"
    }
   ],
   "source": [
    "fig, ax = plt.subplots(3, 3, figsize=(15, 7))\n",
    "plt1 = sns.boxplot(housing['full_sq'], ax=ax[0, 0])\n",
    "plt2 = sns.boxplot(housing['life_sq'], ax=ax[0, 1])\n",
    "plt3 = sns.boxplot(housing['floor'], ax=ax[0, 2])\n",
    "plt1 = sns.boxplot(housing['max_floor'], ax=ax[1, 0])\n",
    "# plt2 = sns.boxplot(housing['material'], ax=ax[1, 1])\n",
    "plt3 = sns.boxplot(housing['build_year'], ax=ax[1, 2])\n",
    "plt1 = sns.boxplot(housing['num_room'], ax=ax[2, 0])\n",
    "# plt2 = sns.boxplot(housing['sub_area'], ax=ax[2, 1])\n",
    "plt3 = sns.boxplot(housing['area_m'], ax=ax[2, 2])\n",
    "\n",
    "plt.tight_layout()"
   ]
  },
  {
   "cell_type": "markdown",
   "metadata": {
    "id": "zKXmvMNcPmwG"
   },
   "source": [
    "**Выбросы в переменных:**\n",
    "* `full_sq` и `life_sq`: так как распределения наблюдений двух переменных идентичны, а также значения `life_sq` меньше `full_sq` (что соответствует содержанию), мы не будем считать наблюдения в этих переменных выбросами;\n",
    "* `max_floor` и `floor`: первая переменная показывает максимальное число этажей в здании, а вторая — сам этаж квартиры. Следовательно, значения `floor` не должны превышать максимального числа `max_floor`, тогда все наблюдения `floor` выше 60 являются выбросами и их следует удалить;\n",
    "* `build_year`: очевидно, что все годы постройки выше $2014$ и все нулевые значения являются выбросами, они также подлежат удалению;\n",
    "* `num_room`: проанализировав сайт https://www.mirkvartir.ru/, мы выявили, что максимальное число комнат достигает $9$, однако, чтобы не терять значимые данные, выбросами мы будем считать число комнат больше $11$."
   ]
  },
  {
   "cell_type": "code",
   "execution_count": 32,
   "metadata": {
    "colab": {
     "base_uri": "https://localhost:8080/"
    },
    "id": "w76k_UV7q4Ya",
    "outputId": "4643736d-7225-464c-d25d-387854d5ff14"
   },
   "outputs": [
    {
     "data": {
      "text/plain": [
       "(8825, 33)"
      ]
     },
     "execution_count": 32,
     "metadata": {},
     "output_type": "execute_result"
    }
   ],
   "source": [
    "# Удалить значения в строках, в которых номер этажа выше, чем максимально возможный в здании\n",
    "housing.drop(housing[housing['floor'] > housing['max_floor']].index, inplace=True)\n",
    "\n",
    "# Удалить значения в строках, в которых год постройки выше 2014 и ниже 1700\n",
    "housing.drop(housing[(housing['build_year'] > 2014) | (housing['build_year'] < 1700 )].index, inplace=True)\n",
    "\n",
    "# Удалить значения в строках, в которых число квартир больше 11 и меньше 1\n",
    "housing.drop(housing[housing['num_room'] > 11].index, inplace=True)\n",
    "housing.drop(housing[housing['num_room'] < 1].index, inplace=True)\n",
    "housing.shape"
   ]
  },
  {
   "cell_type": "code",
   "execution_count": 33,
   "metadata": {
    "colab": {
     "base_uri": "https://localhost:8080/",
     "height": 776
    },
    "id": "4ncYNw4VMfuN",
    "outputId": "c5544765-5002-4a28-dd68-76451b70d768"
   },
   "outputs": [
    {
     "name": "stderr",
     "output_type": "stream",
     "text": [
      "/usr/local/lib/python3.7/dist-packages/seaborn/_decorators.py:43: FutureWarning: Pass the following variable as a keyword arg: x. From version 0.12, the only valid positional argument will be `data`, and passing other arguments without an explicit keyword will result in an error or misinterpretation.\n",
      "  FutureWarning\n",
      "/usr/local/lib/python3.7/dist-packages/seaborn/_decorators.py:43: FutureWarning: Pass the following variable as a keyword arg: x. From version 0.12, the only valid positional argument will be `data`, and passing other arguments without an explicit keyword will result in an error or misinterpretation.\n",
      "  FutureWarning\n",
      "/usr/local/lib/python3.7/dist-packages/seaborn/_decorators.py:43: FutureWarning: Pass the following variable as a keyword arg: x. From version 0.12, the only valid positional argument will be `data`, and passing other arguments without an explicit keyword will result in an error or misinterpretation.\n",
      "  FutureWarning\n",
      "/usr/local/lib/python3.7/dist-packages/seaborn/_decorators.py:43: FutureWarning: Pass the following variable as a keyword arg: x. From version 0.12, the only valid positional argument will be `data`, and passing other arguments without an explicit keyword will result in an error or misinterpretation.\n",
      "  FutureWarning\n",
      "/usr/local/lib/python3.7/dist-packages/seaborn/_decorators.py:43: FutureWarning: Pass the following variable as a keyword arg: x. From version 0.12, the only valid positional argument will be `data`, and passing other arguments without an explicit keyword will result in an error or misinterpretation.\n",
      "  FutureWarning\n",
      "/usr/local/lib/python3.7/dist-packages/seaborn/_decorators.py:43: FutureWarning: Pass the following variable as a keyword arg: x. From version 0.12, the only valid positional argument will be `data`, and passing other arguments without an explicit keyword will result in an error or misinterpretation.\n",
      "  FutureWarning\n",
      "/usr/local/lib/python3.7/dist-packages/seaborn/_decorators.py:43: FutureWarning: Pass the following variable as a keyword arg: x. From version 0.12, the only valid positional argument will be `data`, and passing other arguments without an explicit keyword will result in an error or misinterpretation.\n",
      "  FutureWarning\n"
     ]
    },
    {
     "data": {
      "image/png": "[encoded data removed]",
      "text/plain": [
       "<Figure size 1080x504 with 9 Axes>"
      ]
     },
     "metadata": {
      "needs_background": "light"
     },
     "output_type": "display_data"
    }
   ],
   "source": [
    "fig, ax = plt.subplots(3, 3, figsize=(15, 7))\n",
    "plt1 = sns.boxplot(housing['green_zone_part'], ax=ax[0, 0])\n",
    "plt2 = sns.boxplot(housing['indust_part'], ax=ax[0, 1])\n",
    "plt3 = sns.boxplot(housing['preschool'], ax=ax[0, 2])\n",
    "plt1 = sns.boxplot(housing['school'], ax=ax[1, 0])\n",
    "plt2 = sns.boxplot(housing['healthcare'], ax=ax[1, 1])\n",
    "# plt3 = sns.boxplot(housing['radiation'], ax=ax[1, 2])\n",
    "# plt1 = sns.boxplot(housing['detention'], ax=ax[2, 0])\n",
    "plt2 = sns.boxplot(housing['young'], ax=ax[2, 1])\n",
    "plt3 = sns.boxplot(housing['work'], ax=ax[2, 2])\n",
    "\n",
    "plt.tight_layout()"
   ]
  },
  {
   "cell_type": "markdown",
   "metadata": {
    "id": "1bYtDqH4fQR-"
   },
   "source": [
    "**Выбросы в переменных:**\n",
    "\n",
    "В этих переменных мы не выявили выбросов, так как в общем и целом они могут соответствовать действительности с целью сохранения данных, к этим переменным можно будет вернуться в последствии, если ошибка модели будет некорретируемой."
   ]
  },
  {
   "cell_type": "code",
   "execution_count": 34,
   "metadata": {
    "colab": {
     "base_uri": "https://localhost:8080/",
     "height": 845
    },
    "id": "ePoRMkuZNNH_",
    "outputId": "49f25982-e10d-4970-c73b-27290c58e685"
   },
   "outputs": [
    {
     "name": "stderr",
     "output_type": "stream",
     "text": [
      "/usr/local/lib/python3.7/dist-packages/seaborn/_decorators.py:43: FutureWarning: Pass the following variable as a keyword arg: x. From version 0.12, the only valid positional argument will be `data`, and passing other arguments without an explicit keyword will result in an error or misinterpretation.\n",
      "  FutureWarning\n",
      "/usr/local/lib/python3.7/dist-packages/seaborn/_decorators.py:43: FutureWarning: Pass the following variable as a keyword arg: x. From version 0.12, the only valid positional argument will be `data`, and passing other arguments without an explicit keyword will result in an error or misinterpretation.\n",
      "  FutureWarning\n",
      "/usr/local/lib/python3.7/dist-packages/seaborn/_decorators.py:43: FutureWarning: Pass the following variable as a keyword arg: x. From version 0.12, the only valid positional argument will be `data`, and passing other arguments without an explicit keyword will result in an error or misinterpretation.\n",
      "  FutureWarning\n",
      "/usr/local/lib/python3.7/dist-packages/seaborn/_decorators.py:43: FutureWarning: Pass the following variable as a keyword arg: x. From version 0.12, the only valid positional argument will be `data`, and passing other arguments without an explicit keyword will result in an error or misinterpretation.\n",
      "  FutureWarning\n",
      "/usr/local/lib/python3.7/dist-packages/seaborn/_decorators.py:43: FutureWarning: Pass the following variable as a keyword arg: x. From version 0.12, the only valid positional argument will be `data`, and passing other arguments without an explicit keyword will result in an error or misinterpretation.\n",
      "  FutureWarning\n",
      "/usr/local/lib/python3.7/dist-packages/seaborn/_decorators.py:43: FutureWarning: Pass the following variable as a keyword arg: x. From version 0.12, the only valid positional argument will be `data`, and passing other arguments without an explicit keyword will result in an error or misinterpretation.\n",
      "  FutureWarning\n",
      "/usr/local/lib/python3.7/dist-packages/seaborn/_decorators.py:43: FutureWarning: Pass the following variable as a keyword arg: x. From version 0.12, the only valid positional argument will be `data`, and passing other arguments without an explicit keyword will result in an error or misinterpretation.\n",
      "  FutureWarning\n",
      "/usr/local/lib/python3.7/dist-packages/seaborn/_decorators.py:43: FutureWarning: Pass the following variable as a keyword arg: x. From version 0.12, the only valid positional argument will be `data`, and passing other arguments without an explicit keyword will result in an error or misinterpretation.\n",
      "  FutureWarning\n",
      "/usr/local/lib/python3.7/dist-packages/seaborn/_decorators.py:43: FutureWarning: Pass the following variable as a keyword arg: x. From version 0.12, the only valid positional argument will be `data`, and passing other arguments without an explicit keyword will result in an error or misinterpretation.\n",
      "  FutureWarning\n"
     ]
    },
    {
     "data": {
      "image/png": "[encoded data removed]",
      "text/plain": [
       "<Figure size 1080x504 with 9 Axes>"
      ]
     },
     "metadata": {
      "needs_background": "light"
     },
     "output_type": "display_data"
    }
   ],
   "source": [
    "fig, ax = plt.subplots(3, 3, figsize=(15, 7))\n",
    "plt1 = sns.boxplot(housing['elder'], ax=ax[0, 0])\n",
    "plt2 = sns.boxplot(housing['0_6_age'], ax=ax[0, 1])\n",
    "plt3 = sns.boxplot(housing['7_14_age'], ax=ax[0, 2])\n",
    "plt1 = sns.boxplot(housing['metro_min_avto'], ax=ax[1, 0])\n",
    "plt2 = sns.boxplot(housing['metro_km_avto'], ax=ax[1, 1])\n",
    "plt3 = sns.boxplot(housing['metro_min_walk'], ax=ax[1, 2])\n",
    "plt1 = sns.boxplot(housing['metro_km_walk'], ax=ax[2, 0])\n",
    "plt2 = sns.boxplot(housing['mkad_km'], ax=ax[2, 1])\n",
    "plt3 = sns.boxplot(housing['kremlin_km'], ax=ax[2, 2])\n",
    "\n",
    "plt.tight_layout()"
   ]
  },
  {
   "cell_type": "markdown",
   "metadata": {
    "id": "yPZ6yyk4hJ1s"
   },
   "source": [
    "**Выбросы в переменных:**\n",
    "* `metro_km_avto` и `metro_km_walk`: километраж на машине обычно больше, чем пешком, следовательно, максимальное значение километража пешком должно быть пределом для километража на машине. Тогда все значения `metro_km_avto`, которые больше максимального значения `metro_km_walk`, являются выбросами;\n",
    "* в остальных переменных противоречий нет, так как распределения значений похожи между аналогичными переменными (оговорка: при невозможности скорректировать модель, можно будет вернуться на этот этап, пока сохраняем больше данных)."
   ]
  },
  {
   "cell_type": "code",
   "execution_count": 35,
   "metadata": {
    "colab": {
     "base_uri": "https://localhost:8080/"
    },
    "id": "enz-6Q4FriGU",
    "outputId": "3dada622-3c02-46c6-9847-d1377ff280bf"
   },
   "outputs": [
    {
     "data": {
      "text/plain": [
       "(8092, 33)"
      ]
     },
     "execution_count": 35,
     "metadata": {},
     "output_type": "execute_result"
    }
   ],
   "source": [
    "# Удалить значения в строках, в которых километраж на машине меньше, чем километраж пешком\n",
    "housing.drop(housing[housing['metro_km_avto'] < housing['metro_km_walk']].index, inplace=True)\n",
    "housing.shape"
   ]
  },
  {
   "cell_type": "code",
   "execution_count": 36,
   "metadata": {
    "colab": {
     "base_uri": "https://localhost:8080/",
     "height": 741
    },
    "id": "KGXlMpMMNlzZ",
    "outputId": "2425c618-4623-4848-f6e3-24912557b7ef"
   },
   "outputs": [
    {
     "name": "stderr",
     "output_type": "stream",
     "text": [
      "/usr/local/lib/python3.7/dist-packages/seaborn/_decorators.py:43: FutureWarning: Pass the following variable as a keyword arg: x. From version 0.12, the only valid positional argument will be `data`, and passing other arguments without an explicit keyword will result in an error or misinterpretation.\n",
      "  FutureWarning\n",
      "/usr/local/lib/python3.7/dist-packages/seaborn/_decorators.py:43: FutureWarning: Pass the following variable as a keyword arg: x. From version 0.12, the only valid positional argument will be `data`, and passing other arguments without an explicit keyword will result in an error or misinterpretation.\n",
      "  FutureWarning\n",
      "/usr/local/lib/python3.7/dist-packages/seaborn/_decorators.py:43: FutureWarning: Pass the following variable as a keyword arg: x. From version 0.12, the only valid positional argument will be `data`, and passing other arguments without an explicit keyword will result in an error or misinterpretation.\n",
      "  FutureWarning\n",
      "/usr/local/lib/python3.7/dist-packages/seaborn/_decorators.py:43: FutureWarning: Pass the following variable as a keyword arg: x. From version 0.12, the only valid positional argument will be `data`, and passing other arguments without an explicit keyword will result in an error or misinterpretation.\n",
      "  FutureWarning\n",
      "/usr/local/lib/python3.7/dist-packages/seaborn/_decorators.py:43: FutureWarning: Pass the following variable as a keyword arg: x. From version 0.12, the only valid positional argument will be `data`, and passing other arguments without an explicit keyword will result in an error or misinterpretation.\n",
      "  FutureWarning\n",
      "/usr/local/lib/python3.7/dist-packages/seaborn/_decorators.py:43: FutureWarning: Pass the following variable as a keyword arg: x. From version 0.12, the only valid positional argument will be `data`, and passing other arguments without an explicit keyword will result in an error or misinterpretation.\n",
      "  FutureWarning\n"
     ]
    },
    {
     "data": {
      "image/png": "[encoded data removed]",
      "text/plain": [
       "<Figure size 1080x504 with 6 Axes>"
      ]
     },
     "metadata": {
      "needs_background": "light"
     },
     "output_type": "display_data"
    }
   ],
   "source": [
    "fig, ax = plt.subplots(2, 3, figsize=(15, 7))\n",
    "plt1 = sns.boxplot(housing['green_part_1000'], ax=ax[0, 0])\n",
    "plt2 = sns.boxplot(housing['prom_part_1000'], ax=ax[0, 1])\n",
    "plt3 = sns.boxplot(housing['office_count_1000'], ax=ax[0, 2])\n",
    "plt1 = sns.boxplot(housing['trc_count_1000'], ax=ax[1, 0])\n",
    "plt2 = sns.boxplot(housing['leisure_count_1000'], ax=ax[1, 1])\n",
    "plt3 = sns.boxplot(housing['price_doc'], ax=ax[1, 2])\n",
    "\n",
    "plt.tight_layout()"
   ]
  },
  {
   "cell_type": "code",
   "execution_count": 37,
   "metadata": {
    "colab": {
     "base_uri": "https://localhost:8080/",
     "height": 98
    },
    "id": "4nsUqtwfogp9",
    "outputId": "a23145e8-823a-4b42-9ae9-59efcd0e2c49"
   },
   "outputs": [
    {
     "name": "stdout",
     "output_type": "stream",
     "text": [
      "80777440\n"
     ]
    },
    {
     "data": {
      "text/html": [
       "\n",
       "  <div id=\"df-d42020fc-3a1b-45fc-be39-19a875d81136\">\n",
       "    <div class=\"colab-df-container\">\n",
       "      <div>\n",
       "<style scoped>\n",
       "    .dataframe tbody tr th:only-of-type {\n",
       "        vertical-align: middle;\n",
       "    }\n",
       "\n",
       "    .dataframe tbody tr th {\n",
       "        vertical-align: top;\n",
       "    }\n",
       "\n",
       "    .dataframe thead th {\n",
       "        text-align: right;\n",
       "    }\n",
       "</style>\n",
       "<table border=\"1\" class=\"dataframe\">\n",
       "  <thead>\n",
       "    <tr style=\"text-align: right;\">\n",
       "      <th></th>\n",
       "      <th>num_room</th>\n",
       "    </tr>\n",
       "  </thead>\n",
       "  <tbody>\n",
       "    <tr>\n",
       "      <th>3833</th>\n",
       "      <td>1.0</td>\n",
       "    </tr>\n",
       "  </tbody>\n",
       "</table>\n",
       "</div>\n",
       "      <button class=\"colab-df-convert\" onclick=\"convertToInteractive('df-d42020fc-3a1b-45fc-be39-19a875d81136')\"\n",
       "              title=\"Convert this dataframe to an interactive table.\"\n",
       "              style=\"display:none;\">\n",
       "        \n",
       "  <svg xmlns=\"http://www.w3.org/2000/svg\" height=\"24px\"viewBox=\"0 0 24 24\"\n",
       "       width=\"24px\">\n",
       "    <path d=\"M0 0h24v24H0V0z\" fill=\"none\"/>\n",
       "    <path d=\"M18.56 5.44l.94 2.06.94-2.06 2.06-.94-2.06-.94-.94-2.06-.94 2.06-2.06.94zm-11 1L8.5 8.5l.94-2.06 2.06-.94-2.06-.94L8.5 2.5l-.94 2.06-2.06.94zm10 10l.94 2.06.94-2.06 2.06-.94-2.06-.94-.94-2.06-.94 2.06-2.06.94z\"/><path d=\"M17.41 7.96l-1.37-1.37c-.4-.4-.92-.59-1.43-.59-.52 0-1.04.2-1.43.59L10.3 9.45l-7.72 7.72c-.78.78-.78 2.05 0 2.83L4 21.41c.39.39.9.59 1.41.59.51 0 1.02-.2 1.41-.59l7.78-7.78 2.81-2.81c.8-.78.8-2.07 0-2.86zM5.41 20L4 18.59l7.72-7.72 1.47 1.35L5.41 20z\"/>\n",
       "  </svg>\n",
       "      </button>\n",
       "      \n",
       "  <style>\n",
       "    .colab-df-container {\n",
       "      display:flex;\n",
       "      flex-wrap:wrap;\n",
       "      gap: 12px;\n",
       "    }\n",
       "\n",
       "    .colab-df-convert {\n",
       "      background-color: #E8F0FE;\n",
       "      border: none;\n",
       "      border-radius: 50%;\n",
       "      cursor: pointer;\n",
       "      display: none;\n",
       "      fill: #1967D2;\n",
       "      height: 32px;\n",
       "      padding: 0 0 0 0;\n",
       "      width: 32px;\n",
       "    }\n",
       "\n",
       "    .colab-df-convert:hover {\n",
       "      background-color: #E2EBFA;\n",
       "      box-shadow: 0px 1px 2px rgba(60, 64, 67, 0.3), 0px 1px 3px 1px rgba(60, 64, 67, 0.15);\n",
       "      fill: #174EA6;\n",
       "    }\n",
       "\n",
       "    [theme=dark] .colab-df-convert {\n",
       "      background-color: #3B4455;\n",
       "      fill: #D2E3FC;\n",
       "    }\n",
       "\n",
       "    [theme=dark] .colab-df-convert:hover {\n",
       "      background-color: #434B5C;\n",
       "      box-shadow: 0px 1px 3px 1px rgba(0, 0, 0, 0.15);\n",
       "      filter: drop-shadow(0px 1px 2px rgba(0, 0, 0, 0.3));\n",
       "      fill: #FFFFFF;\n",
       "    }\n",
       "  </style>\n",
       "\n",
       "      <script>\n",
       "        const buttonEl =\n",
       "          document.querySelector('#df-d42020fc-3a1b-45fc-be39-19a875d81136 button.colab-df-convert');\n",
       "        buttonEl.style.display =\n",
       "          google.colab.kernel.accessAllowed ? 'block' : 'none';\n",
       "\n",
       "        async function convertToInteractive(key) {\n",
       "          const element = document.querySelector('#df-d42020fc-3a1b-45fc-be39-19a875d81136');\n",
       "          const dataTable =\n",
       "            await google.colab.kernel.invokeFunction('convertToInteractive',\n",
       "                                                     [key], {});\n",
       "          if (!dataTable) return;\n",
       "\n",
       "          const docLinkHtml = 'Like what you see? Visit the ' +\n",
       "            '<a target=\"_blank\" href=https://colab.research.google.com/notebooks/data_table.ipynb>data table notebook</a>'\n",
       "            + ' to learn more about interactive tables.';\n",
       "          element.innerHTML = '';\n",
       "          dataTable['output_type'] = 'display_data';\n",
       "          await google.colab.output.renderOutput(dataTable, element);\n",
       "          const docLink = document.createElement('div');\n",
       "          docLink.innerHTML = docLinkHtml;\n",
       "          element.appendChild(docLink);\n",
       "        }\n",
       "      </script>\n",
       "    </div>\n",
       "  </div>\n",
       "  "
      ],
      "text/plain": [
       "      num_room\n",
       "3833       1.0"
      ]
     },
     "execution_count": 37,
     "metadata": {},
     "output_type": "execute_result"
    }
   ],
   "source": [
    "print(max(housing.price_doc))\n",
    "housing[housing.price_doc == max(housing.price_doc)].iloc[[0], [6]]"
   ]
  },
  {
   "cell_type": "markdown",
   "metadata": {
    "id": "4wBtgZHWpWkE"
   },
   "source": [
    "**Выбросы в переменных:**\n",
    "* `price_doc`: очевидно есть один выброс в виде однокомнатной квартиры стоимостью $80$ млн. руб. Его следует удалить."
   ]
  },
  {
   "cell_type": "code",
   "execution_count": 38,
   "metadata": {
    "colab": {
     "base_uri": "https://localhost:8080/"
    },
    "id": "5tGuBXgyr3Kq",
    "outputId": "ef78b557-87fc-4ca3-fb2c-114ef9a8db0c"
   },
   "outputs": [
    {
     "data": {
      "text/plain": [
       "(8091, 33)"
      ]
     },
     "execution_count": 38,
     "metadata": {},
     "output_type": "execute_result"
    }
   ],
   "source": [
    "housing.drop(housing[housing['price_doc'] >= 80_000_000].index, inplace=True)\n",
    "housing.shape"
   ]
  },
  {
   "cell_type": "markdown",
   "metadata": {
    "id": "eHXx9kPTqPTG"
   },
   "source": [
    "## Создание новых переменных и удаление незначимых"
   ]
  },
  {
   "cell_type": "markdown",
   "metadata": {
    "id": "w7ow0qTnqd9n"
   },
   "source": [
    "Удалим неинформативные переменные для прогнозирования цены на недвижимость: `sub_area`, `area_m`."
   ]
  },
  {
   "cell_type": "code",
   "execution_count": 39,
   "metadata": {
    "colab": {
     "base_uri": "https://localhost:8080/"
    },
    "id": "C3QQF-yJqOS6",
    "outputId": "3793ad2e-e248-4ae3-ac9f-fdd4ed3e8800"
   },
   "outputs": [
    {
     "data": {
      "text/plain": [
       "(8091, 31)"
      ]
     },
     "execution_count": 39,
     "metadata": {},
     "output_type": "execute_result"
    }
   ],
   "source": [
    "housing = housing.drop(['sub_area', 'area_m'], axis=1)\n",
    "housing.shape"
   ]
  },
  {
   "cell_type": "markdown",
   "metadata": {
    "id": "evy6Gt8qrh2Y"
   },
   "source": [
    " `green_part_1000` и `green_zone_part`, а также `prom_part_1000` и `indust_part` идентичны по своему содержанию (смыслу), поэтому проверим корреляцию каждого из них с целевой переменной и удалим наиболее незначимый для нас из каждой пары:"
   ]
  },
  {
   "cell_type": "code",
   "execution_count": 40,
   "metadata": {
    "colab": {
     "base_uri": "https://localhost:8080/"
    },
    "id": "f1z4EzQ3r5Xg",
    "outputId": "299c0ec4-3425-4d8f-e341-19791fa75740"
   },
   "outputs": [
    {
     "name": "stdout",
     "output_type": "stream",
     "text": [
      "Корреляция цены на недвижимость и переменной green_part_1000: -0.033 \n",
      "Корреляция цены на недвижимость и переменной green_zone_part: -0.07 \n",
      "Корреляция цены на недвижимость и переменной prom_part_1000: -0.099 \n",
      "Корреляция цены на недвижимость и переменной indust_part: -0.118\n"
     ]
    }
   ],
   "source": [
    "print(\n",
    "    \"Корреляция цены на недвижимость и переменной green_part_1000:\", round(housing['price_doc'].corr(housing['green_part_1000']), 3),\n",
    "    \"\\nКорреляция цены на недвижимость и переменной green_zone_part:\", round(housing['price_doc'].corr(housing['green_zone_part']), 3),\n",
    "    \n",
    "    \"\\nКорреляция цены на недвижимость и переменной prom_part_1000:\", round(housing['price_doc'].corr(housing['prom_part_1000']), 3),\n",
    "    \"\\nКорреляция цены на недвижимость и переменной indust_part:\", round(housing['price_doc'].corr(housing['indust_part']), 3)\n",
    ")"
   ]
  },
  {
   "cell_type": "markdown",
   "metadata": {
    "id": "wiiiZUJi81UM"
   },
   "source": [
    "Таким образом, было принято решение оставить переменные `green_zone_part` и `indust_part`, переменные `green_part_1000` и `prom_part_1000` мы удаляем:"
   ]
  },
  {
   "cell_type": "code",
   "execution_count": 41,
   "metadata": {
    "colab": {
     "base_uri": "https://localhost:8080/"
    },
    "id": "FUm2N7HFsgq3",
    "outputId": "58b1d130-4850-43fd-b169-287b57b81f1c"
   },
   "outputs": [
    {
     "data": {
      "text/plain": [
       "(8091, 29)"
      ]
     },
     "execution_count": 41,
     "metadata": {},
     "output_type": "execute_result"
    }
   ],
   "source": [
    "housing = housing.drop(['green_part_1000', 'prom_part_1000'], axis=1)\n",
    "housing.shape"
   ]
  },
  {
   "cell_type": "markdown",
   "metadata": {
    "id": "tR63A8qMq44b"
   },
   "source": [
    "Каждая из переменных на первый взгляд имеет связь с результирующим признаком (ценой на недвижимость), однако было принято решение объединить некоторые переменные в одну:\n",
    "1. `young`, `0_6_age` и `7_14_age` в переменную `incapacitated`, так как для нас не имеет значение возрастной промежуток между нетрудоспособными людьми;\n",
    "2. `healthcare`, `school` и `preschool` в переменную `healthcare_school_preschool`, так как в целом перечисленные переменные несут в себе похожий смысл — позитивные факторы, на которые люди обращают внимание при покупке недвижимости;\n",
    "3. Аналогично, как и в предыдущем пункте, `leisure_count_1000`, `trc_count_1000` и `office_count_1000` в переменную `leisure_trc_office_1000`;\n",
    "4. Переменные `metro_km_avto` и `metro_km_walk` было принято объединить в одну переменную `metro_km`, которая получилась из среднего значения двух данных переменных."
   ]
  },
  {
   "cell_type": "code",
   "execution_count": 42,
   "metadata": {
    "colab": {
     "base_uri": "https://localhost:8080/",
     "height": 299
    },
    "id": "6L5KfD2ussdY",
    "outputId": "44591d60-0a76-41ff-ea0f-7aff1dc62800"
   },
   "outputs": [
    {
     "data": {
      "text/html": [
       "\n",
       "  <div id=\"df-3cfb61d3-ec29-4afa-9e4c-7aa91ab34989\">\n",
       "    <div class=\"colab-df-container\">\n",
       "      <div>\n",
       "<style scoped>\n",
       "    .dataframe tbody tr th:only-of-type {\n",
       "        vertical-align: middle;\n",
       "    }\n",
       "\n",
       "    .dataframe tbody tr th {\n",
       "        vertical-align: top;\n",
       "    }\n",
       "\n",
       "    .dataframe thead th {\n",
       "        text-align: right;\n",
       "    }\n",
       "</style>\n",
       "<table border=\"1\" class=\"dataframe\">\n",
       "  <thead>\n",
       "    <tr style=\"text-align: right;\">\n",
       "      <th></th>\n",
       "      <th>full_sq</th>\n",
       "      <th>life_sq</th>\n",
       "      <th>floor</th>\n",
       "      <th>max_floor</th>\n",
       "      <th>material</th>\n",
       "      <th>build_year</th>\n",
       "      <th>num_room</th>\n",
       "      <th>green_zone_part</th>\n",
       "      <th>indust_part</th>\n",
       "      <th>preschool</th>\n",
       "      <th>...</th>\n",
       "      <th>mkad_km</th>\n",
       "      <th>kremlin_km</th>\n",
       "      <th>office_count_1000</th>\n",
       "      <th>trc_count_1000</th>\n",
       "      <th>leisure_count_1000</th>\n",
       "      <th>price_doc</th>\n",
       "      <th>disabled</th>\n",
       "      <th>healthcare_school_preschool</th>\n",
       "      <th>leisure_trc_office_1000</th>\n",
       "      <th>metro_km</th>\n",
       "    </tr>\n",
       "  </thead>\n",
       "  <tbody>\n",
       "    <tr>\n",
       "      <th>0</th>\n",
       "      <td>38</td>\n",
       "      <td>18.0</td>\n",
       "      <td>1.0</td>\n",
       "      <td>14.0</td>\n",
       "      <td>0</td>\n",
       "      <td>1971.0</td>\n",
       "      <td>1</td>\n",
       "      <td>0.125882</td>\n",
       "      <td>0.458174</td>\n",
       "      <td>4</td>\n",
       "      <td>...</td>\n",
       "      <td>2.442781</td>\n",
       "      <td>14.856442</td>\n",
       "      <td>2</td>\n",
       "      <td>4</td>\n",
       "      <td>0</td>\n",
       "      <td>5150000</td>\n",
       "      <td>18576</td>\n",
       "      <td>9</td>\n",
       "      <td>6</td>\n",
       "      <td>2.410119</td>\n",
       "    </tr>\n",
       "    <tr>\n",
       "      <th>2</th>\n",
       "      <td>41</td>\n",
       "      <td>20.0</td>\n",
       "      <td>11.0</td>\n",
       "      <td>14.0</td>\n",
       "      <td>0</td>\n",
       "      <td>1989.0</td>\n",
       "      <td>1</td>\n",
       "      <td>0.062172</td>\n",
       "      <td>0.161532</td>\n",
       "      <td>6</td>\n",
       "      <td>...</td>\n",
       "      <td>20.828299</td>\n",
       "      <td>38.988909</td>\n",
       "      <td>0</td>\n",
       "      <td>2</td>\n",
       "      <td>0</td>\n",
       "      <td>4600000</td>\n",
       "      <td>23609</td>\n",
       "      <td>14</td>\n",
       "      <td>2</td>\n",
       "      <td>23.139853</td>\n",
       "    </tr>\n",
       "    <tr>\n",
       "      <th>3</th>\n",
       "      <td>38</td>\n",
       "      <td>19.0</td>\n",
       "      <td>6.0</td>\n",
       "      <td>17.0</td>\n",
       "      <td>0</td>\n",
       "      <td>1986.0</td>\n",
       "      <td>1</td>\n",
       "      <td>0.398794</td>\n",
       "      <td>0.000000</td>\n",
       "      <td>6</td>\n",
       "      <td>...</td>\n",
       "      <td>2.885041</td>\n",
       "      <td>14.921056</td>\n",
       "      <td>0</td>\n",
       "      <td>5</td>\n",
       "      <td>0</td>\n",
       "      <td>5650000</td>\n",
       "      <td>24386</td>\n",
       "      <td>12</td>\n",
       "      <td>5</td>\n",
       "      <td>1.173805</td>\n",
       "    </tr>\n",
       "    <tr>\n",
       "      <th>4</th>\n",
       "      <td>58</td>\n",
       "      <td>37.0</td>\n",
       "      <td>3.0</td>\n",
       "      <td>9.0</td>\n",
       "      <td>0</td>\n",
       "      <td>1968.0</td>\n",
       "      <td>3</td>\n",
       "      <td>0.063755</td>\n",
       "      <td>0.038693</td>\n",
       "      <td>4</td>\n",
       "      <td>...</td>\n",
       "      <td>1.920884</td>\n",
       "      <td>11.812614</td>\n",
       "      <td>0</td>\n",
       "      <td>4</td>\n",
       "      <td>4</td>\n",
       "      <td>9300000</td>\n",
       "      <td>26176</td>\n",
       "      <td>10</td>\n",
       "      <td>8</td>\n",
       "      <td>0.454650</td>\n",
       "    </tr>\n",
       "    <tr>\n",
       "      <th>5</th>\n",
       "      <td>63</td>\n",
       "      <td>46.0</td>\n",
       "      <td>5.0</td>\n",
       "      <td>9.0</td>\n",
       "      <td>0</td>\n",
       "      <td>1968.0</td>\n",
       "      <td>4</td>\n",
       "      <td>0.232080</td>\n",
       "      <td>0.111627</td>\n",
       "      <td>4</td>\n",
       "      <td>...</td>\n",
       "      <td>6.201052</td>\n",
       "      <td>9.209931</td>\n",
       "      <td>2</td>\n",
       "      <td>3</td>\n",
       "      <td>0</td>\n",
       "      <td>11000000</td>\n",
       "      <td>48007</td>\n",
       "      <td>11</td>\n",
       "      <td>5</td>\n",
       "      <td>1.986614</td>\n",
       "    </tr>\n",
       "  </tbody>\n",
       "</table>\n",
       "<p>5 rows × 33 columns</p>\n",
       "</div>\n",
       "      <button class=\"colab-df-convert\" onclick=\"convertToInteractive('df-3cfb61d3-ec29-4afa-9e4c-7aa91ab34989')\"\n",
       "              title=\"Convert this dataframe to an interactive table.\"\n",
       "              style=\"display:none;\">\n",
       "        \n",
       "  <svg xmlns=\"http://www.w3.org/2000/svg\" height=\"24px\"viewBox=\"0 0 24 24\"\n",
       "       width=\"24px\">\n",
       "    <path d=\"M0 0h24v24H0V0z\" fill=\"none\"/>\n",
       "    <path d=\"M18.56 5.44l.94 2.06.94-2.06 2.06-.94-2.06-.94-.94-2.06-.94 2.06-2.06.94zm-11 1L8.5 8.5l.94-2.06 2.06-.94-2.06-.94L8.5 2.5l-.94 2.06-2.06.94zm10 10l.94 2.06.94-2.06 2.06-.94-2.06-.94-.94-2.06-.94 2.06-2.06.94z\"/><path d=\"M17.41 7.96l-1.37-1.37c-.4-.4-.92-.59-1.43-.59-.52 0-1.04.2-1.43.59L10.3 9.45l-7.72 7.72c-.78.78-.78 2.05 0 2.83L4 21.41c.39.39.9.59 1.41.59.51 0 1.02-.2 1.41-.59l7.78-7.78 2.81-2.81c.8-.78.8-2.07 0-2.86zM5.41 20L4 18.59l7.72-7.72 1.47 1.35L5.41 20z\"/>\n",
       "  </svg>\n",
       "      </button>\n",
       "      \n",
       "  <style>\n",
       "    .colab-df-container {\n",
       "      display:flex;\n",
       "      flex-wrap:wrap;\n",
       "      gap: 12px;\n",
       "    }\n",
       "\n",
       "    .colab-df-convert {\n",
       "      background-color: #E8F0FE;\n",
       "      border: none;\n",
       "      border-radius: 50%;\n",
       "      cursor: pointer;\n",
       "      display: none;\n",
       "      fill: #1967D2;\n",
       "      height: 32px;\n",
       "      padding: 0 0 0 0;\n",
       "      width: 32px;\n",
       "    }\n",
       "\n",
       "    .colab-df-convert:hover {\n",
       "      background-color: #E2EBFA;\n",
       "      box-shadow: 0px 1px 2px rgba(60, 64, 67, 0.3), 0px 1px 3px 1px rgba(60, 64, 67, 0.15);\n",
       "      fill: #174EA6;\n",
       "    }\n",
       "\n",
       "    [theme=dark] .colab-df-convert {\n",
       "      background-color: #3B4455;\n",
       "      fill: #D2E3FC;\n",
       "    }\n",
       "\n",
       "    [theme=dark] .colab-df-convert:hover {\n",
       "      background-color: #434B5C;\n",
       "      box-shadow: 0px 1px 3px 1px rgba(0, 0, 0, 0.15);\n",
       "      filter: drop-shadow(0px 1px 2px rgba(0, 0, 0, 0.3));\n",
       "      fill: #FFFFFF;\n",
       "    }\n",
       "  </style>\n",
       "\n",
       "      <script>\n",
       "        const buttonEl =\n",
       "          document.querySelector('#df-3cfb61d3-ec29-4afa-9e4c-7aa91ab34989 button.colab-df-convert');\n",
       "        buttonEl.style.display =\n",
       "          google.colab.kernel.accessAllowed ? 'block' : 'none';\n",
       "\n",
       "        async function convertToInteractive(key) {\n",
       "          const element = document.querySelector('#df-3cfb61d3-ec29-4afa-9e4c-7aa91ab34989');\n",
       "          const dataTable =\n",
       "            await google.colab.kernel.invokeFunction('convertToInteractive',\n",
       "                                                     [key], {});\n",
       "          if (!dataTable) return;\n",
       "\n",
       "          const docLinkHtml = 'Like what you see? Visit the ' +\n",
       "            '<a target=\"_blank\" href=https://colab.research.google.com/notebooks/data_table.ipynb>data table notebook</a>'\n",
       "            + ' to learn more about interactive tables.';\n",
       "          element.innerHTML = '';\n",
       "          dataTable['output_type'] = 'display_data';\n",
       "          await google.colab.output.renderOutput(dataTable, element);\n",
       "          const docLink = document.createElement('div');\n",
       "          docLink.innerHTML = docLinkHtml;\n",
       "          element.appendChild(docLink);\n",
       "        }\n",
       "      </script>\n",
       "    </div>\n",
       "  </div>\n",
       "  "
      ],
      "text/plain": [
       "   full_sq  life_sq  floor  max_floor  material  build_year  num_room  \\\n",
       "0       38     18.0    1.0       14.0         0      1971.0         1   \n",
       "2       41     20.0   11.0       14.0         0      1989.0         1   \n",
       "3       38     19.0    6.0       17.0         0      1986.0         1   \n",
       "4       58     37.0    3.0        9.0         0      1968.0         3   \n",
       "5       63     46.0    5.0        9.0         0      1968.0         4   \n",
       "\n",
       "   green_zone_part  indust_part  preschool  ...    mkad_km  kremlin_km  \\\n",
       "0         0.125882     0.458174          4  ...   2.442781   14.856442   \n",
       "2         0.062172     0.161532          6  ...  20.828299   38.988909   \n",
       "3         0.398794     0.000000          6  ...   2.885041   14.921056   \n",
       "4         0.063755     0.038693          4  ...   1.920884   11.812614   \n",
       "5         0.232080     0.111627          4  ...   6.201052    9.209931   \n",
       "\n",
       "   office_count_1000  trc_count_1000  leisure_count_1000  price_doc  disabled  \\\n",
       "0                  2               4                   0    5150000     18576   \n",
       "2                  0               2                   0    4600000     23609   \n",
       "3                  0               5                   0    5650000     24386   \n",
       "4                  0               4                   4    9300000     26176   \n",
       "5                  2               3                   0   11000000     48007   \n",
       "\n",
       "   healthcare_school_preschool  leisure_trc_office_1000   metro_km  \n",
       "0                            9                        6   2.410119  \n",
       "2                           14                        2  23.139853  \n",
       "3                           12                        5   1.173805  \n",
       "4                           10                        8   0.454650  \n",
       "5                           11                        5   1.986614  \n",
       "\n",
       "[5 rows x 33 columns]"
      ]
     },
     "execution_count": 42,
     "metadata": {},
     "output_type": "execute_result"
    }
   ],
   "source": [
    "housing['disabled'] = housing['young'] + housing['0_6_age'] + housing['7_14_age']\n",
    "housing['healthcare_school_preschool'] = housing['healthcare'] + housing['school'] + housing['preschool']\n",
    "housing['leisure_trc_office_1000'] = housing['leisure_count_1000'] + housing['trc_count_1000'] + housing['office_count_1000'] \n",
    "housing['metro_km'] = (housing['metro_km_avto'] + housing['metro_km_walk']) / 2\n",
    "housing['num_room'] = housing['num_room'].astype('int')\n",
    "housing.head()"
   ]
  },
  {
   "cell_type": "markdown",
   "metadata": {
    "id": "Js0iz-6LtU3b"
   },
   "source": [
    "## Одномерный анализ"
   ]
  },
  {
   "cell_type": "code",
   "execution_count": 43,
   "metadata": {
    "colab": {
     "base_uri": "https://localhost:8080/",
     "height": 279
    },
    "id": "81vCs5OLttEw",
    "outputId": "3462ec4d-2c7b-4b14-8e31-e7c48e61101b"
   },
   "outputs": [
    {
     "data": {
      "image/png": "[encoded data removed]",
      "text/plain": [
       "<Figure size 432x288 with 1 Axes>"
      ]
     },
     "metadata": {},
     "output_type": "display_data"
    }
   ],
   "source": [
    "sns.set_style('whitegrid')\n",
    "sns.countplot(y='material', data=housing, palette='YlGnBu')\n",
    "plt.xlabel('Количество')\n",
    "plt.ylabel('Материал дома')\n",
    "plt.show()"
   ]
  },
  {
   "cell_type": "code",
   "execution_count": 44,
   "metadata": {
    "colab": {
     "base_uri": "https://localhost:8080/",
     "height": 542
    },
    "id": "d7Gy3cqztETQ",
    "outputId": "cb2d07d3-6a7b-4b0e-ad0b-0e6f720fa7d0"
   },
   "outputs": [
    {
     "data": {
      "text/html": [
       "<html>\n",
       "<head><meta charset=\"utf-8\" /></head>\n",
       "<body>\n",
       "    <div>            <script src=\"https://cdnjs.cloudflare.com/ajax/libs/mathjax/2.7.5/MathJax.js?config=TeX-AMS-MML_SVG\"></script><script type=\"text/javascript\">if (window.MathJax) {MathJax.Hub.Config({SVG: {font: \"STIX-Web\"}});}</script>                <script type=\"text/javascript\">window.PlotlyConfig = {MathJaxConfig: 'local'};</script>\n",
       "        <script src=\"https://cdn.plot.ly/plotly-2.8.3.min.js\"></script>                <div id=\"6de9cd65-cb5a-4e28-844c-a520bf881cb2\" class=\"plotly-graph-div\" style=\"height:525px; width:100%;\"></div>            <script type=\"text/javascript\">                                    window.PLOTLYENV=window.PLOTLYENV || {};                                    if (document.getElementById(\"6de9cd65-cb5a-4e28-844c-a520bf881cb2\")) {                    Plotly.newPlot(                        \"6de9cd65-cb5a-4e28-844c-a520bf881cb2\",                        [{\"labels\":[\"\\u041e\\u0434\\u043d\\u043e\\u043a\\u043e\\u043c\\u043d\\u0430\\u0442\\u043d\\u044b\\u0435\",\"\\u0414\\u0432\\u0443\\u0445\\u043a\\u043e\\u043c\\u043d\\u0430\\u0442\\u043d\\u044b\\u0435\",\"\\u0422\\u0440\\u0435\\u0445\\u043a\\u043e\\u043c\\u043d\\u0430\\u0442\\u043d\\u044b\\u0435\",\"\\u0427\\u0435\\u0442\\u044b\\u0440\\u0435\\u0445\\u043a\\u043e\\u043c\\u043d\\u0430\\u0442\\u043d\\u044b\\u0435\"],\"pull\":[0,0,0.2,0],\"values\":[3191,2791,1888,196],\"type\":\"pie\"}],                        {\"template\":{\"data\":{\"bar\":[{\"error_x\":{\"color\":\"#2a3f5f\"},\"error_y\":{\"color\":\"#2a3f5f\"},\"marker\":{\"line\":{\"color\":\"#E5ECF6\",\"width\":0.5},\"pattern\":{\"fillmode\":\"overlay\",\"size\":10,\"solidity\":0.2}},\"type\":\"bar\"}],\"barpolar\":[{\"marker\":{\"line\":{\"color\":\"#E5ECF6\",\"width\":0.5},\"pattern\":{\"fillmode\":\"overlay\",\"size\":10,\"solidity\":0.2}},\"type\":\"barpolar\"}],\"carpet\":[{\"aaxis\":{\"endlinecolor\":\"#2a3f5f\",\"gridcolor\":\"white\",\"linecolor\":\"white\",\"minorgridcolor\":\"white\",\"startlinecolor\":\"#2a3f5f\"},\"baxis\":{\"endlinecolor\":\"#2a3f5f\",\"gridcolor\":\"white\",\"linecolor\":\"white\",\"minorgridcolor\":\"white\",\"startlinecolor\":\"#2a3f5f\"},\"type\":\"carpet\"}],\"choropleth\":[{\"colorbar\":{\"outlinewidth\":0,\"ticks\":\"\"},\"type\":\"choropleth\"}],\"contour\":[{\"colorbar\":{\"outlinewidth\":0,\"ticks\":\"\"},\"colorscale\":[[0.0,\"#0d0887\"],[0.1111111111111111,\"#46039f\"],[0.2222222222222222,\"#7201a8\"],[0.3333333333333333,\"#9c179e\"],[0.4444444444444444,\"#bd3786\"],[0.5555555555555556,\"#d8576b\"],[0.6666666666666666,\"#ed7953\"],[0.7777777777777778,\"#fb9f3a\"],[0.8888888888888888,\"#fdca26\"],[1.0,\"#f0f921\"]],\"type\":\"contour\"}],\"contourcarpet\":[{\"colorbar\":{\"outlinewidth\":0,\"ticks\":\"\"},\"type\":\"contourcarpet\"}],\"heatmap\":[{\"colorbar\":{\"outlinewidth\":0,\"ticks\":\"\"},\"colorscale\":[[0.0,\"#0d0887\"],[0.1111111111111111,\"#46039f\"],[0.2222222222222222,\"#7201a8\"],[0.3333333333333333,\"#9c179e\"],[0.4444444444444444,\"#bd3786\"],[0.5555555555555556,\"#d8576b\"],[0.6666666666666666,\"#ed7953\"],[0.7777777777777778,\"#fb9f3a\"],[0.8888888888888888,\"#fdca26\"],[1.0,\"#f0f921\"]],\"type\":\"heatmap\"}],\"heatmapgl\":[{\"colorbar\":{\"outlinewidth\":0,\"ticks\":\"\"},\"colorscale\":[[0.0,\"#0d0887\"],[0.1111111111111111,\"#46039f\"],[0.2222222222222222,\"#7201a8\"],[0.3333333333333333,\"#9c179e\"],[0.4444444444444444,\"#bd3786\"],[0.5555555555555556,\"#d8576b\"],[0.6666666666666666,\"#ed7953\"],[0.7777777777777778,\"#fb9f3a\"],[0.8888888888888888,\"#fdca26\"],[1.0,\"#f0f921\"]],\"type\":\"heatmapgl\"}],\"histogram\":[{\"marker\":{\"pattern\":{\"fillmode\":\"overlay\",\"size\":10,\"solidity\":0.2}},\"type\":\"histogram\"}],\"histogram2d\":[{\"colorbar\":{\"outlinewidth\":0,\"ticks\":\"\"},\"colorscale\":[[0.0,\"#0d0887\"],[0.1111111111111111,\"#46039f\"],[0.2222222222222222,\"#7201a8\"],[0.3333333333333333,\"#9c179e\"],[0.4444444444444444,\"#bd3786\"],[0.5555555555555556,\"#d8576b\"],[0.6666666666666666,\"#ed7953\"],[0.7777777777777778,\"#fb9f3a\"],[0.8888888888888888,\"#fdca26\"],[1.0,\"#f0f921\"]],\"type\":\"histogram2d\"}],\"histogram2dcontour\":[{\"colorbar\":{\"outlinewidth\":0,\"ticks\":\"\"},\"colorscale\":[[0.0,\"#0d0887\"],[0.1111111111111111,\"#46039f\"],[0.2222222222222222,\"#7201a8\"],[0.3333333333333333,\"#9c179e\"],[0.4444444444444444,\"#bd3786\"],[0.5555555555555556,\"#d8576b\"],[0.6666666666666666,\"#ed7953\"],[0.7777777777777778,\"#fb9f3a\"],[0.8888888888888888,\"#fdca26\"],[1.0,\"#f0f921\"]],\"type\":\"histogram2dcontour\"}],\"mesh3d\":[{\"colorbar\":{\"outlinewidth\":0,\"ticks\":\"\"},\"type\":\"mesh3d\"}],\"parcoords\":[{\"line\":{\"colorbar\":{\"outlinewidth\":0,\"ticks\":\"\"}},\"type\":\"parcoords\"}],\"pie\":[{\"automargin\":true,\"type\":\"pie\"}],\"scatter\":[{\"marker\":{\"colorbar\":{\"outlinewidth\":0,\"ticks\":\"\"}},\"type\":\"scatter\"}],\"scatter3d\":[{\"line\":{\"colorbar\":{\"outlinewidth\":0,\"ticks\":\"\"}},\"marker\":{\"colorbar\":{\"outlinewidth\":0,\"ticks\":\"\"}},\"type\":\"scatter3d\"}],\"scattercarpet\":[{\"marker\":{\"colorbar\":{\"outlinewidth\":0,\"ticks\":\"\"}},\"type\":\"scattercarpet\"}],\"scattergeo\":[{\"marker\":{\"colorbar\":{\"outlinewidth\":0,\"ticks\":\"\"}},\"type\":\"scattergeo\"}],\"scattergl\":[{\"marker\":{\"colorbar\":{\"outlinewidth\":0,\"ticks\":\"\"}},\"type\":\"scattergl\"}],\"scattermapbox\":[{\"marker\":{\"colorbar\":{\"outlinewidth\":0,\"ticks\":\"\"}},\"type\":\"scattermapbox\"}],\"scatterpolar\":[{\"marker\":{\"colorbar\":{\"outlinewidth\":0,\"ticks\":\"\"}},\"type\":\"scatterpolar\"}],\"scatterpolargl\":[{\"marker\":{\"colorbar\":{\"outlinewidth\":0,\"ticks\":\"\"}},\"type\":\"scatterpolargl\"}],\"scatterternary\":[{\"marker\":{\"colorbar\":{\"outlinewidth\":0,\"ticks\":\"\"}},\"type\":\"scatterternary\"}],\"surface\":[{\"colorbar\":{\"outlinewidth\":0,\"ticks\":\"\"},\"colorscale\":[[0.0,\"#0d0887\"],[0.1111111111111111,\"#46039f\"],[0.2222222222222222,\"#7201a8\"],[0.3333333333333333,\"#9c179e\"],[0.4444444444444444,\"#bd3786\"],[0.5555555555555556,\"#d8576b\"],[0.6666666666666666,\"#ed7953\"],[0.7777777777777778,\"#fb9f3a\"],[0.8888888888888888,\"#fdca26\"],[1.0,\"#f0f921\"]],\"type\":\"surface\"}],\"table\":[{\"cells\":{\"fill\":{\"color\":\"#EBF0F8\"},\"line\":{\"color\":\"white\"}},\"header\":{\"fill\":{\"color\":\"#C8D4E3\"},\"line\":{\"color\":\"white\"}},\"type\":\"table\"}]},\"layout\":{\"annotationdefaults\":{\"arrowcolor\":\"#2a3f5f\",\"arrowhead\":0,\"arrowwidth\":1},\"autotypenumbers\":\"strict\",\"coloraxis\":{\"colorbar\":{\"outlinewidth\":0,\"ticks\":\"\"}},\"colorscale\":{\"diverging\":[[0,\"#8e0152\"],[0.1,\"#c51b7d\"],[0.2,\"#de77ae\"],[0.3,\"#f1b6da\"],[0.4,\"#fde0ef\"],[0.5,\"#f7f7f7\"],[0.6,\"#e6f5d0\"],[0.7,\"#b8e186\"],[0.8,\"#7fbc41\"],[0.9,\"#4d9221\"],[1,\"#276419\"]],\"sequential\":[[0.0,\"#0d0887\"],[0.1111111111111111,\"#46039f\"],[0.2222222222222222,\"#7201a8\"],[0.3333333333333333,\"#9c179e\"],[0.4444444444444444,\"#bd3786\"],[0.5555555555555556,\"#d8576b\"],[0.6666666666666666,\"#ed7953\"],[0.7777777777777778,\"#fb9f3a\"],[0.8888888888888888,\"#fdca26\"],[1.0,\"#f0f921\"]],\"sequentialminus\":[[0.0,\"#0d0887\"],[0.1111111111111111,\"#46039f\"],[0.2222222222222222,\"#7201a8\"],[0.3333333333333333,\"#9c179e\"],[0.4444444444444444,\"#bd3786\"],[0.5555555555555556,\"#d8576b\"],[0.6666666666666666,\"#ed7953\"],[0.7777777777777778,\"#fb9f3a\"],[0.8888888888888888,\"#fdca26\"],[1.0,\"#f0f921\"]]},\"colorway\":[\"#636efa\",\"#EF553B\",\"#00cc96\",\"#ab63fa\",\"#FFA15A\",\"#19d3f3\",\"#FF6692\",\"#B6E880\",\"#FF97FF\",\"#FECB52\"],\"font\":{\"color\":\"#2a3f5f\"},\"geo\":{\"bgcolor\":\"white\",\"lakecolor\":\"white\",\"landcolor\":\"#E5ECF6\",\"showlakes\":true,\"showland\":true,\"subunitcolor\":\"white\"},\"hoverlabel\":{\"align\":\"left\"},\"hovermode\":\"closest\",\"mapbox\":{\"style\":\"light\"},\"paper_bgcolor\":\"white\",\"plot_bgcolor\":\"#E5ECF6\",\"polar\":{\"angularaxis\":{\"gridcolor\":\"white\",\"linecolor\":\"white\",\"ticks\":\"\"},\"bgcolor\":\"#E5ECF6\",\"radialaxis\":{\"gridcolor\":\"white\",\"linecolor\":\"white\",\"ticks\":\"\"}},\"scene\":{\"xaxis\":{\"backgroundcolor\":\"#E5ECF6\",\"gridcolor\":\"white\",\"gridwidth\":2,\"linecolor\":\"white\",\"showbackground\":true,\"ticks\":\"\",\"zerolinecolor\":\"white\"},\"yaxis\":{\"backgroundcolor\":\"#E5ECF6\",\"gridcolor\":\"white\",\"gridwidth\":2,\"linecolor\":\"white\",\"showbackground\":true,\"ticks\":\"\",\"zerolinecolor\":\"white\"},\"zaxis\":{\"backgroundcolor\":\"#E5ECF6\",\"gridcolor\":\"white\",\"gridwidth\":2,\"linecolor\":\"white\",\"showbackground\":true,\"ticks\":\"\",\"zerolinecolor\":\"white\"}},\"shapedefaults\":{\"line\":{\"color\":\"#2a3f5f\"}},\"ternary\":{\"aaxis\":{\"gridcolor\":\"white\",\"linecolor\":\"white\",\"ticks\":\"\"},\"baxis\":{\"gridcolor\":\"white\",\"linecolor\":\"white\",\"ticks\":\"\"},\"bgcolor\":\"#E5ECF6\",\"caxis\":{\"gridcolor\":\"white\",\"linecolor\":\"white\",\"ticks\":\"\"}},\"title\":{\"x\":0.05},\"xaxis\":{\"automargin\":true,\"gridcolor\":\"white\",\"linecolor\":\"white\",\"ticks\":\"\",\"title\":{\"standoff\":15},\"zerolinecolor\":\"white\",\"zerolinewidth\":2},\"yaxis\":{\"automargin\":true,\"gridcolor\":\"white\",\"linecolor\":\"white\",\"ticks\":\"\",\"title\":{\"standoff\":15},\"zerolinecolor\":\"white\",\"zerolinewidth\":2}}}},                        {\"responsive\": true}                    ).then(function(){\n",
       "                            \n",
       "var gd = document.getElementById('6de9cd65-cb5a-4e28-844c-a520bf881cb2');\n",
       "var x = new MutationObserver(function (mutations, observer) {{\n",
       "        var display = window.getComputedStyle(gd).display;\n",
       "        if (!display || display === 'none') {{\n",
       "            console.log([gd, 'removed!']);\n",
       "            Plotly.purge(gd);\n",
       "            observer.disconnect();\n",
       "        }}\n",
       "}});\n",
       "\n",
       "// Listen for the removal of the full notebook cells\n",
       "var notebookContainer = gd.closest('#notebook-container');\n",
       "if (notebookContainer) {{\n",
       "    x.observe(notebookContainer, {childList: true});\n",
       "}}\n",
       "\n",
       "// Listen for the clearing of the current output cell\n",
       "var outputEl = gd.closest('.output');\n",
       "if (outputEl) {{\n",
       "    x.observe(outputEl, {childList: true});\n",
       "}}\n",
       "\n",
       "                        })                };                            </script>        </div>\n",
       "</body>\n",
       "</html>"
      ]
     },
     "metadata": {},
     "output_type": "display_data"
    }
   ],
   "source": [
    "rooms = housing[housing.num_room < 5]['num_room'].value_counts()\n",
    "labels = ['Однокомнатные', 'Двухкомнатные', 'Трехкомнатные', 'Четырехкомнатные']\n",
    "values = rooms.to_list()\n",
    "\n",
    "# pull is given as a fraction of the pie radius\n",
    "fig = go.Figure(data=[go.Pie(labels=labels, values=values, pull=[0, 0, 0.2, 0])])\n",
    "fig.show()"
   ]
  },
  {
   "cell_type": "code",
   "execution_count": 45,
   "metadata": {
    "colab": {
     "base_uri": "https://localhost:8080/",
     "height": 628
    },
    "id": "l0lhJ5y6tdHR",
    "outputId": "ed15c9aa-ff4a-4065-c584-a65e74c1bc5c"
   },
   "outputs": [
    {
     "data": {
      "text/plain": [
       "[Text(0, 0.5, 'Частота'), Text(0.5, 0, 'Год постройки')]"
      ]
     },
     "execution_count": 45,
     "metadata": {},
     "output_type": "execute_result"
    },
    {
     "data": {
      "image/png": "[encoded data removed]",
      "text/plain": [
       "<Figure size 720x720 with 1 Axes>"
      ]
     },
     "metadata": {},
     "output_type": "display_data"
    }
   ],
   "source": [
    "cm = sns.color_palette('mako', 50)\n",
    "sns.set(rc={'figure.figsize': (10, 10), \n",
    "               'axes.labelsize': 12})\n",
    "\n",
    "plt = sns.histplot(data=housing, x='build_year',\n",
    "            stat='frequency',\n",
    "            common_norm=False, binrange=[1889, 2022])\n",
    "\n",
    "for bin_, i in zip(plt.patches, cm):\n",
    "    bin_.set_facecolor(i)\n",
    "\n",
    "plt.set(xlabel='Год постройки', ylabel='Частота')"
   ]
  },
  {
   "cell_type": "markdown",
   "metadata": {
    "id": "evjYS8p4twp-"
   },
   "source": [
    "Рассмотрим распределение новых созданных нами переменны:"
   ]
  },
  {
   "cell_type": "code",
   "execution_count": 47,
   "metadata": {
    "colab": {
     "base_uri": "https://localhost:8080/",
     "height": 628
    },
    "id": "EznKYotWtvrf",
    "outputId": "c63ed540-37b2-4ef0-f052-c248ed41d40c"
   },
   "outputs": [
    {
     "data": {
      "text/plain": [
       "[Text(0, 0.5, 'Частота'), Text(0.5, 0, 'Число больниц, детских садов и школ')]"
      ]
     },
     "execution_count": 47,
     "metadata": {},
     "output_type": "execute_result"
    },
    {
     "data": {
      "image/png": "[encoded data removed]",
      "text/plain": [
       "<Figure size 720x720 with 1 Axes>"
      ]
     },
     "metadata": {},
     "output_type": "display_data"
    }
   ],
   "source": [
    "cm = sns.color_palette('rocket', 50)\n",
    "sns.set(rc= {'figure.figsize': (10, 10), \n",
    "               'axes.labelsize': 12})\n",
    "\n",
    "plt = sns.histplot(data=housing, x='healthcare_school_preschool',\n",
    "            stat='frequency', common_norm=False)\n",
    "\n",
    "\n",
    "for bin_, i in zip(plt.patches, cm):\n",
    "    bin_.set_facecolor(i)\n",
    "\n",
    "plt.set(xlabel='Число больниц, детских садов и школ', ylabel='Частота')"
   ]
  },
  {
   "cell_type": "code",
   "execution_count": 48,
   "metadata": {
    "colab": {
     "base_uri": "https://localhost:8080/",
     "height": 628
    },
    "id": "pFfRSXFJt8VH",
    "outputId": "36dccc3d-ed4f-4976-a7a0-18ae17a91be6"
   },
   "outputs": [
    {
     "data": {
      "text/plain": [
       "[Text(0, 0.5, 'Частота'), Text(0.5, 0, 'Число нетрудоспособных')]"
      ]
     },
     "execution_count": 48,
     "metadata": {},
     "output_type": "execute_result"
    },
    {
     "data": {
      "image/png": "[encoded data removed]",
      "text/plain": [
       "<Figure size 720x720 with 1 Axes>"
      ]
     },
     "metadata": {},
     "output_type": "display_data"
    }
   ],
   "source": [
    "cm = sns.color_palette('viridis', 60)\n",
    "sns.set(rc = {'figure.figsize': (10, 10), \n",
    "               'axes.labelsize': 12})\n",
    "\n",
    "plt = sns.histplot(data=housing, x='disabled',\n",
    "            stat='frequency', common_norm=False)\n",
    "\n",
    "for bin_, i in zip(plt.patches, cm):\n",
    "    bin_.set_facecolor(i)\n",
    "\n",
    "plt.set(xlabel='Число нетрудоспособных', ylabel='Частота')"
   ]
  },
  {
   "cell_type": "code",
   "execution_count": 49,
   "metadata": {
    "colab": {
     "base_uri": "https://localhost:8080/",
     "height": 628
    },
    "id": "baxh4fI4uEWf",
    "outputId": "c90dbb29-3c4e-41dd-91b0-d00bf8242a7b"
   },
   "outputs": [
    {
     "data": {
      "text/plain": [
       "[Text(0, 0.5, 'Частота'), Text(0.5, 0, 'Число торговых и бизнес центров')]"
      ]
     },
     "execution_count": 49,
     "metadata": {},
     "output_type": "execute_result"
    },
    {
     "data": {
      "image/png": "[encoded data removed]",
      "text/plain": [
       "<Figure size 720x720 with 1 Axes>"
      ]
     },
     "metadata": {},
     "output_type": "display_data"
    }
   ],
   "source": [
    "cm = sns.color_palette('mako', 5)\n",
    "sns.set(rc={'figure.figsize': (10, 10), \n",
    "               'axes.labelsize': 12})\n",
    "\n",
    "plt = sns.histplot(data=housing, x='leisure_trc_office_1000',\n",
    "            stat='frequency', common_norm=False, binrange=[0, 55], bins=10)\n",
    "\n",
    "\n",
    "for bin_, i in zip(plt.patches,cm):\n",
    "    bin_.set_facecolor(i)\n",
    "\n",
    "plt.set(xlabel='Число торговых и бизнес центров', ylabel='Частота')"
   ]
  },
  {
   "cell_type": "code",
   "execution_count": 50,
   "metadata": {
    "colab": {
     "base_uri": "https://localhost:8080/",
     "height": 622
    },
    "id": "FYwLA9fWud-o",
    "outputId": "42ed0a5a-a2ca-47b9-a418-0e2136892348"
   },
   "outputs": [
    {
     "data": {
      "image/png": "[encoded data removed]",
      "text/plain": [
       "<Figure size 720x720 with 1 Axes>"
      ]
     },
     "metadata": {},
     "output_type": "display_data"
    }
   ],
   "source": [
    "plt = sns.violinplot(data=housing, y='price_doc', x='material', hue='detention',\n",
    "           palette='Paired',\n",
    "           saturation=0.75,\n",
    "           width=0.8,\n",
    "           split=True)"
   ]
  },
  {
   "cell_type": "markdown",
   "metadata": {
    "id": "BxBVDVAjtwLk"
   },
   "source": [
    "## Многомерный анализ"
   ]
  },
  {
   "cell_type": "markdown",
   "metadata": {
    "id": "EjgQuXwEHq2D"
   },
   "source": [
    "Построим корреляционную матрицу:"
   ]
  },
  {
   "cell_type": "code",
   "execution_count": 51,
   "metadata": {
    "colab": {
     "base_uri": "https://localhost:8080/",
     "height": 657
    },
    "id": "_AS8jo2PvKVf",
    "outputId": "4c85f506-80cd-4683-966d-9e2a6afb2ee5"
   },
   "outputs": [
    {
     "data": {
      "text/plain": [
       "[Text(20.200000000000003, 0.5, 'цена'),\n",
       " Text(0.5, 20.200000000000003, 'Площадь квартиры')]"
      ]
     },
     "execution_count": 51,
     "metadata": {},
     "output_type": "execute_result"
    },
    {
     "data": {
      "image/png": "[encoded data removed]",
      "text/plain": [
       "<Figure size 720x720 with 1 Axes>"
      ]
     },
     "metadata": {},
     "output_type": "display_data"
    }
   ],
   "source": [
    "sns.set(rc={'figure.figsize': (10, 10), \n",
    "               'axes.labelsize': 12})\n",
    "\n",
    "sns.scatterplot(data=housing, x='full_sq', y='price_doc', hue='material')\n",
    "plt.set(xlabel='Площадь квартиры', ylabel='цена')"
   ]
  },
  {
   "cell_type": "code",
   "execution_count": 60,
   "metadata": {
    "colab": {
     "base_uri": "https://localhost:8080/",
     "height": 747
    },
    "id": "X-aQGyOwvXJs",
    "outputId": "34810ceb-834f-4c5a-e19a-00b9c4fb2d1e"
   },
   "outputs": [
    {
     "data": {
      "image/png": "[encoded data removed]",
      "text/plain": [
       "<Figure size 720x720 with 2 Axes>"
      ]
     },
     "metadata": {},
     "output_type": "display_data"
    }
   ],
   "source": [
    "factors_1 = housing[['full_sq', 'num_room', 'leisure_trc_office_1000', 'disabled', \n",
    "                     'material', 'build_year', 'metro_km', 'mkad_km',\n",
    "                     'healthcare_school_preschool', 'work', 'elder', 'price_doc']]\n",
    "\n",
    "plt = sns.heatmap(factors_1.corr(), annot=True, cmap='rocket')"
   ]
  },
  {
   "cell_type": "code",
   "execution_count": 54,
   "metadata": {
    "colab": {
     "base_uri": "https://localhost:8080/"
    },
    "id": "fKz0CA72vzU0",
    "outputId": "c21b66c4-a26d-4b0f-a00f-8d64d4f3bb7a"
   },
   "outputs": [
    {
     "data": {
      "text/plain": [
       "full_sq                        0.680537\n",
       "life_sq                        0.627077\n",
       "floor                          0.145775\n",
       "max_floor                      0.207190\n",
       "material                       0.217167\n",
       "build_year                     0.076115\n",
       "num_room                       0.480108\n",
       "green_zone_part               -0.069933\n",
       "indust_part                   -0.117721\n",
       "preschool                      0.030637\n",
       "school                         0.053444\n",
       "healthcare                     0.098278\n",
       "radiation                      0.039369\n",
       "detention                      0.025469\n",
       "young                         -0.011738\n",
       "work                          -0.025050\n",
       "elder                          0.012799\n",
       "0_6_age                       -0.015174\n",
       "7_14_age                      -0.007099\n",
       "metro_min_avto                -0.144250\n",
       "metro_km_avto                 -0.145486\n",
       "metro_min_walk                -0.146173\n",
       "metro_km_walk                 -0.146173\n",
       "mkad_km                        0.094522\n",
       "kremlin_km                    -0.242633\n",
       "office_count_1000              0.294921\n",
       "trc_count_1000                 0.146421\n",
       "leisure_count_1000             0.247813\n",
       "disabled                      -0.011433\n",
       "healthcare_school_preschool    0.062696\n",
       "leisure_trc_office_1000        0.308675\n",
       "metro_km                      -0.146099\n",
       "dtype: float64"
      ]
     },
     "execution_count": 54,
     "metadata": {},
     "output_type": "execute_result"
    }
   ],
   "source": [
    "correlation_1 = housing.drop(columns='price_doc').corrwith(housing['price_doc'])\n",
    "correlation_1"
   ]
  },
  {
   "cell_type": "code",
   "execution_count": 55,
   "metadata": {
    "colab": {
     "base_uri": "https://localhost:8080/"
    },
    "id": "dl4OFZn7v2B0",
    "outputId": "7696f955-4bf0-4838-bca1-28c67649a43b"
   },
   "outputs": [
    {
     "data": {
      "text/plain": [
       "full_sq     0.680537\n",
       "life_sq     0.627077\n",
       "num_room    0.480108\n",
       "dtype: float64"
      ]
     },
     "execution_count": 55,
     "metadata": {},
     "output_type": "execute_result"
    }
   ],
   "source": [
    "correlation_1[abs(correlation_1) >= 0.45]"
   ]
  },
  {
   "cell_type": "code",
   "execution_count": 58,
   "metadata": {
    "colab": {
     "base_uri": "https://localhost:8080/"
    },
    "id": "K5frcxdbePA4",
    "outputId": "f464e205-a127-4646-8f18-ec117bda2f94"
   },
   "outputs": [
    {
     "data": {
      "text/plain": [
       "full_sq                    0.680537\n",
       "life_sq                    0.627077\n",
       "num_room                   0.480108\n",
       "office_count_1000          0.294921\n",
       "leisure_trc_office_1000    0.308675\n",
       "dtype: float64"
      ]
     },
     "execution_count": 58,
     "metadata": {},
     "output_type": "execute_result"
    }
   ],
   "source": [
    "correlation_1[abs(correlation_1) >= 0.25]"
   ]
  },
  {
   "cell_type": "markdown",
   "metadata": {
    "id": "428jCerkIOUK"
   },
   "source": [
    "# **3. Построение моделей**\n",
    "\n",
    "\n",
    "---\n",
    "\n",
    "Раздел включает в себя:\n",
    "* подготовку данных для построения линейной регрессии;\n",
    "* модель линейной регрессии №1;\n",
    "* модель линейной регрессии №2 (попытка улучшить метрики качества прогноза);\n",
    "* модель линейной регрессии №3 (попытка улучшить метрики качества прогноза);\n",
    "* модель линейной регрессии №4 (попытка улучшить метрики качества прогноза)\n",
    "* модель гребневой регрессии с подбором оптимального значения гиперпараметра $alpha$;\n",
    "* модель лассо регрессии с подбором оптимального значения гиперпараметра $alpha$;\n",
    "* модель полиномиальной регрессии с подбором нескольких наиболее важных параметров."
   ]
  },
  {
   "cell_type": "markdown",
   "metadata": {
    "id": "kIUV3z9XIX6b"
   },
   "source": [
    "https://habr.com/ru/post/690414/"
   ]
  },
  {
   "cell_type": "markdown",
   "metadata": {
    "id": "CNYkfsm0jwxF"
   },
   "source": [
    "## Подготовка данных для построения регрессий"
   ]
  },
  {
   "cell_type": "code",
   "execution_count": 64,
   "metadata": {
    "id": "ErJaAG6elYLU"
   },
   "outputs": [],
   "source": [
    "my_random_state = 42"
   ]
  },
  {
   "cell_type": "markdown",
   "metadata": {
    "id": "Vm-JNCayguTi"
   },
   "source": [
    "## Модель линейной регрессии №1"
   ]
  },
  {
   "cell_type": "code",
   "execution_count": 78,
   "metadata": {
    "id": "QP6R_RTGj0vA"
   },
   "outputs": [],
   "source": [
    "# берем все переменные\n",
    "Xs = housing.drop(['price_doc'], axis=1)\n",
    "y = housing['price_doc']\n",
    "Xs_train, Xs_test, y_train, y_test = train_test_split(Xs, y, test_size=0.30, \n",
    "                                                    random_state=my_random_state)"
   ]
  },
  {
   "cell_type": "code",
   "execution_count": 83,
   "metadata": {
    "colab": {
     "base_uri": "https://localhost:8080/"
    },
    "id": "egvVqULIIXdY",
    "outputId": "a86320bb-ad8e-4e8a-f4dc-5773bc948a5a"
   },
   "outputs": [
    {
     "data": {
      "text/plain": [
       "LinearRegression()"
      ]
     },
     "execution_count": 83,
     "metadata": {},
     "output_type": "execute_result"
    }
   ],
   "source": [
    "# создание и обучение модели\n",
    "reg_1 = LinearRegression(fit_intercept=True)\n",
    "reg_1.fit(Xs_train, y_train)"
   ]
  },
  {
   "cell_type": "code",
   "execution_count": 84,
   "metadata": {
    "colab": {
     "base_uri": "https://localhost:8080/"
    },
    "id": "EmjriGjdmSeX",
    "outputId": "5bfae458-4c8a-42f3-9315-8f3e32a76b7b"
   },
   "outputs": [
    {
     "name": "stdout",
     "output_type": "stream",
     "text": [
      "[ 2.31544790e+05 -7.36467750e+04  2.42864521e+04  3.97400049e+04\n",
      "  1.88774333e+05 -2.11372538e+04 -6.14481789e+05 -1.62416211e+06\n",
      " -2.72995756e+06  2.19038407e+04 -2.84908044e+05 -1.62549020e+05\n",
      " -9.99410544e+04 -2.54626818e+05  1.32388501e+08 -2.26702101e+01\n",
      "  5.65715437e+01  1.32390122e+08  1.32390619e+08  9.21139472e+04\n",
      " -1.30436069e+12 -6.52180374e+11  6.52180395e+12  6.85973564e+04\n",
      " -1.19385073e+05 -5.62933930e+04  4.34425643e+04  1.14847336e+05\n",
      " -1.32389405e+08  1.90707878e+05  7.63997016e+04  2.60872110e+12] 41443958.67520942\n"
     ]
    }
   ],
   "source": [
    "print(reg_1.coef_, reg_1.intercept_)"
   ]
  },
  {
   "cell_type": "code",
   "execution_count": 85,
   "metadata": {
    "colab": {
     "base_uri": "https://localhost:8080/"
    },
    "id": "UtD5NZO7noUW",
    "outputId": "6e28a99c-d567-4899-8caf-aba1d29b0281"
   },
   "outputs": [
    {
     "name": "stdout",
     "output_type": "stream",
     "text": [
      "intercept:                            41443958.67521\n",
      "full_sq                       :         231544.78964\n",
      "life_sq                       :           -73646.775\n",
      "floor                         :          24286.45209\n",
      "max_floor                     :          39740.00494\n",
      "material                      :         188774.33251\n",
      "build_year                    :         -21137.25383\n",
      "num_room                      :        -614481.78884\n",
      "green_zone_part               :       -1624162.10671\n",
      "indust_part                   :        -2729957.5573\n",
      "preschool                     :          21903.84068\n",
      "school                        :        -284908.04444\n",
      "healthcare                    :        -162549.01968\n",
      "radiation                     :          -99941.0544\n",
      "detention                     :        -254626.81767\n",
      "young                         :      132388501.29532\n",
      "work                          :            -22.67021\n",
      "elder                         :             56.57154\n",
      "0_6_age                       :      132390121.59156\n",
      "7_14_age                      :      132390618.57233\n",
      "metro_min_avto                :          92113.94721\n",
      "metro_km_avto                 :   -1304360688475.258\n",
      "metro_min_walk                :   -652180373676.5842\n",
      "metro_km_walk                 :    6521803947540.983\n",
      "mkad_km                       :          68597.35636\n",
      "kremlin_km                    :         -119385.0734\n",
      "office_count_1000             :           -56293.393\n",
      "trc_count_1000                :           43442.5643\n",
      "leisure_count_1000            :         114847.33631\n",
      "disabled                      :     -132389405.49926\n",
      "healthcare_school_preschool   :         190707.87816\n",
      "leisure_trc_office_1000       :          76399.70158\n",
      "metro_km                      :   2608721103128.4873\n"
     ]
    }
   ],
   "source": [
    "print(f'intercept {str(round(reg_1.intercept_, 5)).rjust(42)}')\n",
    "for coef, col in zip(reg_1.coef_, Xs_train.columns):\n",
    "    print(f'{str(col).ljust(30)}: {str(round(coef, 5)).rjust(20)}')"
   ]
  },
  {
   "cell_type": "code",
   "execution_count": 91,
   "metadata": {
    "colab": {
     "base_uri": "https://localhost:8080/"
    },
    "id": "2xQo3N1ho4yA",
    "outputId": "df62d369-97c2-4eae-9bcd-178b7133d687"
   },
   "outputs": [
    {
     "data": {
      "text/plain": [
       "0.55823"
      ]
     },
     "execution_count": 91,
     "metadata": {},
     "output_type": "execute_result"
    }
   ],
   "source": [
    "# R^2 на обучающей выборке\n",
    "round(reg_1.score(Xs_train, y_train), 5)"
   ]
  },
  {
   "cell_type": "code",
   "execution_count": 93,
   "metadata": {
    "colab": {
     "base_uri": "https://localhost:8080/"
    },
    "id": "F-7SUAZQpRpg",
    "outputId": "e8b2137b-d569-42d0-d9fd-b5812f382e0c"
   },
   "outputs": [
    {
     "name": "stdout",
     "output_type": "stream",
     "text": [
      "MSE модели: 9560035188298.596\n",
      "MAE модели: 1953535.80857\n",
      "MAPE модели: 59.7 %\n",
      "R^2 модели: 0.58109\n"
     ]
    }
   ],
   "source": [
    "# прогноз\n",
    "y_pred = reg_1.predict(Xs_test)\n",
    "\n",
    "# ошибка прогноза\n",
    "mse = mean_squared_error(y_test, y_pred)\n",
    "mae = mean_absolute_error(y_test, y_pred)\n",
    "mape = mean_absolute_percentage_error(y_test, y_pred)\n",
    "\n",
    "# R^2 на тестовой выборке\n",
    "r2 = r2_score(y_test, y_pred)\n",
    "\n",
    "print('MSE модели:', round(mse, 5))\n",
    "print('MAE модели:', round(mae, 5))\n",
    "print('MAPE модели:', round(mape * 100, 2), '%')\n",
    "print('R^2 модели:', round(r2, 5))"
   ]
  },
  {
   "cell_type": "markdown",
   "metadata": {
    "id": "bFBVpcG8gz0u"
   },
   "source": [
    "## Модель линейной регрессии №2"
   ]
  },
  {
   "cell_type": "code",
   "execution_count": 94,
   "metadata": {
    "colab": {
     "base_uri": "https://localhost:8080/"
    },
    "id": "mByE8o9jscgI",
    "outputId": "cb3c62d9-ec03-42d6-faa0-b95c62cc6c65"
   },
   "outputs": [
    {
     "data": {
      "text/plain": [
       "full_sq                    0.680537\n",
       "life_sq                    0.627077\n",
       "num_room                   0.480108\n",
       "office_count_1000          0.294921\n",
       "leisure_trc_office_1000    0.308675\n",
       "dtype: float64"
      ]
     },
     "execution_count": 94,
     "metadata": {},
     "output_type": "execute_result"
    }
   ],
   "source": [
    "correlation_1[abs(correlation_1) >= 0.25]"
   ]
  },
  {
   "cell_type": "code",
   "execution_count": 96,
   "metadata": {
    "id": "zeo3AWasg2uU"
   },
   "outputs": [],
   "source": [
    "# берем переменные, значение корреляции с целевой переменной которых больше 0.25 \n",
    "Xs = housing[['full_sq', 'life_sq', 'num_room', \n",
    "         'office_count_1000', 'leisure_trc_office_1000']]\n",
    "y = housing['price_doc']\n",
    "Xs_train, Xs_test, y_train, y_test = train_test_split(Xs, y, test_size=0.30, \n",
    "                                                    random_state=my_random_state)"
   ]
  },
  {
   "cell_type": "code",
   "execution_count": 97,
   "metadata": {
    "colab": {
     "base_uri": "https://localhost:8080/"
    },
    "id": "YTVrGa0nsoTi",
    "outputId": "edeb3780-ca0d-42d9-955c-40b2b3e882f6"
   },
   "outputs": [
    {
     "data": {
      "text/plain": [
       "LinearRegression()"
      ]
     },
     "execution_count": 97,
     "metadata": {},
     "output_type": "execute_result"
    }
   ],
   "source": [
    "# создание и обучение модели\n",
    "reg_2 = LinearRegression(fit_intercept=True)\n",
    "reg_2.fit(Xs_train, y_train)"
   ]
  },
  {
   "cell_type": "code",
   "execution_count": 98,
   "metadata": {
    "colab": {
     "base_uri": "https://localhost:8080/"
    },
    "id": "6T-QBqDbs2Mj",
    "outputId": "5b902d3d-3360-47c1-9162-4f88cbe67097"
   },
   "outputs": [
    {
     "name": "stdout",
     "output_type": "stream",
     "text": [
      "[ 208660.8210208   -35668.29670949 -615479.9692974   -31306.78791269\n",
      "  144749.52599264] -1360420.8720020512\n"
     ]
    }
   ],
   "source": [
    "print(reg_2.coef_, reg_2.intercept_)"
   ]
  },
  {
   "cell_type": "code",
   "execution_count": 109,
   "metadata": {
    "colab": {
     "base_uri": "https://localhost:8080/"
    },
    "id": "irpm_Au5s-NT",
    "outputId": "80ba36a6-ce77-462d-d7d6-965bde9c2ccf"
   },
   "outputs": [
    {
     "name": "stdout",
     "output_type": "stream",
     "text": [
      "intercept                               -1360420.872\n",
      "full_sq                       :         208660.82102\n",
      "life_sq                       :         -35668.29671\n",
      "num_room                      :         -615479.9693\n"
     ]
    }
   ],
   "source": [
    "print(f'intercept {str(round(reg_2.intercept_, 5)).rjust(42)}')\n",
    "for coef, col in zip(reg_2.coef_, Xs_train.columns):\n",
    "    print(f'{str(col).ljust(30)}: {str(round(coef, 5)).rjust(20)}')"
   ]
  },
  {
   "cell_type": "code",
   "execution_count": 101,
   "metadata": {
    "colab": {
     "base_uri": "https://localhost:8080/"
    },
    "id": "EYT57W09tJe8",
    "outputId": "5d495dca-69f0-4087-9ec2-4c2c05c3aa53"
   },
   "outputs": [
    {
     "data": {
      "text/plain": [
       "0.51271"
      ]
     },
     "execution_count": 101,
     "metadata": {},
     "output_type": "execute_result"
    }
   ],
   "source": [
    "# R^2 на обучающей выборке\n",
    "round(reg_2.score(Xs_train, y_train), 5)"
   ]
  },
  {
   "cell_type": "code",
   "execution_count": 102,
   "metadata": {
    "colab": {
     "base_uri": "https://localhost:8080/"
    },
    "id": "Gxsr_JG0tQyV",
    "outputId": "738c31a6-dea7-42a7-b335-8c0d3219d0a7"
   },
   "outputs": [
    {
     "name": "stdout",
     "output_type": "stream",
     "text": [
      "MSE модели: 10809463099037.48\n",
      "MAE модели: 2129389.71729\n",
      "MAPE модели: 62.92 %\n",
      "R^2 модели: 0.52634\n"
     ]
    }
   ],
   "source": [
    "# прогноз\n",
    "y_pred = reg_2.predict(Xs_test)\n",
    "\n",
    "# ошибка прогноза\n",
    "mse = mean_squared_error(y_test, y_pred)\n",
    "mae = mean_absolute_error(y_test, y_pred)\n",
    "mape = mean_absolute_percentage_error(y_test, y_pred)\n",
    "\n",
    "# R^2 на тестовой выборке\n",
    "r2 = r2_score(y_test, y_pred)\n",
    "\n",
    "print('MSE модели:', round(mse, 5))\n",
    "print('MAE модели:', round(mae, 5))\n",
    "print('MAPE модели:', round(mape * 100, 2), '%')\n",
    "print('R^2 модели:', round(r2, 5))"
   ]
  },
  {
   "cell_type": "markdown",
   "metadata": {
    "id": "SZLciLBXtYWM"
   },
   "source": [
    "## Модель линейной регрессии №3"
   ]
  },
  {
   "cell_type": "code",
   "execution_count": 110,
   "metadata": {
    "colab": {
     "base_uri": "https://localhost:8080/"
    },
    "id": "JzpUu2aYtUtX",
    "outputId": "9cedaaa9-1311-4249-c5b6-1a76913d320d"
   },
   "outputs": [
    {
     "data": {
      "text/plain": [
       "full_sq     0.680537\n",
       "life_sq     0.627077\n",
       "num_room    0.480108\n",
       "dtype: float64"
      ]
     },
     "execution_count": 110,
     "metadata": {},
     "output_type": "execute_result"
    }
   ],
   "source": [
    "correlation_1[abs(correlation_1) >= 0.45]"
   ]
  },
  {
   "cell_type": "code",
   "execution_count": 111,
   "metadata": {
    "id": "U0n_N_xztmjq"
   },
   "outputs": [],
   "source": [
    "# берем переменные, значение корреляции с целевой переменной которых больше 0.45 \n",
    "Xs = housing[['full_sq', 'life_sq', 'num_room']]\n",
    "y = housing['price_doc']\n",
    "Xs_train, Xs_test, y_train, y_test = train_test_split(Xs, y, test_size=0.30, \n",
    "                                                    random_state=my_random_state)"
   ]
  },
  {
   "cell_type": "code",
   "execution_count": 112,
   "metadata": {
    "colab": {
     "base_uri": "https://localhost:8080/"
    },
    "id": "gJfjlEqktzNe",
    "outputId": "955b79c6-61db-4251-e1bf-f30ce4eb8277"
   },
   "outputs": [
    {
     "data": {
      "text/plain": [
       "LinearRegression()"
      ]
     },
     "execution_count": 112,
     "metadata": {},
     "output_type": "execute_result"
    }
   ],
   "source": [
    "# создание и обчение модели\n",
    "reg_3 = LinearRegression(fit_intercept=True)\n",
    "reg_3.fit(Xs_train, y_train)"
   ]
  },
  {
   "cell_type": "code",
   "execution_count": 113,
   "metadata": {
    "colab": {
     "base_uri": "https://localhost:8080/"
    },
    "id": "azIK-IfPt7Rm",
    "outputId": "54c78587-9862-4085-d1d3-39bc70fc8dea"
   },
   "outputs": [
    {
     "name": "stdout",
     "output_type": "stream",
     "text": [
      "[ 207631.04379754  -20837.56490315 -657686.74892833] -1011914.3527504234\n"
     ]
    }
   ],
   "source": [
    "print(reg_3.coef_, reg_3.intercept_)"
   ]
  },
  {
   "cell_type": "code",
   "execution_count": 114,
   "metadata": {
    "colab": {
     "base_uri": "https://localhost:8080/"
    },
    "id": "3LPB9MGvuFHM",
    "outputId": "ddd6ca12-641b-4b65-d3d1-941d462cbced"
   },
   "outputs": [
    {
     "name": "stdout",
     "output_type": "stream",
     "text": [
      "intercept                             -1011914.35275\n",
      "full_sq                       :          207631.0438\n",
      "life_sq                       :          -20837.5649\n",
      "num_room                      :        -657686.74893\n"
     ]
    }
   ],
   "source": [
    "print(f'intercept {str(round(reg_3.intercept_, 5)).rjust(42)}')\n",
    "for coef, col in zip(reg_3.coef_, Xs_train.columns):\n",
    "    print(f'{str(col).ljust(30)}: {str(round(coef, 5)).rjust(20)}')"
   ]
  },
  {
   "cell_type": "code",
   "execution_count": 115,
   "metadata": {
    "colab": {
     "base_uri": "https://localhost:8080/"
    },
    "id": "0wgNINYBuADY",
    "outputId": "3bb5668e-00a9-4fad-e692-918eee8ec9f9"
   },
   "outputs": [
    {
     "data": {
      "text/plain": [
       "0.47053"
      ]
     },
     "execution_count": 115,
     "metadata": {},
     "output_type": "execute_result"
    }
   ],
   "source": [
    "# R^2 на обучающей выборке\n",
    "round(reg_3.score(Xs_train, y_train), 5)"
   ]
  },
  {
   "cell_type": "code",
   "execution_count": 117,
   "metadata": {
    "colab": {
     "base_uri": "https://localhost:8080/"
    },
    "id": "yQh7p7_KuaVB",
    "outputId": "02397f72-e6f3-43f1-a4b2-d97d008ff2a8"
   },
   "outputs": [
    {
     "name": "stdout",
     "output_type": "stream",
     "text": [
      "MSE модели: 12185351098124.8\n",
      "MAE модели: 2244354.11835\n",
      "MAPE модели: 64.72 %\n",
      "R^2 модели: 0.46605\n"
     ]
    }
   ],
   "source": [
    "# прогноз\n",
    "y_pred = reg_3.predict(Xs_test)\n",
    "\n",
    "# ошибка прогноза\n",
    "mse = mean_squared_error(y_test, y_pred)\n",
    "mae = mean_absolute_error(y_test, y_pred)\n",
    "mape = mean_absolute_percentage_error(y_test, y_pred)\n",
    "\n",
    "# R^2 на тестовой выборке\n",
    "r2 = r2_score(y_test, y_pred)\n",
    "\n",
    "print('MSE модели:', round(mse, 5))\n",
    "print('MAE модели:', round(mae, 5))\n",
    "print('MAPE модели:', round(mape * 100, 2), '%')\n",
    "print('R^2 модели:', round(r2, 5))"
   ]
  },
  {
   "cell_type": "markdown",
   "metadata": {
    "id": "S3EExnrPu0Wk"
   },
   "source": [
    "## Модель линейной регрессии №4"
   ]
  },
  {
   "cell_type": "code",
   "execution_count": 119,
   "metadata": {
    "id": "JJB7e3dcu5rG"
   },
   "outputs": [],
   "source": [
    "Xs = housing.drop(['price_doc'], axis=1)\n",
    "y = housing['price_doc']\n",
    "Xs_train, Xs_test, y_train, y_test = train_test_split(Xs, y, test_size=0.30, \n",
    "                                                    random_state=my_random_state)"
   ]
  },
  {
   "cell_type": "code",
   "execution_count": 125,
   "metadata": {
    "id": "0LvXd7BzvVKV"
   },
   "outputs": [],
   "source": [
    "feature_stats = f_regression(Xs_train, y_train)"
   ]
  },
  {
   "cell_type": "code",
   "execution_count": 128,
   "metadata": {
    "id": "9K_sVhvrxuVL"
   },
   "outputs": [],
   "source": [
    "feature_stats_df = pd.DataFrame({'features': Xs_train.columns,\n",
    "              'f_statistic': feature_stats[0], \n",
    "              'p_values': feature_stats[1]})"
   ]
  },
  {
   "cell_type": "code",
   "execution_count": 161,
   "metadata": {
    "colab": {
     "base_uri": "https://localhost:8080/",
     "height": 551
    },
    "id": "bK6dpDEJypME",
    "outputId": "683c34a7-4cca-4797-8398-6d68d290e31f"
   },
   "outputs": [
    {
     "data": {
      "text/html": [
       "\n",
       "  <div id=\"df-0613c28d-be2c-4630-8b58-640b8c816577\">\n",
       "    <div class=\"colab-df-container\">\n",
       "      <div>\n",
       "<style scoped>\n",
       "    .dataframe tbody tr th:only-of-type {\n",
       "        vertical-align: middle;\n",
       "    }\n",
       "\n",
       "    .dataframe tbody tr th {\n",
       "        vertical-align: top;\n",
       "    }\n",
       "\n",
       "    .dataframe thead th {\n",
       "        text-align: right;\n",
       "    }\n",
       "</style>\n",
       "<table border=\"1\" class=\"dataframe\">\n",
       "  <thead>\n",
       "    <tr style=\"text-align: right;\">\n",
       "      <th></th>\n",
       "      <th>features</th>\n",
       "      <th>f_statistic</th>\n",
       "      <th>p_values</th>\n",
       "    </tr>\n",
       "  </thead>\n",
       "  <tbody>\n",
       "    <tr>\n",
       "      <th>0</th>\n",
       "      <td>full_sq</td>\n",
       "      <td>4902.663907</td>\n",
       "      <td>0.000000e+00</td>\n",
       "    </tr>\n",
       "    <tr>\n",
       "      <th>1</th>\n",
       "      <td>life_sq</td>\n",
       "      <td>3582.166644</td>\n",
       "      <td>0.000000e+00</td>\n",
       "    </tr>\n",
       "    <tr>\n",
       "      <th>2</th>\n",
       "      <td>floor</td>\n",
       "      <td>140.848969</td>\n",
       "      <td>4.160796e-32</td>\n",
       "    </tr>\n",
       "    <tr>\n",
       "      <th>3</th>\n",
       "      <td>max_floor</td>\n",
       "      <td>313.653745</td>\n",
       "      <td>2.370790e-68</td>\n",
       "    </tr>\n",
       "    <tr>\n",
       "      <th>4</th>\n",
       "      <td>material</td>\n",
       "      <td>313.894157</td>\n",
       "      <td>2.114818e-68</td>\n",
       "    </tr>\n",
       "    <tr>\n",
       "      <th>6</th>\n",
       "      <td>num_room</td>\n",
       "      <td>1667.570053</td>\n",
       "      <td>9.414421e-320</td>\n",
       "    </tr>\n",
       "    <tr>\n",
       "      <th>19</th>\n",
       "      <td>metro_min_avto</td>\n",
       "      <td>115.748364</td>\n",
       "      <td>9.771364e-27</td>\n",
       "    </tr>\n",
       "    <tr>\n",
       "      <th>20</th>\n",
       "      <td>metro_km_avto</td>\n",
       "      <td>118.172945</td>\n",
       "      <td>2.949748e-27</td>\n",
       "    </tr>\n",
       "    <tr>\n",
       "      <th>21</th>\n",
       "      <td>metro_min_walk</td>\n",
       "      <td>118.793178</td>\n",
       "      <td>2.171547e-27</td>\n",
       "    </tr>\n",
       "    <tr>\n",
       "      <th>22</th>\n",
       "      <td>metro_km_walk</td>\n",
       "      <td>118.793178</td>\n",
       "      <td>2.171547e-27</td>\n",
       "    </tr>\n",
       "    <tr>\n",
       "      <th>24</th>\n",
       "      <td>kremlin_km</td>\n",
       "      <td>326.650842</td>\n",
       "      <td>4.958904e-71</td>\n",
       "    </tr>\n",
       "    <tr>\n",
       "      <th>25</th>\n",
       "      <td>office_count_1000</td>\n",
       "      <td>470.110273</td>\n",
       "      <td>3.287005e-100</td>\n",
       "    </tr>\n",
       "    <tr>\n",
       "      <th>26</th>\n",
       "      <td>trc_count_1000</td>\n",
       "      <td>123.203952</td>\n",
       "      <td>2.462634e-28</td>\n",
       "    </tr>\n",
       "    <tr>\n",
       "      <th>27</th>\n",
       "      <td>leisure_count_1000</td>\n",
       "      <td>291.336946</td>\n",
       "      <td>9.777497e-64</td>\n",
       "    </tr>\n",
       "    <tr>\n",
       "      <th>30</th>\n",
       "      <td>leisure_trc_office_1000</td>\n",
       "      <td>519.366690</td>\n",
       "      <td>4.577961e-110</td>\n",
       "    </tr>\n",
       "    <tr>\n",
       "      <th>31</th>\n",
       "      <td>metro_km</td>\n",
       "      <td>118.934925</td>\n",
       "      <td>2.024757e-27</td>\n",
       "    </tr>\n",
       "  </tbody>\n",
       "</table>\n",
       "</div>\n",
       "      <button class=\"colab-df-convert\" onclick=\"convertToInteractive('df-0613c28d-be2c-4630-8b58-640b8c816577')\"\n",
       "              title=\"Convert this dataframe to an interactive table.\"\n",
       "              style=\"display:none;\">\n",
       "        \n",
       "  <svg xmlns=\"http://www.w3.org/2000/svg\" height=\"24px\"viewBox=\"0 0 24 24\"\n",
       "       width=\"24px\">\n",
       "    <path d=\"M0 0h24v24H0V0z\" fill=\"none\"/>\n",
       "    <path d=\"M18.56 5.44l.94 2.06.94-2.06 2.06-.94-2.06-.94-.94-2.06-.94 2.06-2.06.94zm-11 1L8.5 8.5l.94-2.06 2.06-.94-2.06-.94L8.5 2.5l-.94 2.06-2.06.94zm10 10l.94 2.06.94-2.06 2.06-.94-2.06-.94-.94-2.06-.94 2.06-2.06.94z\"/><path d=\"M17.41 7.96l-1.37-1.37c-.4-.4-.92-.59-1.43-.59-.52 0-1.04.2-1.43.59L10.3 9.45l-7.72 7.72c-.78.78-.78 2.05 0 2.83L4 21.41c.39.39.9.59 1.41.59.51 0 1.02-.2 1.41-.59l7.78-7.78 2.81-2.81c.8-.78.8-2.07 0-2.86zM5.41 20L4 18.59l7.72-7.72 1.47 1.35L5.41 20z\"/>\n",
       "  </svg>\n",
       "      </button>\n",
       "      \n",
       "  <style>\n",
       "    .colab-df-container {\n",
       "      display:flex;\n",
       "      flex-wrap:wrap;\n",
       "      gap: 12px;\n",
       "    }\n",
       "\n",
       "    .colab-df-convert {\n",
       "      background-color: #E8F0FE;\n",
       "      border: none;\n",
       "      border-radius: 50%;\n",
       "      cursor: pointer;\n",
       "      display: none;\n",
       "      fill: #1967D2;\n",
       "      height: 32px;\n",
       "      padding: 0 0 0 0;\n",
       "      width: 32px;\n",
       "    }\n",
       "\n",
       "    .colab-df-convert:hover {\n",
       "      background-color: #E2EBFA;\n",
       "      box-shadow: 0px 1px 2px rgba(60, 64, 67, 0.3), 0px 1px 3px 1px rgba(60, 64, 67, 0.15);\n",
       "      fill: #174EA6;\n",
       "    }\n",
       "\n",
       "    [theme=dark] .colab-df-convert {\n",
       "      background-color: #3B4455;\n",
       "      fill: #D2E3FC;\n",
       "    }\n",
       "\n",
       "    [theme=dark] .colab-df-convert:hover {\n",
       "      background-color: #434B5C;\n",
       "      box-shadow: 0px 1px 3px 1px rgba(0, 0, 0, 0.15);\n",
       "      filter: drop-shadow(0px 1px 2px rgba(0, 0, 0, 0.3));\n",
       "      fill: #FFFFFF;\n",
       "    }\n",
       "  </style>\n",
       "\n",
       "      <script>\n",
       "        const buttonEl =\n",
       "          document.querySelector('#df-0613c28d-be2c-4630-8b58-640b8c816577 button.colab-df-convert');\n",
       "        buttonEl.style.display =\n",
       "          google.colab.kernel.accessAllowed ? 'block' : 'none';\n",
       "\n",
       "        async function convertToInteractive(key) {\n",
       "          const element = document.querySelector('#df-0613c28d-be2c-4630-8b58-640b8c816577');\n",
       "          const dataTable =\n",
       "            await google.colab.kernel.invokeFunction('convertToInteractive',\n",
       "                                                     [key], {});\n",
       "          if (!dataTable) return;\n",
       "\n",
       "          const docLinkHtml = 'Like what you see? Visit the ' +\n",
       "            '<a target=\"_blank\" href=https://colab.research.google.com/notebooks/data_table.ipynb>data table notebook</a>'\n",
       "            + ' to learn more about interactive tables.';\n",
       "          element.innerHTML = '';\n",
       "          dataTable['output_type'] = 'display_data';\n",
       "          await google.colab.output.renderOutput(dataTable, element);\n",
       "          const docLink = document.createElement('div');\n",
       "          docLink.innerHTML = docLinkHtml;\n",
       "          element.appendChild(docLink);\n",
       "        }\n",
       "      </script>\n",
       "    </div>\n",
       "  </div>\n",
       "  "
      ],
      "text/plain": [
       "                   features  f_statistic       p_values\n",
       "0                   full_sq  4902.663907   0.000000e+00\n",
       "1                   life_sq  3582.166644   0.000000e+00\n",
       "2                     floor   140.848969   4.160796e-32\n",
       "3                 max_floor   313.653745   2.370790e-68\n",
       "4                  material   313.894157   2.114818e-68\n",
       "6                  num_room  1667.570053  9.414421e-320\n",
       "19           metro_min_avto   115.748364   9.771364e-27\n",
       "20            metro_km_avto   118.172945   2.949748e-27\n",
       "21           metro_min_walk   118.793178   2.171547e-27\n",
       "22            metro_km_walk   118.793178   2.171547e-27\n",
       "24               kremlin_km   326.650842   4.958904e-71\n",
       "25        office_count_1000   470.110273  3.287005e-100\n",
       "26           trc_count_1000   123.203952   2.462634e-28\n",
       "27       leisure_count_1000   291.336946   9.777497e-64\n",
       "30  leisure_trc_office_1000   519.366690  4.577961e-110\n",
       "31                 metro_km   118.934925   2.024757e-27"
      ]
     },
     "execution_count": 161,
     "metadata": {},
     "output_type": "execute_result"
    }
   ],
   "source": [
    "feature_stats_df[feature_stats_df['f_statistic'] > 100]"
   ]
  },
  {
   "cell_type": "code",
   "execution_count": 177,
   "metadata": {
    "id": "VEWDRtLky03_"
   },
   "outputs": [],
   "source": [
    "# берем переменные, отобранные по f_statistic\n",
    "Xs = housing[['full_sq', 'floor', 'material', 'num_room',\n",
    "              'kremlin_km', 'office_count_1000', 'trc_count_1000', 'leisure_count_1000']]\n",
    "y = housing['price_doc']\n",
    "Xs_train, Xs_test, y_train, y_test = train_test_split(Xs, y, test_size=0.30, \n",
    "                                                    random_state=my_random_state)"
   ]
  },
  {
   "cell_type": "code",
   "execution_count": 178,
   "metadata": {
    "colab": {
     "base_uri": "https://localhost:8080/"
    },
    "id": "MN42RdTAzLns",
    "outputId": "26a1b391-3430-46a4-f190-1a5490b5d2e4"
   },
   "outputs": [
    {
     "data": {
      "text/plain": [
       "LinearRegression()"
      ]
     },
     "execution_count": 178,
     "metadata": {},
     "output_type": "execute_result"
    }
   ],
   "source": [
    "# создание и обчение модели\n",
    "reg_4 = LinearRegression(fit_intercept=True)\n",
    "reg_4.fit(Xs_train, y_train)"
   ]
  },
  {
   "cell_type": "code",
   "execution_count": 179,
   "metadata": {
    "colab": {
     "base_uri": "https://localhost:8080/"
    },
    "id": "HRPL-5oWzQJw",
    "outputId": "9082471e-aa57-4935-8e7b-ecb434b8b2f4"
   },
   "outputs": [
    {
     "name": "stdout",
     "output_type": "stream",
     "text": [
      "intercept                               364178.39592\n",
      "full_sq                       :         188859.82803\n",
      "floor                         :           32066.3686\n",
      "material                      :          233360.4302\n",
      "num_room                      :        -759663.98653\n",
      "kremlin_km                    :        -125487.14308\n",
      "office_count_1000             :            49729.267\n",
      "trc_count_1000                :         134502.69443\n",
      "leisure_count_1000            :         224370.35875\n"
     ]
    }
   ],
   "source": [
    "print(f'intercept {str(round(reg_4.intercept_, 5)).rjust(42)}')\n",
    "for coef, col in zip(reg_4.coef_, Xs_train.columns):\n",
    "    print(f'{str(col).ljust(30)}: {str(round(coef, 5)).rjust(20)}')"
   ]
  },
  {
   "cell_type": "code",
   "execution_count": 180,
   "metadata": {
    "colab": {
     "base_uri": "https://localhost:8080/"
    },
    "id": "b_cRcNPKzWA1",
    "outputId": "19cefe68-4a87-47a4-8e51-c00df3e97ebd"
   },
   "outputs": [
    {
     "data": {
      "text/plain": [
       "0.54236"
      ]
     },
     "execution_count": 180,
     "metadata": {},
     "output_type": "execute_result"
    }
   ],
   "source": [
    "# R^2 на обучающей выборке\n",
    "round(reg_4.score(Xs_train, y_train), 5)"
   ]
  },
  {
   "cell_type": "code",
   "execution_count": 181,
   "metadata": {
    "colab": {
     "base_uri": "https://localhost:8080/"
    },
    "id": "dIitKHb5zcO8",
    "outputId": "eaf66827-1d2b-4c6c-f74f-d26ba448e900"
   },
   "outputs": [
    {
     "name": "stdout",
     "output_type": "stream",
     "text": [
      "MSE модели: 9701127459998.916\n",
      "MAE модели: 1956421.10173\n",
      "MAPE модели: 59.87 %\n",
      "R^2 модели: 0.5749\n"
     ]
    }
   ],
   "source": [
    "# прогноз\n",
    "y_pred = reg_4.predict(Xs_test)\n",
    "\n",
    "# ошибка прогноза\n",
    "mse = mean_squared_error(y_test, y_pred)\n",
    "mae = mean_absolute_error(y_test, y_pred)\n",
    "mape = mean_absolute_percentage_error(y_test, y_pred)\n",
    "\n",
    "# R^2 на тестовой выборке\n",
    "r2 = r2_score(y_test, y_pred)\n",
    "\n",
    "print('MSE модели:', round(mse, 5))\n",
    "print('MAE модели:', round(mae, 5))\n",
    "print('MAPE модели:', round(mape * 100, 2), '%')\n",
    "print('R^2 модели:', round(r2, 5))"
   ]
  },
  {
   "cell_type": "markdown",
   "metadata": {
    "id": "QH4ff7Cag3eu"
   },
   "source": [
    "## Модель гребневой регрессии"
   ]
  },
  {
   "cell_type": "code",
   "execution_count": 182,
   "metadata": {
    "id": "i9D0UfDRg7Bd"
   },
   "outputs": [],
   "source": [
    "# берем переменные, отобранные по f_statistic\n",
    "Xs = housing[['full_sq', 'floor', 'material', 'num_room',\n",
    "              'kremlin_km', 'office_count_1000', 'trc_count_1000', 'leisure_count_1000']]\n",
    "y = housing['price_doc']\n",
    "Xs_train, Xs_test, y_train, y_test = train_test_split(Xs, y, test_size=0.30, \n",
    "                                                    random_state=my_random_state)"
   ]
  },
  {
   "cell_type": "code",
   "execution_count": 194,
   "metadata": {
    "colab": {
     "base_uri": "https://localhost:8080/"
    },
    "id": "-VCOx-V51eBT",
    "outputId": "e84170a5-037e-4801-a00a-e6e504c727d1"
   },
   "outputs": [
    {
     "data": {
      "text/plain": [
       "GridSearchCV(estimator=Ridge(), param_grid={'alpha': array([0, 1])})"
      ]
     },
     "execution_count": 194,
     "metadata": {},
     "output_type": "execute_result"
    }
   ],
   "source": [
    "parameters = {'alpha': np.arange(0, 2)}\n",
    "rid = Ridge(fit_intercept=True)\n",
    "clf = GridSearchCV(rid, param_grid=parameters)\n",
    "clf.fit(Xs_train, y_train)"
   ]
  },
  {
   "cell_type": "code",
   "execution_count": 195,
   "metadata": {
    "colab": {
     "base_uri": "https://localhost:8080/"
    },
    "id": "rWemRdmH0rIk",
    "outputId": "6d1ee361-3ace-44ad-c192-49b989ae747f"
   },
   "outputs": [
    {
     "data": {
      "text/plain": [
       "Ridge(alpha=1)"
      ]
     },
     "execution_count": 195,
     "metadata": {},
     "output_type": "execute_result"
    }
   ],
   "source": [
    "clf.best_estimator_"
   ]
  },
  {
   "cell_type": "code",
   "execution_count": 197,
   "metadata": {
    "colab": {
     "base_uri": "https://localhost:8080/"
    },
    "id": "muxGk84n28_C",
    "outputId": "af300172-5543-416f-d319-55db24042a05"
   },
   "outputs": [
    {
     "data": {
      "text/plain": [
       "Ridge(alpha=1)"
      ]
     },
     "execution_count": 197,
     "metadata": {},
     "output_type": "execute_result"
    }
   ],
   "source": [
    "rid = Ridge(alpha=1, fit_intercept=True)\n",
    "rid.fit(Xs_train, y_train)"
   ]
  },
  {
   "cell_type": "code",
   "execution_count": 198,
   "metadata": {
    "colab": {
     "base_uri": "https://localhost:8080/"
    },
    "id": "Qe9hGTkz3GZr",
    "outputId": "6059dc22-d6b8-451a-e421-30825acabcd8"
   },
   "outputs": [
    {
     "name": "stdout",
     "output_type": "stream",
     "text": [
      "intercept                               363947.37316\n",
      "full_sq                       :         188841.94625\n",
      "floor                         :          32079.24669\n",
      "material                      :         233370.96707\n",
      "num_room                      :         -759140.1619\n",
      "kremlin_km                    :        -125483.34249\n",
      "office_count_1000             :          49738.57754\n",
      "trc_count_1000                :         134494.70303\n",
      "leisure_count_1000            :         224312.40146\n"
     ]
    }
   ],
   "source": [
    "print(f'intercept {str(round(rid.intercept_, 5)).rjust(42)}')\n",
    "for coef, col in zip(rid.coef_, Xs_train.columns):\n",
    "    print(f'{str(col).ljust(30)}: {str(round(coef, 5)).rjust(20)}')"
   ]
  },
  {
   "cell_type": "code",
   "execution_count": 200,
   "metadata": {
    "colab": {
     "base_uri": "https://localhost:8080/"
    },
    "id": "ox5fg4im3Jpf",
    "outputId": "b7e7dc3e-76cb-4c3b-a6f5-7b2e40dbd05a"
   },
   "outputs": [
    {
     "data": {
      "text/plain": [
       "0.54236"
      ]
     },
     "execution_count": 200,
     "metadata": {},
     "output_type": "execute_result"
    }
   ],
   "source": [
    "# R^2 на обучающей выборке\n",
    "round(rid.score(Xs_train, y_train), 5)"
   ]
  },
  {
   "cell_type": "code",
   "execution_count": 201,
   "metadata": {
    "colab": {
     "base_uri": "https://localhost:8080/"
    },
    "id": "Ob9SVJ323M9U",
    "outputId": "5b21a7d6-0da9-4706-be19-5fc67ad6f5ac"
   },
   "outputs": [
    {
     "name": "stdout",
     "output_type": "stream",
     "text": [
      "MSE модели: 9701154562882.771\n",
      "MAE модели: 1956422.89797\n",
      "MAPE модели: 59.87 %\n",
      "R^2 модели: 0.5749\n"
     ]
    }
   ],
   "source": [
    "# прогноз\n",
    "y_pred = rid.predict(Xs_test)\n",
    "\n",
    "# ошибка прогноза\n",
    "mse = mean_squared_error(y_test, y_pred)\n",
    "mae = mean_absolute_error(y_test, y_pred)\n",
    "mape = mean_absolute_percentage_error(y_test, y_pred)\n",
    "\n",
    "# R^2 на тестовой выборке\n",
    "r2 = r2_score(y_test, y_pred)\n",
    "\n",
    "print('MSE модели:', round(mse, 5))\n",
    "print('MAE модели:', round(mae, 5))\n",
    "print('MAPE модели:', round(mape * 100, 2), '%')\n",
    "print('R^2 модели:', round(r2, 5))"
   ]
  },
  {
   "cell_type": "markdown",
   "metadata": {
    "id": "1JHzXpPyg7rv"
   },
   "source": [
    "## Модель лассо регрессии"
   ]
  },
  {
   "cell_type": "code",
   "execution_count": 203,
   "metadata": {
    "id": "NxazbzSxg950"
   },
   "outputs": [],
   "source": [
    "# берем переменные, отобранные по f_statistic\n",
    "Xs = housing[['full_sq', 'floor', 'material', 'num_room',\n",
    "              'kremlin_km', 'office_count_1000', 'trc_count_1000', 'leisure_count_1000']]\n",
    "y = housing['price_doc']\n",
    "Xs_train, Xs_test, y_train, y_test = train_test_split(Xs, y, test_size=0.30, \n",
    "                                                    random_state=my_random_state)"
   ]
  },
  {
   "cell_type": "code",
   "execution_count": 206,
   "metadata": {
    "colab": {
     "base_uri": "https://localhost:8080/"
    },
    "id": "6J6-1Ewf3bKT",
    "outputId": "dbe2bf9f-0423-463e-9338-c998c72db918"
   },
   "outputs": [
    {
     "data": {
      "text/plain": [
       "GridSearchCV(estimator=Ridge(), param_grid={'alpha': array([0, 1])})"
      ]
     },
     "execution_count": 206,
     "metadata": {},
     "output_type": "execute_result"
    }
   ],
   "source": [
    "parameters = {'alpha': np.arange(0, 2)}\n",
    "las = Lasso(fit_intercept=True)\n",
    "clf = GridSearchCV(rid, param_grid=parameters)\n",
    "clf.fit(Xs_train, y_train)"
   ]
  },
  {
   "cell_type": "code",
   "execution_count": 207,
   "metadata": {
    "colab": {
     "base_uri": "https://localhost:8080/"
    },
    "id": "JcSrRNh13dPf",
    "outputId": "179f6b5b-b858-4232-d4ce-40c6122dfdf4"
   },
   "outputs": [
    {
     "data": {
      "text/plain": [
       "Ridge(alpha=1)"
      ]
     },
     "execution_count": 207,
     "metadata": {},
     "output_type": "execute_result"
    }
   ],
   "source": [
    "clf.best_estimator_"
   ]
  },
  {
   "cell_type": "code",
   "execution_count": 208,
   "metadata": {
    "colab": {
     "base_uri": "https://localhost:8080/"
    },
    "id": "WJMsasdq3kfn",
    "outputId": "8ee4ec58-c9bf-4e5a-edaf-62be59d939e8"
   },
   "outputs": [
    {
     "data": {
      "text/plain": [
       "Lasso(alpha=1)"
      ]
     },
     "execution_count": 208,
     "metadata": {},
     "output_type": "execute_result"
    }
   ],
   "source": [
    "las = Lasso(alpha=1, fit_intercept=True)\n",
    "las.fit(Xs_train, y_train)"
   ]
  },
  {
   "cell_type": "code",
   "execution_count": 209,
   "metadata": {
    "colab": {
     "base_uri": "https://localhost:8080/"
    },
    "id": "0vwnNjPT3nKZ",
    "outputId": "9a06db40-dbc5-4099-cad3-2ffe1690705c"
   },
   "outputs": [
    {
     "name": "stdout",
     "output_type": "stream",
     "text": [
      "intercept                               364177.59331\n",
      "full_sq                       :         188859.71142\n",
      "floor                         :          32066.40223\n",
      "material                      :         233359.80244\n",
      "num_room                      :        -759660.30807\n",
      "kremlin_km                    :        -125487.11455\n",
      "office_count_1000             :          49729.45301\n",
      "trc_count_1000                :         134502.42279\n",
      "leisure_count_1000            :         224369.07321\n"
     ]
    }
   ],
   "source": [
    "print(f'intercept {str(round(las.intercept_, 5)).rjust(42)}')\n",
    "for coef, col in zip(las.coef_, Xs_train.columns):\n",
    "    print(f'{str(col).ljust(30)}: {str(round(coef, 5)).rjust(20)}')"
   ]
  },
  {
   "cell_type": "code",
   "execution_count": 210,
   "metadata": {
    "colab": {
     "base_uri": "https://localhost:8080/"
    },
    "id": "ghhg-ijd3rDp",
    "outputId": "7ff86d5d-e179-4f4f-975c-d12ee958741c"
   },
   "outputs": [
    {
     "data": {
      "text/plain": [
       "0.54236"
      ]
     },
     "execution_count": 210,
     "metadata": {},
     "output_type": "execute_result"
    }
   ],
   "source": [
    "# R^2 на обучающей выборке\n",
    "round(las.score(Xs_train, y_train), 5)"
   ]
  },
  {
   "cell_type": "code",
   "execution_count": 211,
   "metadata": {
    "colab": {
     "base_uri": "https://localhost:8080/"
    },
    "id": "6SzU56kO3u4R",
    "outputId": "dc17c72c-e89e-4dcf-f193-af1c5556ad03"
   },
   "outputs": [
    {
     "name": "stdout",
     "output_type": "stream",
     "text": [
      "MSE модели: 9701127801170.111\n",
      "MAE модели: 1956421.03353\n",
      "MAPE модели: 59.87 %\n",
      "R^2 модели: 0.5749\n"
     ]
    }
   ],
   "source": [
    "# прогноз\n",
    "y_pred = las.predict(Xs_test)\n",
    "\n",
    "# ошибка прогноза\n",
    "mse = mean_squared_error(y_test, y_pred)\n",
    "mae = mean_absolute_error(y_test, y_pred)\n",
    "mape = mean_absolute_percentage_error(y_test, y_pred)\n",
    "\n",
    "# R^2 на тестовой выборке\n",
    "r2 = r2_score(y_test, y_pred)\n",
    "\n",
    "print('MSE модели:', round(mse, 5))\n",
    "print('MAE модели:', round(mae, 5))\n",
    "print('MAPE модели:', round(mape * 100, 2), '%')\n",
    "print('R^2 модели:', round(r2, 5))"
   ]
  },
  {
   "cell_type": "markdown",
   "metadata": {
    "id": "_72Ny3_rg-iO"
   },
   "source": [
    "## Модель полиномиальной регрессии"
   ]
  },
  {
   "cell_type": "code",
   "execution_count": 231,
   "metadata": {
    "id": "uinNemcB4gCF"
   },
   "outputs": [],
   "source": [
    "# берем переменные, отобранные по f_statistic\n",
    "Xs = housing[['full_sq', 'floor', 'material', 'num_room',\n",
    "              'kremlin_km', 'office_count_1000', 'trc_count_1000', 'leisure_count_1000']]\n",
    "y = housing['price_doc']\n",
    "Xs_train, Xs_test, y_train, y_test = train_test_split(Xs, y, test_size=0.30, \n",
    "                                                    random_state=my_random_state)"
   ]
  },
  {
   "cell_type": "code",
   "execution_count": 248,
   "metadata": {
    "colab": {
     "base_uri": "https://localhost:8080/"
    },
    "id": "y1FMDqpdhC02",
    "outputId": "7138f859-d2f6-4a30-9861-a755b984e9a7"
   },
   "outputs": [
    {
     "data": {
      "text/plain": [
       "LinearRegression()"
      ]
     },
     "execution_count": 248,
     "metadata": {},
     "output_type": "execute_result"
    }
   ],
   "source": [
    "poly_reg = PolynomialFeatures(degree=2)\n",
    "Xs_poly_train = poly_reg.fit_transform(Xs_train)\n",
    "pol_reg = LinearRegression(fit_intercept=True)\n",
    "pol_reg.fit(Xs_poly_train, y_train)"
   ]
  },
  {
   "cell_type": "code",
   "execution_count": 249,
   "metadata": {
    "colab": {
     "base_uri": "https://localhost:8080/"
    },
    "id": "zXVRzpgj4pzI",
    "outputId": "eb7be29b-6b94-4f92-abf8-f512a54d5a74"
   },
   "outputs": [
    {
     "name": "stdout",
     "output_type": "stream",
     "text": [
      "intercept                              1163379.82709\n",
      "full_sq                       :                  0.0\n",
      "floor                         :           241153.345\n",
      "material                      :          78256.72987\n",
      "num_room                      :        -517467.81917\n",
      "kremlin_km                    :       -2162077.51268\n",
      "office_count_1000             :         -97236.10103\n",
      "trc_count_1000                :            27788.737\n",
      "leisure_count_1000            :        -236359.84959\n"
     ]
    }
   ],
   "source": [
    "print(f'intercept {str(round(pol_reg.intercept_, 5)).rjust(42)}')\n",
    "for coef, col in zip(pol_reg.coef_, Xs_train.columns):\n",
    "    print(f'{str(col).ljust(30)}: {str(round(coef, 5)).rjust(20)}')"
   ]
  },
  {
   "cell_type": "code",
   "execution_count": 250,
   "metadata": {
    "colab": {
     "base_uri": "https://localhost:8080/"
    },
    "id": "KSjiYiIe4yqP",
    "outputId": "751798e9-9dc0-4224-9510-08a5226ad525"
   },
   "outputs": [
    {
     "data": {
      "text/plain": [
       "0.58931"
      ]
     },
     "execution_count": 250,
     "metadata": {},
     "output_type": "execute_result"
    }
   ],
   "source": [
    "# R^2 на обучающей выборке\n",
    "round(pol_reg.score(Xs_poly_train, y_train), 5)"
   ]
  },
  {
   "cell_type": "code",
   "execution_count": 251,
   "metadata": {
    "colab": {
     "base_uri": "https://localhost:8080/"
    },
    "id": "ybWbcfwn5AHx",
    "outputId": "c56f9585-f4b4-46e0-c45f-083ff177bb0d"
   },
   "outputs": [
    {
     "name": "stdout",
     "output_type": "stream",
     "text": [
      "MSE модели: 8719986740223.4795\n",
      "MAE модели: 1915630.84086\n",
      "MAPE модели: 58.36 %\n",
      "R^2 модели: 0.6179\n"
     ]
    }
   ],
   "source": [
    "# прогноз\n",
    "y_pred = pol_reg.predict(poly_reg.fit_transform(Xs_test))\n",
    "\n",
    "# ошибка прогноза\n",
    "mse = mean_squared_error(y_test, y_pred)\n",
    "mae = mean_absolute_error(y_test, y_pred)\n",
    "mape = mean_absolute_percentage_error(y_test, y_pred)\n",
    "\n",
    "# R^2 на тестовой выборке\n",
    "r2 = r2_score(y_test, y_pred)\n",
    "\n",
    "print('MSE модели:', round(mse, 5))\n",
    "print('MAE модели:', round(mae, 5))\n",
    "print('MAPE модели:', round(mape * 100, 2), '%')\n",
    "print('R^2 модели:', round(r2, 5))"
   ]
  }
 ],
 "metadata": {
  "colab": {
   "collapsed_sections": [
    "xMzS4lUzjAby",
    "KOyQhilP5QH3",
    "XYEuuYK65Uso",
    "ELqHExaT5aug",
    "D97JP5Uo5hwS",
    "DGDFZF5VlGcO",
    "0mMRp-gOGMgM",
    "eHXx9kPTqPTG",
    "Js0iz-6LtU3b",
    "BxBVDVAjtwLk",
    "428jCerkIOUK",
    "CNYkfsm0jwxF",
    "Vm-JNCayguTi",
    "bFBVpcG8gz0u",
    "SZLciLBXtYWM",
    "S3EExnrPu0Wk",
    "QH4ff7Cag3eu",
    "1JHzXpPyg7rv",
    "_72Ny3_rg-iO"
   ],
   "provenance": []
  },
  "kernelspec": {
   "display_name": "Python 3 (ipykernel)",
   "language": "python",
   "name": "python3"
  },
  "language_info": {
   "codemirror_mode": {
    "name": "ipython",
    "version": 3
   },
   "file_extension": ".py",
   "mimetype": "text/x-python",
   "name": "python",
   "nbconvert_exporter": "python",
   "pygments_lexer": "ipython3",
   "version": "3.9.6"
  }
 },
 "nbformat": 4,
 "nbformat_minor": 1
}
